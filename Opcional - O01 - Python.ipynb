{
 "cells": [
  {
   "cell_type": "markdown",
   "id": "04008c94-b9f8-4688-b5fd-c8e9b991a879",
   "metadata": {},
   "source": [
    "# Opcional - O01 - Python\n",
    "\n",
    "Terezza Marianne González Jáuregui\n",
    "\n",
    "29/08/2024\n",
    "\n",
    "### **No me califique, los seguiré haciendo para practicar o ver como se hace o otra forma, si estoy investigando y con ayuda.**"
   ]
  },
  {
   "cell_type": "markdown",
   "id": "782813c3-27e9-4cba-a55d-fc71e5d58eae",
   "metadata": {},
   "source": [
    "## **Ejercicio 1.**\r\n",
    "\r\n",
    "En una empresa el salario de un empleado se calcula de la siguiente manera:* \r\n",
    "\r\n",
    "500 USD mensual* es.\r\n",
    "20 USD adicionales por cada año de antigüe* dad.\r\n",
    "15 USD de apoyo gubernamental por cada dependi* ente.\r\n",
    "100 USD si no hubo ausencias injustifi\n",
    "cadas.\r\n",
    "Escribe una función que reciba la antigüedad del empleado y su cantidad de dependientes como número entero, y la confirmación de asistencia como booleano. Si se ingresa un tipo de dato en una variable diferente al esperado la función debe regresar \"Error. Revisar entradas.\"\r\n",
    "\r\n",
    "La función, en caso que las variables sean ingresadas de manera correcta, debe \"El salario total es xxx: 500 de salario mínimo + yy por y años de experiencia + zz por z dependientes + 100 por no inasistencias.\"sistencias.\""
   ]
  },
  {
   "cell_type": "markdown",
   "id": "4041744d-7bbc-49bf-823b-e2cbf13a3fe5",
   "metadata": {},
   "source": [
    "$Código$"
   ]
  },
  {
   "cell_type": "code",
   "execution_count": 77,
   "id": "a4e2d6eb-5e46-4c3f-88ea-98ce0030d37d",
   "metadata": {},
   "outputs": [
    {
     "name": "stdin",
     "output_type": "stream",
     "text": [
      "Años de experiencia:  2\n",
      "Cantidad de dependientes:  3\n",
      "¿No hubo ausencias injustificadas? (si/no):  si\n"
     ]
    },
    {
     "name": "stdout",
     "output_type": "stream",
     "text": [
      "El salario total es $685: $500 de salario mínimo + $40 por 2 años de experiencia + $45 por 3 dependientes + $100 por no inasistencias.\n"
     ]
    }
   ],
   "source": [
    "def salario (años, depen, ausencias):\n",
    "    if isinstance(años, int) and isinstance(depen, int) and isinstance(ausencias, bool): #para verificar si un objeto es de un tipo de dato específico.\n",
    "        salario_base = 500\n",
    "        salario_años = 20 * años\n",
    "        salario_depen = 15 * depen\n",
    "        if ausencias:\n",
    "            salario_total = salario_base + salario_años + salario_depen + 100\n",
    "            print(f\"El salario total es ${salario_total}: $500 de salario mínimo + ${salario_años} por {años} años de experiencia + ${salario_depen} por {depen} dependientes + $100 por no inasistencias.\")\n",
    "        else:\n",
    "            salario_total = salario_base + salario_antiguedad + salario_dependientes\n",
    "            print(f\"El salario total es ${salario_total}: $500 de salario mínimo + ${salario_años} por {años} años de experiencia + ${salario_depen} por {depen} dependientes.\")\n",
    "    else:\n",
    "        print (\"Error. Revisar entradas.\")\n",
    "\n",
    "años= int(input(\"Años de experiencia: \"))\n",
    "depen = int(input(\"Cantidad de dependientes: \"))\n",
    "ausencias= input(\"¿No hubo ausencias injustificadas? (si/no): \").strip().lower() == \"si\" # .strip().lower(), hace que todo sea en minusculas y sin espacios\n",
    "\n",
    "salario(años, depen, ausencias)"
   ]
  },
  {
   "cell_type": "code",
   "execution_count": null,
   "id": "f84ae88c-39b2-40cd-bc09-0fa81f1fbbfc",
   "metadata": {},
   "outputs": [],
   "source": []
  },
  {
   "cell_type": "markdown",
   "id": "97afd069-fffc-494b-b357-970b0a68da37",
   "metadata": {},
   "source": [
    "## **Ejercicio 2**\n",
    "\n",
    "Escribe una función que recibe un número entero de 3 cifras y que responda de la siguiente manera:\n",
    "\n",
    "* El número tiene x centenas\n",
    "* El número tiene y decenas\n",
    "* El número tiene z unidades"
   ]
  },
  {
   "cell_type": "markdown",
   "id": "b4901d10-8a19-4d5b-b4ec-3d902ade55be",
   "metadata": {},
   "source": [
    "$Código$"
   ]
  },
  {
   "cell_type": "code",
   "execution_count": 62,
   "id": "dbc1c318-72bf-4e1e-bf07-b3a906c11c84",
   "metadata": {},
   "outputs": [
    {
     "name": "stdin",
     "output_type": "stream",
     "text": [
      "Escribe número entero de 3 cifras:  234\n"
     ]
    },
    {
     "name": "stdout",
     "output_type": "stream",
     "text": [
      "El número tiene 2 centenas, 3 decenas y 4 unidades.\n"
     ]
    }
   ],
   "source": [
    "def descomponer_numero(numero):\n",
    "    if 100 <= numero <= 999:  # Verifica que el número tenga 3 cifras\n",
    "        centenas = numero // 100\n",
    "        decenas = (numero // 10) % 10\n",
    "        unidades = numero % 10\n",
    "        return f\"El número tiene {centenas} centenas, {decenas} decenas y {unidades} unidades.\"\n",
    "    else:\n",
    "        return \"Por favor, ingrese un número entero de 3 cifras.\"\n",
    "\n",
    "# Ejemplo de uso\n",
    "resultado = descomponer_numero(int(input(\"Escribe número entero de 3 cifras: \")))\n",
    "print(resultado)"
   ]
  },
  {
   "cell_type": "code",
   "execution_count": null,
   "id": "bc0d950a-7be8-4d43-ac46-171f2894687f",
   "metadata": {},
   "outputs": [],
   "source": []
  },
  {
   "cell_type": "markdown",
   "id": "bd04abff-0fbe-4256-9a81-83bb7aa4f443",
   "metadata": {},
   "source": [
    "## **Ejercicio 3.**\n",
    "\n",
    "En un cibercafé hay 2 formas de cobrar a un cliente. Se cobra 10 pesos la hora si el cliente está registrado como miembro, y 25 si no. Además, el impuesto cobrado a un miembro es del 10% y a un no miembro de 20%.\n",
    "\n",
    "Los clientes registrados como miembros son:\n",
    "\n",
    "* Magnolia\n",
    "* Pedro\n",
    "* Iván\n",
    "* Sabrina\n",
    "* Montserrat\n",
    "* Miguel\n",
    "\n",
    "Escribe una función que reciba como entrada:\n",
    "\n",
    "Cuántas horas estuvo el cliente usando el equipo.\n",
    "El nombre del cliente\n",
    "La función debe buscar al cliente en la base de datos para saber si es miembro, y debe imprimir:\n",
    "\n",
    "\"El usuario (no) es un miembro y estuvo (x) horas + el impuesto del (y)%. Total: 'zzz'.\""
   ]
  },
  {
   "cell_type": "markdown",
   "id": "ddd94182-d8ae-4b4e-8fdc-d64437cecb68",
   "metadata": {},
   "source": [
    "$Código$"
   ]
  },
  {
   "cell_type": "code",
   "execution_count": null,
   "id": "f714962e-0f48-46ce-b9dd-a80c2794c3dd",
   "metadata": {},
   "outputs": [],
   "source": []
  }
 ],
 "metadata": {
  "kernelspec": {
   "display_name": "Python 3 (ipykernel)",
   "language": "python",
   "name": "python3"
  },
  "language_info": {
   "codemirror_mode": {
    "name": "ipython",
    "version": 3
   },
   "file_extension": ".py",
   "mimetype": "text/x-python",
   "name": "python",
   "nbconvert_exporter": "python",
   "pygments_lexer": "ipython3",
   "version": "3.12.4"
  }
 },
 "nbformat": 4,
 "nbformat_minor": 5
}
