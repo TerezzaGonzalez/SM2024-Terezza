{
 "cells": [
  {
   "cell_type": "markdown",
   "id": "a284062e-1a68-43ef-b4c0-b24101609724",
   "metadata": {},
   "source": [
    "#Markdown"
   ]
  },
  {
   "cell_type": "markdown",
   "id": "d5fcfbb5-2091-4712-ba2b-a768beea3aba",
   "metadata": {},
   "source": [
    "1+1"
   ]
  },
  {
   "cell_type": "code",
   "execution_count": 11,
   "id": "78f1c70f-a993-408f-ba60-03edede3932a",
   "metadata": {},
   "outputs": [
    {
     "data": {
      "text/plain": [
       "2"
      ]
     },
     "execution_count": 11,
     "metadata": {},
     "output_type": "execute_result"
    }
   ],
   "source": [
    "1+1"
   ]
  },
  {
   "cell_type": "markdown",
   "id": "086e1b26-a571-43ce-8ccf-9ab9f176619c",
   "metadata": {},
   "source": [
    "## lista"
   ]
  },
  {
   "cell_type": "markdown",
   "id": "86686681-9565-48fd-b05c-57b0f866009a",
   "metadata": {},
   "source": [
    "kdkdf"
   ]
  },
  {
   "cell_type": "markdown",
   "id": "9e3a2304-7568-40c8-b8b7-5be404cd32cc",
   "metadata": {},
   "source": [
    "* Viñetas\n",
    "* para hacer listas\n",
    "    * Sublistas $8.5$"
   ]
  },
  {
   "cell_type": "code",
   "execution_count": null,
   "id": "5861996e-46ce-4d95-8ba0-3f3baec624ef",
   "metadata": {},
   "outputs": [],
   "source": []
  },
  {
   "cell_type": "markdown",
   "id": "db4231e9-cbe2-434d-b134-f139ff63c0d2",
   "metadata": {},
   "source": [
    "$$ \\frac {3}{6} $$"
   ]
  },
  {
   "cell_type": "code",
   "execution_count": null,
   "id": "34a7b9ae-ef28-4ee8-8ce0-3a27a39d71fd",
   "metadata": {},
   "outputs": [],
   "source": []
  },
  {
   "cell_type": "markdown",
   "id": "2ae90ec6-f888-42b3-bdef-f5d4b7360f61",
   "metadata": {},
   "source": [
    "1. LISTAS\n",
    "2. LS\n",
    "3. L"
   ]
  },
  {
   "cell_type": "markdown",
   "id": "fa387304-11c5-4d42-9a24-68e9c834476d",
   "metadata": {},
   "source": [
    "Pasar de code a markdown m, de markdown a code y"
   ]
  },
  {
   "cell_type": "markdown",
   "id": "e02039a0-8eba-42fb-8952-4479a04e963e",
   "metadata": {},
   "source": [
    "\\emph {intento}"
   ]
  },
  {
   "cell_type": "code",
   "execution_count": null,
   "id": "4c827e42-8bac-4ed9-ac1d-0341bf7d8829",
   "metadata": {},
   "outputs": [],
   "source": []
  }
 ],
 "metadata": {
  "kernelspec": {
   "display_name": "Python 3 (ipykernel)",
   "language": "python",
   "name": "python3"
  },
  "language_info": {
   "codemirror_mode": {
    "name": "ipython",
    "version": 3
   },
   "file_extension": ".py",
   "mimetype": "text/x-python",
   "name": "python",
   "nbconvert_exporter": "python",
   "pygments_lexer": "ipython3",
   "version": "3.12.4"
  }
 },
 "nbformat": 4,
 "nbformat_minor": 5
}
