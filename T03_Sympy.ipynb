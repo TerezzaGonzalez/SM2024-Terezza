{
 "cells": [
  {
   "cell_type": "markdown",
   "id": "df7f0f27-f415-4170-9fca-bf4436c80f8c",
   "metadata": {},
   "source": [
    "# T03_Sympy\n",
    "\n",
    "Terezza Marianne González Jáuregui\n",
    "\n",
    "05 de Septiembre del 2024"
   ]
  },
  {
   "cell_type": "markdown",
   "id": "ea887f7d-37c2-454e-885d-2036a3f43608",
   "metadata": {},
   "source": [
    "**1. El perímetro de un triángulo isósceles es de 20 cm. Imagina que este triángulo rota centrado en su eje de simetría para formar la ilusión de un cono.¿Cuánto deben medir sus lados para que el volumen generado por la rotación sea el mayor posible?****"
   ]
  },
  {
   "cell_type": "code",
   "execution_count": 12,
   "id": "b74c751b-e291-4ed0-adf0-5221f1a8d791",
   "metadata": {},
   "outputs": [
    {
     "data": {
      "text/plain": [
       "(6.00000000000000, 8.00000000000000)"
      ]
     },
     "execution_count": 12,
     "metadata": {},
     "output_type": "execute_result"
    }
   ],
   "source": [
    "import sympy as sp\n",
    "sp.var(\"a\")\n",
    "sp.var(\"b\")\n",
    "\n",
    "P = 2*a + b - 20 # El perímetro\n",
    "h = sp.sqrt(a**2 - (b/2)**2) #Altura Pitágoras\n",
    "V = (1/3) * sp.pi * (b/2)**2 * h # Volumen cono\n",
    "\n",
    "b_sol = sp.solve(P, b)[0]# Resolvemos b para Perímetro\n",
    "Vol = V.subs(b, b_sol)# Sustituyendo nueva respuesta de b en el volumen\n",
    "dV = sp.diff(Vol, a)\n",
    "\n",
    "# Encontramos el PC max\n",
    "a_critico = sp.solve(dV, a)[0] \n",
    "b_critico = b_sol.subs(a, a_critico)\n",
    "\n",
    "a_critico, b_critico"
   ]
  },
  {
   "cell_type": "markdown",
   "id": "079bde38-9dbd-4a9d-b275-a156b0f90402",
   "metadata": {},
   "source": [
    "**2. Disponemos de una barra de aluminio de 6 metros para construir una portería de fútbol en un parque. Es una portería simple que tendrá sólo dos postes y el travesaño:Si queremos que el área de la portería sea máxima, ¿cuánto deben medir los postes y el travesaño?**"
   ]
  },
  {
   "cell_type": "code",
   "execution_count": 24,
   "id": "9cce5548-db8b-43b1-a3fe-4b92d9e32b42",
   "metadata": {},
   "outputs": [
    {
     "data": {
      "text/plain": [
       "(3, 3/2)"
      ]
     },
     "execution_count": 24,
     "metadata": {},
     "output_type": "execute_result"
    }
   ],
   "source": [
    "import sympy as sp\n",
    "\n",
    "sp.var(\"a\")\n",
    "sp.var(\"l\")\n",
    "\n",
    "P=2*l+a-6\n",
    "A=l*a\n",
    "\n",
    "l_sol = sp.solve(P, l)[0]# Resolvemos l para Perímetro\n",
    "Área = A.subs(l, l_sol)# Sustituyendo nueva respuesta de l en el área\n",
    "dA = sp.diff(Área, a)\n",
    "\n",
    "# Encontramos el PC max\n",
    "a_critico = sp.solve(dA, a)[0] \n",
    "l_critico = l_sol.subs(a, a_critico)\n",
    "\n",
    "a_critico, l_critico"
   ]
  },
  {
   "cell_type": "markdown",
   "id": "caef3438-21c8-4c91-8bef-28362c08814d",
   "metadata": {},
   "source": [
    "**3. Resistencia de una viga:  Una viga de madera tiene una sección transversal rectangular de altura $h$ y ancho $w$. La resistencia $S$ de la viga es directamente proporcional al ancho y al cuadrado de su altura ($S=kwh^2$, donde $k$ es una constante de proporcionalidad). ¿Cuáles son las dimensiones de la viga más fuerte que puede cortarse a partir de un leño redondo de $24$ pulgadas de diámetro?**"
   ]
  },
  {
   "cell_type": "code",
   "execution_count": 2,
   "id": "337bb35e-d95a-49bc-a08a-4369fa529975",
   "metadata": {},
   "outputs": [
    {
     "data": {
      "text/plain": [
       "(8*sqrt(6), 8*sqrt(3))"
      ]
     },
     "execution_count": 2,
     "metadata": {},
     "output_type": "execute_result"
    }
   ],
   "source": [
    "import sympy as sp\n",
    "\n",
    "sp.var(\"w\")\n",
    "sp.var(\"h\")\n",
    "\n",
    "P=2*w+2*h\n",
    "S=w*h**2 #Quite k por que no dan su valor y como en la 4 creo que es irrelevante\n",
    "Diagonal=h**2+w**2-24**2\n",
    "\n",
    "w_sol = sp.solve(Diagonal, w)[1] #Lo cambie hasta que me diera una respuesta positiva\n",
    "Resistencia = S.subs(w, w_sol)\n",
    "dS = sp.diff(Resistencia, h)\n",
    "\n",
    "# Encontramos el PC max\n",
    "h_critico = sp.solve(dS, h)[2] \n",
    "w_critico = w_sol.subs(h, h_critico)\n",
    "\n",
    "h_critico, w_critico"
   ]
  },
  {
   "cell_type": "markdown",
   "id": "7c77e85d-3997-498b-afc1-dfe46f2d2309",
   "metadata": {},
   "source": [
    "**4. Iluminación:  Una fuente luminosa se localiza sobre el centro de una mesa circular de $4 pies$ de diámetro. Encontrar la altura $h$ de la fuente luminosa de modo tal que la iluminación $I$ en el perímetro de la mesa sea máxima si $I=k(\\sin \\alpha)/s^2$, donde $s$ es la altura oblicua, $\\alpha$ es el ángulo al cual la luz incide sobre la mesa y $k$ es una constante (El valor de esta última constante es irrelevante para el problema, ya que no se pide el valor de la iluminación).**"
   ]
  },
  {
   "cell_type": "code",
   "execution_count": 4,
   "id": "c922b1ce-958a-49c5-863d-d0de0f228413",
   "metadata": {},
   "outputs": [
    {
     "data": {
      "text/latex": [
       "$\\displaystyle 1.4142135623731 i$"
      ],
      "text/plain": [
       "1.4142135623731*I"
      ]
     },
     "execution_count": 4,
     "metadata": {},
     "output_type": "execute_result"
    }
   ],
   "source": [
    "import sympy as sp\n",
    "\n",
    "sp.var(\"h\")\n",
    "\n",
    "I = h/((h**2+4)**0.5)*(h**2+4) #pase todo a h y quite k\n",
    "\n",
    "dI = sp.diff(I, h)\n",
    "\n",
    "CP = sp.solve(dI, h)[1]#Lo cambie hasta que me diera una respuesta positiva\n",
    "CP\n"
   ]
  },
  {
   "cell_type": "code",
   "execution_count": 6,
   "id": "746a9c47-0c55-4f03-978f-01913f0dee66",
   "metadata": {},
   "outputs": [
    {
     "ename": "IndexError",
     "evalue": "list index out of range",
     "output_type": "error",
     "traceback": [
      "\u001b[1;31m---------------------------------------------------------------------------\u001b[0m",
      "\u001b[1;31mIndexError\u001b[0m                                Traceback (most recent call last)",
      "Cell \u001b[1;32mIn[6], line 10\u001b[0m\n\u001b[0;32m      7\u001b[0m I\u001b[38;5;241m=\u001b[39mh\u001b[38;5;241m/\u001b[39ms\u001b[38;5;241m*\u001b[39m\u001b[38;5;241m*\u001b[39m\u001b[38;5;241m3\u001b[39m \u001b[38;5;66;03m#pase el seno de alfa a las variables de h y s y quite k\u001b[39;00m\n\u001b[0;32m      8\u001b[0m hs\u001b[38;5;241m=\u001b[39mh\u001b[38;5;241m*\u001b[39m\u001b[38;5;241m*\u001b[39m\u001b[38;5;241m2\u001b[39m\u001b[38;5;241m+\u001b[39m\u001b[38;5;241m4\u001b[39m \n\u001b[1;32m---> 10\u001b[0m s_sol \u001b[38;5;241m=\u001b[39m sp\u001b[38;5;241m.\u001b[39msolve(hs, s)[\u001b[38;5;241m0\u001b[39m]\n\u001b[0;32m     11\u001b[0m Ilumi \u001b[38;5;241m=\u001b[39m I\u001b[38;5;241m.\u001b[39msubs(s, s_sol)\n\u001b[0;32m     12\u001b[0m dI \u001b[38;5;241m=\u001b[39m sp\u001b[38;5;241m.\u001b[39mdiff(Ilumi, h)\n",
      "\u001b[1;31mIndexError\u001b[0m: list index out of range"
     ]
    }
   ],
   "source": [
    "#Intente de otra forma, pero me dice que esta fuera del rango, supongo que es por la naturaleza del problema\n",
    "import sympy as sp\n",
    "\n",
    "sp.var(\"s\")\n",
    "sp.var(\"h\")\n",
    "\n",
    "I=h/s**3 #pase el seno de alfa a las variables de h y s y quite k\n",
    "hs=h**2+4 \n",
    "\n",
    "s_sol = sp.solve(hs, s)[0]\n",
    "Ilumi = I.subs(s, s_sol)\n",
    "dI = sp.diff(Ilumi, h)\n",
    "\n",
    "# Encontramos el PC max\n",
    "h_critico = sp.solve(dI, h)[0] \n",
    "s_critico = s_sol.subs(h, h_critico)\n",
    "\n",
    "h_critico, s_critico"
   ]
  },
  {
   "cell_type": "markdown",
   "id": "898c32a3-467f-4db6-83c1-f92bf2baf0a1",
   "metadata": {},
   "source": [
    "**5. Fuerza mínima: Se diseña un componente para deslizar un bloque de acero con peso $W=10 N$ a través de una mesa y sobre una canaleta. Se opone al movimiento del bloque una fuerza de fricción proporcional a su peso aparente (sea $k=0.1$ la constante de proporcionalidad). Determinar la fuerza mínima $f$ necesaria para deslizar el bloque y encontrar el valor correspondiente de $\\theta$.\n",
    "Ayudín: $f\\cos \\theta$ es la fuerza de dirección del movimiento, y $f\\sin\\theta$ es la fuerza que tiende a levantar el bloque. De tal modo, el peso aparente del bloque es $W-f\\sin\\theta$.**"
   ]
  },
  {
   "cell_type": "code",
   "execution_count": 18,
   "id": "99d5d054-3a31-4187-b01c-8da0bc0c8b18",
   "metadata": {},
   "outputs": [
    {
     "data": {
      "text/plain": [
       "(0.995037190209989, 0.0996686524911620)"
      ]
     },
     "execution_count": 18,
     "metadata": {},
     "output_type": "execute_result"
    }
   ],
   "source": [
    "import sympy as sp\n",
    "\n",
    "sp.var(\"f\")\n",
    "sp.var(\"theta\")\n",
    "\n",
    "#Datos\n",
    "W = 10  # Peso\n",
    "k = 0.1  # Constante\n",
    "\n",
    "Fuerza = k * (W - f * sp.sin(theta))\n",
    "equilibrio = (f * sp.cos(theta) - Fuerza)\n",
    "\n",
    "f_sol = sp.solve(equilibrio, f)[0]\n",
    "dF = sp.diff(f_sol, theta)\n",
    "theta_critico = sp.solve(dF, theta)\n",
    "f_min = f_sol.subs(theta, theta_critico[0])\n",
    "theta_min = theta_critico[0]\n",
    "\n",
    "f_min, theta_min"
   ]
  },
  {
   "cell_type": "code",
   "execution_count": null,
   "id": "7d1bae5d-5207-4ac4-8503-239e2f1b3cd6",
   "metadata": {},
   "outputs": [],
   "source": []
  }
 ],
 "metadata": {
  "kernelspec": {
   "display_name": "Python 3 (ipykernel)",
   "language": "python",
   "name": "python3"
  },
  "language_info": {
   "codemirror_mode": {
    "name": "ipython",
    "version": 3
   },
   "file_extension": ".py",
   "mimetype": "text/x-python",
   "name": "python",
   "nbconvert_exporter": "python",
   "pygments_lexer": "ipython3",
   "version": "3.12.4"
  }
 },
 "nbformat": 4,
 "nbformat_minor": 5
}
