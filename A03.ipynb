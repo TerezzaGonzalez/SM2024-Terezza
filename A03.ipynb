{
 "cells": [
  {
   "cell_type": "markdown",
   "id": "4b7fbc4a-57ad-40ff-b248-67f602ee7078",
   "metadata": {},
   "source": [
    "# A03-PYTHON "
   ]
  },
  {
   "cell_type": "markdown",
   "id": "8ea0ca92-99bd-4b4c-a5c5-5f10d84dcb8a",
   "metadata": {},
   "source": [
    "Terezza Marianne González Jáuregui\n",
    "\n",
    "26/08/2024"
   ]
  },
  {
   "cell_type": "markdown",
   "id": "454d153a-889b-429e-9062-1cfe25204c9c",
   "metadata": {},
   "source": [
    "1. Toma el archivo datosCT.xlsx y\n",
    "\n",
    "   \r",
    "*  \r\n",
    "calcula la Utilidad (Ingreso - Gasto)\n",
    "* encuentra el promedio de Gastos en los meses que la Utilidad fue negativa\n",
    "* encuentra los ingresos totales del  año"
   ]
  },
  {
   "cell_type": "code",
   "execution_count": 30,
   "id": "0c643ad9-5119-44fb-8ca4-bee408eb475c",
   "metadata": {},
   "outputs": [
    {
     "data": {
      "text/html": [
       "<div>\n",
       "<style scoped>\n",
       "    .dataframe tbody tr th:only-of-type {\n",
       "        vertical-align: middle;\n",
       "    }\n",
       "\n",
       "    .dataframe tbody tr th {\n",
       "        vertical-align: top;\n",
       "    }\n",
       "\n",
       "    .dataframe thead th {\n",
       "        text-align: right;\n",
       "    }\n",
       "</style>\n",
       "<table border=\"1\" class=\"dataframe\">\n",
       "  <thead>\n",
       "    <tr style=\"text-align: right;\">\n",
       "      <th></th>\n",
       "      <th>Unnamed: 0</th>\n",
       "      <th>Ingreso</th>\n",
       "      <th>Gasto</th>\n",
       "    </tr>\n",
       "  </thead>\n",
       "  <tbody>\n",
       "    <tr>\n",
       "      <th>0</th>\n",
       "      <td>Enero</td>\n",
       "      <td>1340</td>\n",
       "      <td>1880</td>\n",
       "    </tr>\n",
       "    <tr>\n",
       "      <th>1</th>\n",
       "      <td>Febrero</td>\n",
       "      <td>2590</td>\n",
       "      <td>3130</td>\n",
       "    </tr>\n",
       "    <tr>\n",
       "      <th>2</th>\n",
       "      <td>Marzo</td>\n",
       "      <td>3570</td>\n",
       "      <td>2140</td>\n",
       "    </tr>\n",
       "    <tr>\n",
       "      <th>3</th>\n",
       "      <td>Abril</td>\n",
       "      <td>4450</td>\n",
       "      <td>3370</td>\n",
       "    </tr>\n",
       "    <tr>\n",
       "      <th>4</th>\n",
       "      <td>Mayo</td>\n",
       "      <td>1330</td>\n",
       "      <td>2990</td>\n",
       "    </tr>\n",
       "    <tr>\n",
       "      <th>5</th>\n",
       "      <td>Junio</td>\n",
       "      <td>1610</td>\n",
       "      <td>1970</td>\n",
       "    </tr>\n",
       "    <tr>\n",
       "      <th>6</th>\n",
       "      <td>Julio</td>\n",
       "      <td>1500</td>\n",
       "      <td>2230</td>\n",
       "    </tr>\n",
       "    <tr>\n",
       "      <th>7</th>\n",
       "      <td>Agosto</td>\n",
       "      <td>2270</td>\n",
       "      <td>1240</td>\n",
       "    </tr>\n",
       "    <tr>\n",
       "      <th>8</th>\n",
       "      <td>Septiembre</td>\n",
       "      <td>1910</td>\n",
       "      <td>1470</td>\n",
       "    </tr>\n",
       "    <tr>\n",
       "      <th>9</th>\n",
       "      <td>Octubre</td>\n",
       "      <td>2120</td>\n",
       "      <td>2280</td>\n",
       "    </tr>\n",
       "    <tr>\n",
       "      <th>10</th>\n",
       "      <td>Noviembre</td>\n",
       "      <td>3950</td>\n",
       "      <td>1870</td>\n",
       "    </tr>\n",
       "    <tr>\n",
       "      <th>11</th>\n",
       "      <td>Diciembre</td>\n",
       "      <td>1380</td>\n",
       "      <td>3140</td>\n",
       "    </tr>\n",
       "  </tbody>\n",
       "</table>\n",
       "</div>"
      ],
      "text/plain": [
       "    Unnamed: 0  Ingreso  Gasto\n",
       "0        Enero     1340   1880\n",
       "1      Febrero     2590   3130\n",
       "2        Marzo     3570   2140\n",
       "3        Abril     4450   3370\n",
       "4         Mayo     1330   2990\n",
       "5        Junio     1610   1970\n",
       "6        Julio     1500   2230\n",
       "7       Agosto     2270   1240\n",
       "8   Septiembre     1910   1470\n",
       "9      Octubre     2120   2280\n",
       "10   Noviembre     3950   1870\n",
       "11   Diciembre     1380   3140"
      ]
     },
     "execution_count": 30,
     "metadata": {},
     "output_type": "execute_result"
    }
   ],
   "source": [
    "import pandas as pd\n",
    "datos = pd.read_excel(\"datosCT.xlsx\")#Llamar un archivo\n",
    "datos"
   ]
  },
  {
   "cell_type": "code",
   "execution_count": 40,
   "id": "0d78d340-6fc5-4b90-b006-3da8cf19811a",
   "metadata": {},
   "outputs": [
    {
     "data": {
      "text/html": [
       "<div>\n",
       "<style scoped>\n",
       "    .dataframe tbody tr th:only-of-type {\n",
       "        vertical-align: middle;\n",
       "    }\n",
       "\n",
       "    .dataframe tbody tr th {\n",
       "        vertical-align: top;\n",
       "    }\n",
       "\n",
       "    .dataframe thead th {\n",
       "        text-align: right;\n",
       "    }\n",
       "</style>\n",
       "<table border=\"1\" class=\"dataframe\">\n",
       "  <thead>\n",
       "    <tr style=\"text-align: right;\">\n",
       "      <th></th>\n",
       "      <th>Unnamed: 0</th>\n",
       "      <th>Ingreso</th>\n",
       "      <th>Gasto</th>\n",
       "      <th>Utilidad</th>\n",
       "    </tr>\n",
       "  </thead>\n",
       "  <tbody>\n",
       "    <tr>\n",
       "      <th>0</th>\n",
       "      <td>Enero</td>\n",
       "      <td>1340</td>\n",
       "      <td>1880</td>\n",
       "      <td>-540</td>\n",
       "    </tr>\n",
       "    <tr>\n",
       "      <th>1</th>\n",
       "      <td>Febrero</td>\n",
       "      <td>2590</td>\n",
       "      <td>3130</td>\n",
       "      <td>-540</td>\n",
       "    </tr>\n",
       "    <tr>\n",
       "      <th>2</th>\n",
       "      <td>Marzo</td>\n",
       "      <td>3570</td>\n",
       "      <td>2140</td>\n",
       "      <td>1430</td>\n",
       "    </tr>\n",
       "    <tr>\n",
       "      <th>3</th>\n",
       "      <td>Abril</td>\n",
       "      <td>4450</td>\n",
       "      <td>3370</td>\n",
       "      <td>1080</td>\n",
       "    </tr>\n",
       "    <tr>\n",
       "      <th>4</th>\n",
       "      <td>Mayo</td>\n",
       "      <td>1330</td>\n",
       "      <td>2990</td>\n",
       "      <td>-1660</td>\n",
       "    </tr>\n",
       "    <tr>\n",
       "      <th>5</th>\n",
       "      <td>Junio</td>\n",
       "      <td>1610</td>\n",
       "      <td>1970</td>\n",
       "      <td>-360</td>\n",
       "    </tr>\n",
       "    <tr>\n",
       "      <th>6</th>\n",
       "      <td>Julio</td>\n",
       "      <td>1500</td>\n",
       "      <td>2230</td>\n",
       "      <td>-730</td>\n",
       "    </tr>\n",
       "    <tr>\n",
       "      <th>7</th>\n",
       "      <td>Agosto</td>\n",
       "      <td>2270</td>\n",
       "      <td>1240</td>\n",
       "      <td>1030</td>\n",
       "    </tr>\n",
       "    <tr>\n",
       "      <th>8</th>\n",
       "      <td>Septiembre</td>\n",
       "      <td>1910</td>\n",
       "      <td>1470</td>\n",
       "      <td>440</td>\n",
       "    </tr>\n",
       "    <tr>\n",
       "      <th>9</th>\n",
       "      <td>Octubre</td>\n",
       "      <td>2120</td>\n",
       "      <td>2280</td>\n",
       "      <td>-160</td>\n",
       "    </tr>\n",
       "    <tr>\n",
       "      <th>10</th>\n",
       "      <td>Noviembre</td>\n",
       "      <td>3950</td>\n",
       "      <td>1870</td>\n",
       "      <td>2080</td>\n",
       "    </tr>\n",
       "    <tr>\n",
       "      <th>11</th>\n",
       "      <td>Diciembre</td>\n",
       "      <td>1380</td>\n",
       "      <td>3140</td>\n",
       "      <td>-1760</td>\n",
       "    </tr>\n",
       "  </tbody>\n",
       "</table>\n",
       "</div>"
      ],
      "text/plain": [
       "    Unnamed: 0  Ingreso  Gasto  Utilidad\n",
       "0        Enero     1340   1880      -540\n",
       "1      Febrero     2590   3130      -540\n",
       "2        Marzo     3570   2140      1430\n",
       "3        Abril     4450   3370      1080\n",
       "4         Mayo     1330   2990     -1660\n",
       "5        Junio     1610   1970      -360\n",
       "6        Julio     1500   2230      -730\n",
       "7       Agosto     2270   1240      1030\n",
       "8   Septiembre     1910   1470       440\n",
       "9      Octubre     2120   2280      -160\n",
       "10   Noviembre     3950   1870      2080\n",
       "11   Diciembre     1380   3140     -1760"
      ]
     },
     "execution_count": 40,
     "metadata": {},
     "output_type": "execute_result"
    }
   ],
   "source": [
    "datos[\"Utilidad\"]=datos[\"Ingreso\"]-datos[\"Gasto\"] #Agregas una columna\n",
    "datos"
   ]
  },
  {
   "cell_type": "code",
   "execution_count": 55,
   "id": "8ab32314-fb76-4c4a-88d2-6bf4938d8eca",
   "metadata": {},
   "outputs": [
    {
     "data": {
      "text/plain": [
       "2517.1428571428573"
      ]
     },
     "execution_count": 55,
     "metadata": {},
     "output_type": "execute_result"
    }
   ],
   "source": [
    "Promedio_Gastos_Filtro=datos[ datos[\"Utilidad\"]<0][\"Gasto\"] #Filtrar \n",
    "Promedio_Gastos= Promedio_Gastos_Filtro.mean() #.mean para sacar el promedio\n",
    "Promedio_Gastos"
   ]
  },
  {
   "cell_type": "code",
   "execution_count": 57,
   "id": "6485d2f3-9551-4c0d-9730-75e76d1a3a3b",
   "metadata": {},
   "outputs": [
    {
     "data": {
      "text/plain": [
       "28020"
      ]
     },
     "execution_count": 57,
     "metadata": {},
     "output_type": "execute_result"
    }
   ],
   "source": [
    "Ingreso_totales=datos[\"Ingreso\"].sum()\n",
    "Ingreso_totales"
   ]
  },
  {
   "cell_type": "code",
   "execution_count": null,
   "id": "c5d9a3aa-edc8-4526-858e-5c2c81823786",
   "metadata": {},
   "outputs": [],
   "source": []
  },
  {
   "cell_type": "markdown",
   "id": "3c4e2ad4-15d2-4491-9e9f-d226b2acbb9a",
   "metadata": {},
   "source": [
    "2. Crea las siguientes estructuras usando numpy:\n",
    "\n",
    " * Encuentra el resultado de Ab"
   ]
  },
  {
   "cell_type": "code",
   "execution_count": 66,
   "id": "2ed4c70d-86ba-4e31-ae51-18fa155fa056",
   "metadata": {},
   "outputs": [
    {
     "data": {
      "text/plain": [
       "array([[1, 2],\n",
       "       [3, 4]])"
      ]
     },
     "execution_count": 66,
     "metadata": {},
     "output_type": "execute_result"
    }
   ],
   "source": [
    "import numpy as np\n",
    "A= np.array([\n",
    "    [1,2],\n",
    "    [3,4]\n",
    "])\n",
    "A"
   ]
  },
  {
   "cell_type": "code",
   "execution_count": 68,
   "id": "fc7b738e-c42a-44ed-9d7c-4592aebc309a",
   "metadata": {},
   "outputs": [
    {
     "data": {
      "text/plain": [
       "array([[2],\n",
       "       [4]])"
      ]
     },
     "execution_count": 68,
     "metadata": {},
     "output_type": "execute_result"
    }
   ],
   "source": [
    "b= np.array([\n",
    "    [2],\n",
    "    [4]\n",
    "])\n",
    "b"
   ]
  },
  {
   "cell_type": "code",
   "execution_count": 74,
   "id": "37d80f70-d2c2-4db9-a6d5-3ec3a8db5579",
   "metadata": {},
   "outputs": [
    {
     "data": {
      "text/plain": [
       "array([[10],\n",
       "       [22]])"
      ]
     },
     "execution_count": 74,
     "metadata": {},
     "output_type": "execute_result"
    }
   ],
   "source": [
    "A @ b #da una matriz de 2x1"
   ]
  },
  {
   "cell_type": "code",
   "execution_count": null,
   "id": "cd04b699-7206-450e-8c32-8d7e440f520d",
   "metadata": {},
   "outputs": [],
   "source": []
  }
 ],
 "metadata": {
  "kernelspec": {
   "display_name": "Python 3 (ipykernel)",
   "language": "python",
   "name": "python3"
  },
  "language_info": {
   "codemirror_mode": {
    "name": "ipython",
    "version": 3
   },
   "file_extension": ".py",
   "mimetype": "text/x-python",
   "name": "python",
   "nbconvert_exporter": "python",
   "pygments_lexer": "ipython3",
   "version": "3.12.4"
  }
 },
 "nbformat": 4,
 "nbformat_minor": 5
}
