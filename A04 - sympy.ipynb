{
 "cells": [
  {
   "cell_type": "markdown",
   "id": "008c6202-b8eb-4a9f-9b2c-ad655c801e2b",
   "metadata": {},
   "source": [
    "## A04 - sympy\n",
    "Terezza Marianne González Jáuregui\n",
    "\n",
    "29/08/2024"
   ]
  },
  {
   "cell_type": "markdown",
   "id": "4cc2ac00-096b-4bf5-994e-fc83d959b394",
   "metadata": {},
   "source": [
    "**1. Utiliza sympy y encuentra los valores de las incógnitas que hagan que los siguientes sistemas de ecuaciones sean verdaderos:**"
   ]
  },
  {
   "cell_type": "markdown",
   "id": "a7befadf-e4ab-49f4-96a5-82b6d9aa0cc7",
   "metadata": {},
   "source": [
    "$$ x+y=10 $$\n",
    "$$ x-y=2 $$"
   ]
  },
  {
   "cell_type": "code",
   "execution_count": 3,
   "id": "cca6b635-cf3e-4cb8-8f42-278f56f1bc63",
   "metadata": {},
   "outputs": [
    {
     "data": {
      "text/plain": [
       "(6, 4)"
      ]
     },
     "execution_count": 3,
     "metadata": {},
     "output_type": "execute_result"
    }
   ],
   "source": [
    "import sympy as sp\n",
    "sp.var(\"x\")\n",
    "sp.var(\"y\")\n",
    "\n",
    "#Defino ecuaciones\n",
    "eq1=x+y-10\n",
    "eq2=x-y-2\n",
    "\n",
    "#Resuelvo una variable en una ecuación\n",
    "x_eq1= sp.solve(eq1,x)[0]\n",
    "x_eq1\n",
    "\n",
    "#Sustituyo en la segunda ecuación\n",
    "y_eq2=eq2.subs(x,x_eq1)\n",
    "\n",
    "#Resuelvo en la segunda ecuación\n",
    "y_sol= sp.solve(y_eq2, y)[0]\n",
    "\n",
    "#Sustituto valor de \"y\" para encontrar valor de \"x\"\n",
    "x_sol=x_eq1.subs(y,y_sol)\n",
    "x_sol, y_sol"
   ]
  },
  {
   "cell_type": "markdown",
   "id": "d5ba119c-1682-44c2-9303-a424b6cd1e84",
   "metadata": {},
   "source": [
    "$$ \\frac{3x-2y}{3}+ 4y = \\frac{13}{3} $$\n",
    "$$ \\frac{2(-2y+x)}{3} - \\frac{3x}{2} = \\frac{-13}{6} $$"
   ]
  },
  {
   "cell_type": "code",
   "execution_count": 11,
   "id": "53fa3313-b805-4216-aef5-48591a85dc7f",
   "metadata": {},
   "outputs": [
    {
     "data": {
      "text/plain": [
       "(0.245283018867924, 1.22641509433962)"
      ]
     },
     "execution_count": 11,
     "metadata": {},
     "output_type": "execute_result"
    }
   ],
   "source": [
    "import sympy as sp\n",
    "sp.var(\"x\")\n",
    "sp.var(\"y\")\n",
    "\n",
    "#Defino ecuaciones\n",
    "eq1=((3*x-2*y)/3)+4*y-(13/3)\n",
    "eq2=-(2*(2*y+x)/3)-(3*x/2)+(13/6)\n",
    "\n",
    "#Resuelvo una variable en una ecuación\n",
    "x_eq1= sp.solve(eq1,x)[0]\n",
    "x_eq1\n",
    "\n",
    "#Sustituyo en la segunda ecuación\n",
    "y_eq2=eq2.subs(x,x_eq1)\n",
    "\n",
    "#Resuelvo en la segunda ecuación\n",
    "y_sol= sp.solve(y_eq2, y)[0]\n",
    "\n",
    "#Sustituto valor de \"y\" para encontrar valor de \"x\"\n",
    "x_sol=x_eq1.subs(y,y_sol)\n",
    "x_sol, y_sol"
   ]
  },
  {
   "cell_type": "markdown",
   "id": "84bfc281-230b-43a5-ba56-39a6a486b306",
   "metadata": {},
   "source": [
    "$$ x^2-2y=16 $$\n",
    "$$ x-y=3 $$"
   ]
  },
  {
   "cell_type": "code",
   "execution_count": 34,
   "id": "7b13458b-5f55-4e64-817a-f30f83171653",
   "metadata": {},
   "outputs": [
    {
     "data": {
      "text/plain": [
       "(-sqrt(12 - 2*sqrt(11)), -sqrt(11) - 2, -2 + sqrt(11), sqrt(2*sqrt(11) + 12))"
      ]
     },
     "execution_count": 34,
     "metadata": {},
     "output_type": "execute_result"
    }
   ],
   "source": [
    "import sympy as sp\n",
    "sp.var(\"x\")\n",
    "sp.var(\"y\")\n",
    "\n",
    "#Defino ecuaciones\n",
    "eq1=x**2-2*y-16\n",
    "eq2=x-y-3\n",
    "\n",
    "#Resuelvo una variable en una ecuación\n",
    "x_eq1= sp.solve(eq1,x)[0]\n",
    "x_eq1\n",
    "x_eq12= sp.solve(eq1,x)[1]\n",
    "x_eq12\n",
    "\n",
    "#Sustituyo en la segunda ecuación\n",
    "y_eq2=eq2.subs(x,x_eq1)\n",
    "y_eq22=eq2.subs(x,x_eq12)\n",
    "\n",
    "#Resuelvo en la segunda ecuación\n",
    "y_sol= sp.solve(y_eq2, y)[0]\n",
    "y_sol2= sp.solve(y_eq22, y)[0]\n",
    "\n",
    "#Sustituto valor de \"y\" para encontrar valor de \"x\"\n",
    "x_sol=x_eq1.subs(y,y_sol)\n",
    "x_sol2=x_eq12.subs(y,y_sol2)\n",
    "\n",
    "x_sol, y_sol, y_sol2, x_sol2"
   ]
  },
  {
   "cell_type": "markdown",
   "id": "49cc9217-6f87-4e47-a68f-2aeb3d4014a2",
   "metadata": {},
   "source": [
    "$$ x+y-z=10 $$\n",
    "$$ x-y=2 $$\n",
    "$$ y+z=-2 $$"
   ]
  },
  {
   "cell_type": "code",
   "execution_count": 42,
   "id": "dacfa98f-4492-4a36-82e6-b9807fdc6f2e",
   "metadata": {},
   "outputs": [
    {
     "data": {
      "text/plain": [
       "(4, 2, -4)"
      ]
     },
     "execution_count": 42,
     "metadata": {},
     "output_type": "execute_result"
    }
   ],
   "source": [
    "import sympy as sp\n",
    "sp.var(\"x\")\n",
    "sp.var(\"y\")\n",
    "sp.var(\"z\")\n",
    "\n",
    "#Defino ecuaciones\n",
    "eq1=x+y-z-10\n",
    "eq2=x-y-2\n",
    "eq3=y+z+2\n",
    "\n",
    "# Resolver el sistema de ecuaciones\n",
    "soluciones = sp.solve((eq1, eq2, eq3), (x, y, z))\n",
    "\n",
    "# Mostrar las soluciones\n",
    "x_sol = soluciones[x]\n",
    "y_sol = soluciones[y]\n",
    "z_sol = soluciones[z]\n",
    "\n",
    "x_sol, y_sol, z_sol"
   ]
  },
  {
   "cell_type": "markdown",
   "id": "39200dbc-f5ce-4ccd-832c-6f8c676327db",
   "metadata": {},
   "source": [
    "**2. Encuentra los puntos críticos usando cálculo diferencial, decide si son máximos o mínimos usando el criterio de la segunda derivada, y grafica para decidir se son óptimos locales o globales:**"
   ]
  },
  {
   "cell_type": "code",
   "execution_count": 50,
   "id": "f3f91755-b81c-4d95-8021-d6b92de6b1c3",
   "metadata": {},
   "outputs": [],
   "source": [
    "# df=sp.diff(f(t),t)\n",
    "# puntocritico= sp.solve(df,t)\n",
    "# sp.diff(df,t) o sp.diff(f(t),t,2)\n",
    "#d2f=expr.subs(t,puntocritico[c])\n",
    "#for c in pc\n",
    "# for cuando sabes cuando terminara el ciclo y while cuando no"
   ]
  },
  {
   "cell_type": "markdown",
   "id": "e4c148d0-9617-46b4-a882-34e7fae99803",
   "metadata": {},
   "source": [
    "$$ f(x)=1235+113x-6x^2 $$"
   ]
  },
  {
   "cell_type": "code",
   "execution_count": 103,
   "id": "c8ff9bdb-77b2-408d-ad16-b2a3bd72952c",
   "metadata": {},
   "outputs": [
    {
     "name": "stdout",
     "output_type": "stream",
     "text": [
      "El punto critico esta es 113/12\n",
      "La segunda derivada es:-12, es un máximo\n"
     ]
    },
    {
     "data": {
      "text/plain": [
       "[<matplotlib.lines.Line2D at 0x20001c73800>]"
      ]
     },
     "execution_count": 103,
     "metadata": {},
     "output_type": "execute_result"
    },
    {
     "data": {
      "image/png": "[encoded data removed]",
      "text/plain": [
       "<Figure size 600x300 with 1 Axes>"
      ]
     },
     "metadata": {},
     "output_type": "display_data"
    }
   ],
   "source": [
    "import sympy as sp\n",
    "import matplotlib.pyplot as plt\n",
    "import numpy as np\n",
    "\n",
    "sp.var(\"x\")\n",
    "def g(x):\n",
    "    return (1235+113*x-6*x**2)\n",
    "dg=sp.diff(g(x),x)\n",
    "pc=sp.solve(dg,x)\n",
    "ddg=sp.diff(dg,x) \n",
    "d2f=ddg.subs(x,pc[0])\n",
    "\n",
    "print(\"El punto critico esta es \"+ str(pc[0]))\n",
    "\n",
    "if d2f <0:\n",
    "    print( \"La segunda derivada es:\"+ str(d2f) + \", es un máximo\")\n",
    "else:\n",
    "    print( \"La segunda derivada es:\"+ str(d2f) + \", es un minímo\")\n",
    "    \n",
    "x=np.linspace(-10,30,2000)\n",
    "plt.figure(figsize=(6,3))\n",
    "plt.plot(x,g(x))\n",
    "plt.grid()\n",
    "plt.plot((pc[0]), 1767.04167,  'r*')"
   ]
  },
  {
   "cell_type": "markdown",
   "id": "5fc3bc12-cf5a-4c6a-b5a7-26579e7ccca8",
   "metadata": {},
   "source": [
    "$$ f(x)=-3+x+ \\frac{\\pi}{x} , para x>0 $$"
   ]
  },
  {
   "cell_type": "code",
   "execution_count": null,
   "id": "f9126497-e1c9-4562-8185-5f2a10a3f37f",
   "metadata": {},
   "outputs": [],
   "source": [
    "import sympy as sp\n",
    "import matplotlib.pyplot as plt\n",
    "import numpy as np\n",
    "\n",
    "sp.var(\"x\")\n",
    "def g(x):\n",
    "    return (1235+113*x-6*x**2)\n",
    "dg=sp.diff(g(x),x)\n",
    "pc=sp.solve(dg,x)\n",
    "ddg=sp.diff(dg,x) \n",
    "d2f=ddg.subs(x,pc[0])\n",
    "\n",
    "print(\"El punto critico esta es \"+ str(pc[0]))\n",
    "\n",
    "if d2f <0:\n",
    "    print( \"La segunda derivada es:\"+ str(d2f) + \", es un máximo\")\n",
    "else:\n",
    "    print( \"La segunda derivada es:\"+ str(d2f) + \", es un minímo\")\n",
    "    \n",
    "x=np.linspace(-10,30,2000)\n",
    "plt.figure(figsize=(6,3))\n",
    "plt.plot(x,g(x))\n",
    "plt.grid()\n",
    "plt.plot((pc[0]), 1767.04167,  'r*')"
   ]
  }
 ],
 "metadata": {
  "kernelspec": {
   "display_name": "Python 3 (ipykernel)",
   "language": "python",
   "name": "python3"
  },
  "language_info": {
   "codemirror_mode": {
    "name": "ipython",
    "version": 3
   },
   "file_extension": ".py",
   "mimetype": "text/x-python",
   "name": "python",
   "nbconvert_exporter": "python",
   "pygments_lexer": "ipython3",
   "version": "3.12.4"
  }
 },
 "nbformat": 4,
 "nbformat_minor": 5
}
