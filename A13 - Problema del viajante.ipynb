{
 "cells": [
  {
   "cell_type": "markdown",
   "id": "51cb7dd6-9c55-40d0-88ce-56b942b9ff40",
   "metadata": {},
   "source": [
    "## A13 - Problema del viajante\n",
    "\n",
    "Terezza Marianne Gonzalez Jauregui\n",
    "\n",
    "07/11/2024"
   ]
  },
  {
   "cell_type": "code",
   "execution_count": 28,
   "id": "f86ec0fc-197f-4fb4-a292-1cb42c36a6e7",
   "metadata": {},
   "outputs": [
    {
     "data": {
      "text/html": [
       "<div>\n",
       "<style scoped>\n",
       "    .dataframe tbody tr th:only-of-type {\n",
       "        vertical-align: middle;\n",
       "    }\n",
       "\n",
       "    .dataframe tbody tr th {\n",
       "        vertical-align: top;\n",
       "    }\n",
       "\n",
       "    .dataframe thead th {\n",
       "        text-align: right;\n",
       "    }\n",
       "</style>\n",
       "<table border=\"1\" class=\"dataframe\">\n",
       "  <thead>\n",
       "    <tr style=\"text-align: right;\">\n",
       "      <th></th>\n",
       "      <th>Tijuana</th>\n",
       "      <th>Mérida</th>\n",
       "      <th>GDL</th>\n",
       "      <th>México</th>\n",
       "      <th>León</th>\n",
       "      <th>Monterrey</th>\n",
       "      <th>Tapachula</th>\n",
       "      <th>Chihuahua</th>\n",
       "    </tr>\n",
       "    <tr>\n",
       "      <th>Unnamed: 0</th>\n",
       "      <th></th>\n",
       "      <th></th>\n",
       "      <th></th>\n",
       "      <th></th>\n",
       "      <th></th>\n",
       "      <th></th>\n",
       "      <th></th>\n",
       "      <th></th>\n",
       "    </tr>\n",
       "  </thead>\n",
       "  <tbody>\n",
       "    <tr>\n",
       "      <th>Tijuana</th>\n",
       "      <td>0</td>\n",
       "      <td>4180</td>\n",
       "      <td>2306</td>\n",
       "      <td>2848</td>\n",
       "      <td>2529</td>\n",
       "      <td>2409</td>\n",
       "      <td>4005</td>\n",
       "      <td>1583</td>\n",
       "    </tr>\n",
       "    <tr>\n",
       "      <th>Mérida</th>\n",
       "      <td>4180</td>\n",
       "      <td>0</td>\n",
       "      <td>1874</td>\n",
       "      <td>1332</td>\n",
       "      <td>1719</td>\n",
       "      <td>2046</td>\n",
       "      <td>1062</td>\n",
       "      <td>2819</td>\n",
       "    </tr>\n",
       "    <tr>\n",
       "      <th>GDL</th>\n",
       "      <td>2306</td>\n",
       "      <td>1874</td>\n",
       "      <td>0</td>\n",
       "      <td>542</td>\n",
       "      <td>223</td>\n",
       "      <td>789</td>\n",
       "      <td>1699</td>\n",
       "      <td>1202</td>\n",
       "    </tr>\n",
       "    <tr>\n",
       "      <th>México</th>\n",
       "      <td>2848</td>\n",
       "      <td>1332</td>\n",
       "      <td>542</td>\n",
       "      <td>0</td>\n",
       "      <td>389</td>\n",
       "      <td>933</td>\n",
       "      <td>1157</td>\n",
       "      <td>1487</td>\n",
       "    </tr>\n",
       "    <tr>\n",
       "      <th>León</th>\n",
       "      <td>2529</td>\n",
       "      <td>1719</td>\n",
       "      <td>223</td>\n",
       "      <td>389</td>\n",
       "      <td>0</td>\n",
       "      <td>711</td>\n",
       "      <td>1544</td>\n",
       "      <td>1140</td>\n",
       "    </tr>\n",
       "    <tr>\n",
       "      <th>Monterrey</th>\n",
       "      <td>2409</td>\n",
       "      <td>2046</td>\n",
       "      <td>789</td>\n",
       "      <td>933</td>\n",
       "      <td>711</td>\n",
       "      <td>0</td>\n",
       "      <td>1803</td>\n",
       "      <td>826</td>\n",
       "    </tr>\n",
       "    <tr>\n",
       "      <th>Tapachula</th>\n",
       "      <td>4005</td>\n",
       "      <td>1062</td>\n",
       "      <td>1699</td>\n",
       "      <td>1157</td>\n",
       "      <td>1544</td>\n",
       "      <td>1803</td>\n",
       "      <td>0</td>\n",
       "      <td>2644</td>\n",
       "    </tr>\n",
       "    <tr>\n",
       "      <th>Chihuahua</th>\n",
       "      <td>1583</td>\n",
       "      <td>2819</td>\n",
       "      <td>1202</td>\n",
       "      <td>1487</td>\n",
       "      <td>1140</td>\n",
       "      <td>826</td>\n",
       "      <td>2644</td>\n",
       "      <td>0</td>\n",
       "    </tr>\n",
       "  </tbody>\n",
       "</table>\n",
       "</div>"
      ],
      "text/plain": [
       "            Tijuana  Mérida   GDL  México  León  Monterrey  Tapachula  \\\n",
       "Unnamed: 0                                                              \n",
       "Tijuana           0    4180  2306    2848  2529       2409       4005   \n",
       "Mérida         4180       0  1874    1332  1719       2046       1062   \n",
       "GDL            2306    1874     0     542   223        789       1699   \n",
       "México         2848    1332   542       0   389        933       1157   \n",
       "León           2529    1719   223     389     0        711       1544   \n",
       "Monterrey      2409    2046   789     933   711          0       1803   \n",
       "Tapachula      4005    1062  1699    1157  1544       1803          0   \n",
       "Chihuahua      1583    2819  1202    1487  1140        826       2644   \n",
       "\n",
       "            Chihuahua  \n",
       "Unnamed: 0             \n",
       "Tijuana          1583  \n",
       "Mérida           2819  \n",
       "GDL              1202  \n",
       "México           1487  \n",
       "León             1140  \n",
       "Monterrey         826  \n",
       "Tapachula        2644  \n",
       "Chihuahua           0  "
      ]
     },
     "execution_count": 28,
     "metadata": {},
     "output_type": "execute_result"
    }
   ],
   "source": [
    "import pandas as pd\n",
    "Datos= pd.read_excel(\"datosCT.xlsx\", sheet_name=\"8c\").set_index(\"Unnamed: 0\")\n",
    "Datos"
   ]
  },
  {
   "cell_type": "code",
   "execution_count": 36,
   "id": "a5ceed15-4d5f-4578-8596-4f48ce70b4b4",
   "metadata": {},
   "outputs": [
    {
     "data": {
      "text/plain": [
       "['Tijuana',\n",
       " 'GDL',\n",
       " 'Monterrey',\n",
       " 'Tapachula',\n",
       " 'México',\n",
       " 'León',\n",
       " 'Mérida',\n",
       " 'Chihuahua']"
      ]
     },
     "execution_count": 36,
     "metadata": {},
     "output_type": "execute_result"
    }
   ],
   "source": [
    "import random\n",
    "import numpy as np\n",
    "\n",
    "Ciudades = [\"Tijuana\", \"Mérida\", \"GDL\", \"México\", \"León\", \"Monterrey\", \"Tapachula\", \"Chihuahua\"]\n",
    "\n",
    "Ciudad1, Ciudad2, Ciudad3, Ciudad4, Ciudad5, Ciudad6, Ciudad7, Ciudad8 = random.sample(Ciudades, 8) #muestra aleatoria de elementos sin repetición \n",
    "Ciudades_finales =np.random.choice(Ciudades, size=len(Ciudades), replace=False)\n",
    "\n",
    "R1= [Ciudad1, Ciudad2, Ciudad3, Ciudad4, Ciudad5, Ciudad6, Ciudad7, Ciudad8]\n",
    "R1"
   ]
  },
  {
   "cell_type": "code",
   "execution_count": 38,
   "id": "11433753-aa21-419f-9765-5fb684aded50",
   "metadata": {},
   "outputs": [],
   "source": [
    "def distancia (Datos, CiudadA, CiudadB, CiudadC, CiudadD, CiudadE, CiudadF, CiudadG, CiudadH):\n",
    "    return (Datos.loc[CiudadA,CiudadB]+Datos.loc[CiudadB,CiudadC]+Datos.loc[CiudadC,CiudadD]+Datos.loc[CiudadD,CiudadE]+Datos.loc[CiudadE,CiudadF]+Datos.loc[CiudadF,CiudadG]+Datos.loc[CiudadG,CiudadH])"
   ]
  },
  {
   "cell_type": "code",
   "execution_count": 40,
   "id": "653311ca-a6a1-4130-accd-d00d212349e0",
   "metadata": {},
   "outputs": [
    {
     "data": {
      "text/plain": [
       "['Tijuana',\n",
       " 'GDL',\n",
       " 'Monterrey',\n",
       " 'Chihuahua',\n",
       " 'México',\n",
       " 'León',\n",
       " 'Mérida',\n",
       " 'Tapachula']"
      ]
     },
     "execution_count": 40,
     "metadata": {},
     "output_type": "execute_result"
    }
   ],
   "source": [
    "pos = np.random.choice([0, 1, 2, 3, 4, 5, 6, 7], 2, replace=False)\n",
    "R2 = R1.copy()\n",
    "R2[pos[0]],R2[pos[1]]=R2[pos[1]],R2[pos[0]]\n",
    "R2"
   ]
  },
  {
   "cell_type": "code",
   "execution_count": 64,
   "id": "5182b312-e380-4c0a-a3bc-779863a6a1bd",
   "metadata": {},
   "outputs": [],
   "source": [
    "#Paso 1\n",
    "import random\n",
    "D1= distancia(Datos, R1[0], R1[1], R1[2], R1[3], R1[4], R1[5], R1[6], R1[7])\n",
    "D2= distancia(Datos, R2[0], R2[1], R2[2], R2[3], R2[4], R2[5], R2[6], R2[7])\n",
    "T=1000\n",
    "# numero aleatorio real continuo entre [0, 1)\n",
    "P= random.uniform(0,1)\n",
    "Q=np.exp((D1-D2)/T)\n",
    "if P<Q:\n",
    "    R1=R2.copy()    "
   ]
  },
  {
   "cell_type": "code",
   "execution_count": null,
   "id": "8fff863a-513f-4367-a855-5d6f40d31f70",
   "metadata": {},
   "outputs": [],
   "source": [
    "#Paso 2\n"
   ]
  }
 ],
 "metadata": {
  "kernelspec": {
   "display_name": "Python 3 (ipykernel)",
   "language": "python",
   "name": "python3"
  },
  "language_info": {
   "codemirror_mode": {
    "name": "ipython",
    "version": 3
   },
   "file_extension": ".py",
   "mimetype": "text/x-python",
   "name": "python",
   "nbconvert_exporter": "python",
   "pygments_lexer": "ipython3",
   "version": "3.12.4"
  }
 },
 "nbformat": 4,
 "nbformat_minor": 5
}
