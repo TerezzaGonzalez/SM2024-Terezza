{
 "cells": [
  {
   "cell_type": "markdown",
   "id": "0ccfa0b7-bc34-413f-8bd7-f0e819c6cbdc",
   "metadata": {},
   "source": [
    "# T04_Programación lineal\n",
    "\n",
    "Terezza Marianne González Jáuregui\n",
    "\n",
    "16/09/2024"
   ]
  },
  {
   "cell_type": "markdown",
   "id": "bfe7d970-f727-450c-9325-2f63731c84e8",
   "metadata": {},
   "source": [
    "### 02 Programación lineal.ipynb"
   ]
  },
  {
   "cell_type": "markdown",
   "id": "779f81f5-d012-48f6-aa5a-482ca244bcc3",
   "metadata": {},
   "source": [
    "**2.1. Ejemplo básico**\n",
    "\n",
    "Una multinacional farmacéutica desea fabricar un compuesto nutritivo a base de dos productos A y B.  El producto A contiene  $30\\%$ de proteínas,  un $1\\%$ de grasas y un  $10\\%$ de azúcares.  El producto B  contiene  un  $5\\%$  de proteínas,  un  $7\\%$ de grasas  y un  $10\\%$  de  azúcares.\n",
    "\n",
    "El compuesto debe de tener,  al menos, $25g$ de proteínas,  $6g$ de grasas y $30g$ de azúcares.  El coste del producto A es de $0.6$ u.m./g  y el de B es de $0.2$  u.m./g\n",
    "\n",
    "Se desea encontrar la cantidad en gramos de cada producto para que el coste total sea mínimo.\n",
    "\n",
    "Formular el problema de decidir cuánto hacer de cada producto como un problema de programación lineal."
   ]
  },
  {
   "cell_type": "markdown",
   "id": "6761b89b-8f90-4178-acc3-e19206186244",
   "metadata": {},
   "source": [
    "1. Identificar criterio\n",
    "   * Minimizar gastos\n",
    "2. Variables de control\n",
    "   * Cantidad de producto A (Xa)\n",
    "   * Cantidad de producto B(Xb)\n",
    "\n",
    "3. Función de costo\n",
    "   * Costo(Xa,Xb)=0.6Xa+0.2Xb\n",
    "4. Información adicional (restricciones)\n",
    "   * Proteinas ≥ 25g\n",
    "   * Grasas ≥ 6g\n",
    "   * Azucares ≥ 30g\n",
    "* prot= 0.3Xa + 0.005Xb ≥ 25\n",
    "* Gras= 0.01Xa + 0.07Xb ≥ 6\n",
    "* Azuc= 0.10Xa + 0.10Xb ≥ 30"
   ]
  },
  {
   "cell_type": "markdown",
   "id": "552e8336-8507-4e2b-bdba-3d2077183839",
   "metadata": {},
   "source": [
    "$$ \\min_{Xa,Xb} 0.6Xa+0.2Xb $$\n",
    "$$ \\text {s.t.} $$\n",
    "$$ 0.30Xa + 0.05Xb \\geq 25 $$\n",
    "$$ 0.0.1Xa + 0.07Xb \\geq 6 $$\n",
    "$$ 0.10Xa + 0.10Xb \\geq 30 $$"
   ]
  },
  {
   "cell_type": "code",
   "execution_count": 145,
   "id": "52ad3c02-ddd0-4488-83e0-0898c7cd09c1",
   "metadata": {},
   "outputs": [
    {
     "data": {
      "text/plain": [
       "76.0"
      ]
     },
     "execution_count": 145,
     "metadata": {},
     "output_type": "execute_result"
    }
   ],
   "source": [
    "import numpy as np\n",
    "import scipy.optimize as opt\n",
    "\n",
    "c=np.array([0.6,0.2])\n",
    "\n",
    "Aub=np.array([\n",
    "    [-0.30,-0.05],\n",
    "    [-0.01,-0.07],\n",
    "    [-0.10,-0.10]\n",
    "])\n",
    "\n",
    "bub=np.array([-25,-6,-30])\n",
    "\n",
    "sol= opt.linprog(c,Aub,bub) # Este comando ya da la respuesta para la forma vector\n",
    "sol.fun"
   ]
  },
  {
   "cell_type": "code",
   "execution_count": 147,
   "id": "5bc03e73-9fdd-4f51-99d4-523a9c199d7f",
   "metadata": {},
   "outputs": [
    {
     "data": {
      "text/plain": [
       "array([ 40., 260.])"
      ]
     },
     "execution_count": 147,
     "metadata": {},
     "output_type": "execute_result"
    }
   ],
   "source": [
    "sol.x"
   ]
  },
  {
   "cell_type": "code",
   "execution_count": 149,
   "id": "146ef0bb-f0c9-4575-a618-6ed4e50dee8b",
   "metadata": {},
   "outputs": [
    {
     "data": {
      "text/plain": [
       "array([-25. , -18.6, -30. ])"
      ]
     },
     "execution_count": 149,
     "metadata": {},
     "output_type": "execute_result"
    }
   ],
   "source": [
    "Aub@sol.x"
   ]
  },
  {
   "cell_type": "code",
   "execution_count": null,
   "id": "95723e47-ddb5-4a56-a1b5-39e8daa75b55",
   "metadata": {},
   "outputs": [],
   "source": []
  },
  {
   "cell_type": "markdown",
   "id": "912b2da8-e2ac-4676-9c2c-d2cebdae7876",
   "metadata": {},
   "source": [
    "**2.2. Ejemplo básico 2**\n",
    "Una  fábrica  de  carrocerías  de  automóviles  y camiones  tiene  dos naves. \n",
    "\n",
    "+ En  la nave A,  para  hacer  la  carrocería  de  un  camión,  se  invierten  siete  días-operario,  para  fabricar  la  de  un  coche  se  precisan dos días-operario.\n",
    "\n",
    "+ En la nave B se invierten tres días operario tanto en carrocerías de camión como de coche. \n",
    "\n",
    "Por limitaciones de mano de obra y maquinaria, la nave A dispone de $300$ días operario, y la nave B de $270$ días-operario.\n",
    "\n",
    "Si los beneficios que se obtienen por cada camión son de $600$ u.m y por  cada  automóvil  $200$ u.m,  ¿cuántas  unidades  de  cada  uno  se deben  producir  para maximizar las  ganancias? \n",
    "\n",
    "**Nota:** el problema $\\max_{\\boldsymbol{x}}\\boldsymbol{g}(\\boldsymbol{x})$ es equivalente a $\\min_{\\boldsymbol{x}}-\\boldsymbol{g}(\\boldsymbol{x})$."
   ]
  },
  {
   "cell_type": "markdown",
   "id": "557ee901-f258-4bf1-9e66-d1be18b612e9",
   "metadata": {},
   "source": [
    "1. Identificar criterio\n",
    "   * Maximizar las ganacias de logísticas. \n",
    "2. Variables de control\n",
    "   * Cantidad de Autos en la nave A (Aa)\n",
    "   * Cantidad de Autos en la nave B (Ab)\n",
    "   * Cantidad de Camiones en la nave A (Ca)\n",
    "   * Cantidad de Camiones en la nave B (Cb)\n",
    "\n",
    "3. Función de costo\n",
    "   * Costo(Aa,Ca, Ab, Cb)= 200Aa+600Ca+200Ab+600Cb\n",
    "4. Información adicional (restricciones)\n",
    "   * Nave A = 300 dias\n",
    "   * Nave B = 270 dias\n",
    "\n",
    "   * A se tarda 7 dias por coche y 2 por auto\n",
    "   * B se tarda 3 dias poc covhe y 3 por auto\n",
    "  \n",
    "   * Nave A: 2Aa+7Ca≤300\n",
    "   * Nave B: 3Ab+3Cb ≤ 270"
   ]
  },
  {
   "cell_type": "markdown",
   "id": "6d77e1b5-e7c1-43fd-8a92-ad950395662a",
   "metadata": {},
   "source": [
    "$$ \\min_{Aa,Ca, Ab, Cb} -200Aa-600Ca-200Ab-600Cb $$\n",
    "$$ \\text {s.t.} $$\n",
    "$$ 2Aa+7Ca≤300 $$\n",
    "$$ 3Ab+3Cb ≤ 270 $$"
   ]
  },
  {
   "cell_type": "code",
   "execution_count": 151,
   "id": "c47b4711-256b-4742-b857-56eefa0b4c81",
   "metadata": {},
   "outputs": [
    {
     "data": {
      "text/plain": [
       "-84000.0"
      ]
     },
     "execution_count": 151,
     "metadata": {},
     "output_type": "execute_result"
    }
   ],
   "source": [
    "import numpy as np\n",
    "import scipy.optimize as opt\n",
    "\n",
    "c=np.array([\n",
    "    -200,\n",
    "    -600,\n",
    "    -200,\n",
    "    -600\n",
    "])\n",
    "\n",
    "Aub=np.array([\n",
    "    [ 2, 7, 0, 0],\n",
    "    [ 0, 0, 3, 3]\n",
    "])\n",
    "\n",
    "bub=np.array([\n",
    "    300,\n",
    "    270\n",
    "])\n",
    "\n",
    "sol2= opt.linprog(c,Aub,bub,integrality=1) # Este comando ya da la respuesta para la forma vector\n",
    "sol2.fun"
   ]
  },
  {
   "cell_type": "code",
   "execution_count": 153,
   "id": "a5edaf3a-33b5-4bf5-804d-034aac9207de",
   "metadata": {},
   "outputs": [
    {
     "data": {
      "text/plain": [
       "array([150.,  -0.,   0.,  90.])"
      ]
     },
     "execution_count": 153,
     "metadata": {},
     "output_type": "execute_result"
    }
   ],
   "source": [
    "sol2.x"
   ]
  },
  {
   "cell_type": "code",
   "execution_count": 155,
   "id": "448bf07e-bcd6-4985-920f-259ff47bbc55",
   "metadata": {},
   "outputs": [
    {
     "data": {
      "text/plain": [
       "array([300., 270.])"
      ]
     },
     "execution_count": 155,
     "metadata": {},
     "output_type": "execute_result"
    }
   ],
   "source": [
    "Aub@sol2.x"
   ]
  },
  {
   "cell_type": "code",
   "execution_count": null,
   "id": "bfa1ba86-c794-48d3-8268-230b10d631cd",
   "metadata": {},
   "outputs": [],
   "source": []
  },
  {
   "cell_type": "markdown",
   "id": "7095a12b-7b38-4158-af7c-1897edc519a9",
   "metadata": {},
   "source": [
    "**Actividad.**\n",
    "\n",
    "Mónica hace aretes y cadenitas de joyería. Es tan buena, que todo lo que hace lo vende.\n",
    "\n",
    "Le toma 30 minutos hacer un par de aretes y una hora hacer una cadenita, y como Mónica también es estudihambre, solo dispone de 10 horas a la semana para hacer las joyas. Por otra parte, el material que compra solo le alcanza para hacer 15 unidades (el par de aretes cuenta como unidad) de joyas por semana.\n",
    "\n",
    "La utilidad que le deja la venta de las joyas es \n",
    " 15 en cada par de aretes y \n",
    "20 en cada cadenita.\n",
    "\n",
    "¿Cuántos pares de aretes y cuántas cadenitas debería hacer Mónica para maximizar su utilidad?"
   ]
  },
  {
   "cell_type": "markdown",
   "id": "e6b199e1-3b39-436f-b9ae-188d2b413554",
   "metadata": {},
   "source": [
    "1. Identificar criterio\n",
    "   * Maximizar las ganacias de la utilidad. \n",
    "2. Variables de control\n",
    "   * Cantidad de Aretes que hace (A)\n",
    "   * Cantidad de Cadenas que hace (C)\n",
    "\n",
    "3. Función de costo\n",
    "   * Costo(A, C)= 15A + 20C\n",
    "4. Información adicional (restricciones)\n",
    "   * Hace unos aretes en 0.5 hora\n",
    "   * Hace una cadena en 1 hora\n",
    "   * Solo cuenta con 10 horas semanales\n",
    "   * 15 unidades semanales\n",
    "  \n",
    "   * 0.5A + 1C $\\leq $ 10\n",
    "   * A + C $\\leq $ 15"
   ]
  },
  {
   "cell_type": "markdown",
   "id": "bb9c2424-9cef-40a3-ba57-f645de43b0a9",
   "metadata": {},
   "source": [
    "$$ \\min_{A, C} -15A -20C $$\n",
    "$$ \\text {s.t.} $$\n",
    "$$ 0.5A+1C≤10 $$\n",
    "$$ A+C ≤ 15 $$"
   ]
  },
  {
   "cell_type": "code",
   "execution_count": 209,
   "id": "4c001f43-1bf1-4ad8-9738-b91666f8bc2d",
   "metadata": {},
   "outputs": [
    {
     "data": {
      "text/plain": [
       "-250.0"
      ]
     },
     "execution_count": 209,
     "metadata": {},
     "output_type": "execute_result"
    }
   ],
   "source": [
    "import numpy as np\n",
    "import scipy.optimize as opt\n",
    "\n",
    "c=np.array([\n",
    "    -15,\n",
    "    -20\n",
    "])\n",
    "\n",
    "Aub=np.array([\n",
    "    [0.5,  1],\n",
    "    [  1,  1]\n",
    "])\n",
    "\n",
    "bub=np.array([\n",
    "    10,\n",
    "    15\n",
    "])\n",
    "\n",
    "sol3= opt.linprog(c,Aub,bub,integrality=1) # Este comando ya da la respuesta para la forma vector\n",
    "sol3.fun"
   ]
  },
  {
   "cell_type": "code",
   "execution_count": 211,
   "id": "613a56ca-f98d-4d2c-9c6d-9e28a9160b41",
   "metadata": {},
   "outputs": [
    {
     "data": {
      "text/plain": [
       "array([10.,  5.])"
      ]
     },
     "execution_count": 211,
     "metadata": {},
     "output_type": "execute_result"
    }
   ],
   "source": [
    "sol3.x"
   ]
  },
  {
   "cell_type": "code",
   "execution_count": 213,
   "id": "96aad234-61ef-4a2f-a6fb-3c294d2e107a",
   "metadata": {},
   "outputs": [
    {
     "data": {
      "text/plain": [
       "array([10., 15.])"
      ]
     },
     "execution_count": 213,
     "metadata": {},
     "output_type": "execute_result"
    }
   ],
   "source": [
    "Aub@sol3.x"
   ]
  },
  {
   "cell_type": "code",
   "execution_count": null,
   "id": "402cc968-c3af-4900-b81e-de9ff72bdf9b",
   "metadata": {},
   "outputs": [],
   "source": []
  },
  {
   "cell_type": "markdown",
   "id": "d47abaef-6c7a-4348-95d6-f4e44e97bec0",
   "metadata": {},
   "source": [
    "**4. Problema de transporte 1**\n",
    "\n",
    "Una  empresa tiene dos fábricas A y B.  En ellas  se fabrica un determinado  producto, a razón de 500  y 400 unidades por día respectivamente.  El producto  ha  de  ser distribuido posteriormente  a  tres  centros  C,  D  y  E,  que  requieren,  respectivamente,  200,  300  y  400  unidades.  Los  costos  de  transportar cada unidad del producto desde cada fábrica a cada centro distribuidor son los  indicados  en la tabla  siguiente: \n",
    "\n",
    "Factoría|C|D|E|Fabricación (Unidades)\n",
    ":----|----|----|----|----\n",
    "A|  50 u.m|60 u.m|10 u.m|500 u\n",
    "B|  25 u.m|40 u.m|20 u.m|400 u\n",
    "Demanda|200|300|400|\n",
    "\n",
    "**¿De qué manera  deben  organizar  el transporte a fin de que los gastos sean mínimos?**"
   ]
  },
  {
   "cell_type": "markdown",
   "id": "3265e910-02db-484e-beba-46c1cface5bc",
   "metadata": {},
   "source": [
    "1. Identificar criterio\n",
    "   * Minimizar gastos de transporte\n",
    "2. Variables de control\n",
    "   * Cantidad de producto de A para el centro C (AC)\n",
    "   * Cantidad de producto de A para el centro D (AD)\n",
    "   * Cantidad de producto de A para el centro E (AE)\n",
    "   * Cantidad de producto de B para el centro C (BC)\n",
    "   * Cantidad de producto de B para el centro D (BD)\n",
    "   * Cantidad de producto de B para el centro E (BE)\n",
    "\n",
    "3. Función de costo\n",
    "   * Costo(AC,AD,AE,BC,BD,BE)= 50AC+60AD+10AE+25BC+40BD+20BE\n",
    "4. Información adicional (restricciones)\n",
    "   *  50AC+60AD+10AE $\\leq$ 500u\n",
    "   *  25BC+40BD+20BE $\\leq$ 400u\n",
    "   *  50AC+25BC $\\leq$ 200u\n",
    "   *  60AD+40BD $\\leq$ 300u\n",
    "   *  10AE+20BE $\\leq$ 400u"
   ]
  },
  {
   "cell_type": "markdown",
   "id": "50b1db7d-fdae-43de-9293-a78d45553c90",
   "metadata": {},
   "source": [
    "$$ \\min_{AC,AD,AE,BC,BD,BE} 50AC+60AD+10AE+25BC+40BD+20BE $$\n",
    "$$ \\text {s.t.} $$\n",
    "$$ AC+AD+AE \\leq 500u $$\n",
    "$$ BC+BD+BE \\leq 400u $$\n",
    "$$ AC+BC \\geq 200u $$\n",
    "$$ AD+BD \\geq 300u $$\n",
    "$$ AE+BE \\geq 400u $$"
   ]
  },
  {
   "cell_type": "code",
   "execution_count": 2,
   "id": "93ea5892-04d6-437d-8ce9-a836bc13d9e5",
   "metadata": {},
   "outputs": [
    {
     "data": {
      "text/plain": [
       "23000.0"
      ]
     },
     "execution_count": 2,
     "metadata": {},
     "output_type": "execute_result"
    }
   ],
   "source": [
    "import numpy as np\n",
    "import scipy.optimize as opt\n",
    "\n",
    "c=np.array([\n",
    "    50,\n",
    "    60,\n",
    "    10,\n",
    "    25,\n",
    "    40,\n",
    "    20\n",
    "])\n",
    "\n",
    "Aub=np.array([\n",
    "    [  1,  1,  1,  0,  0,  0],\n",
    "    [  0,  0,  0,  1,  1,  1],\n",
    "    [ -1,  0,  0, -1,  0,  0],\n",
    "    [  0, -1,  0,  0, -1,  0],\n",
    "    [  0,  0, -1,  0,  0, -1]\n",
    "])\n",
    "\n",
    "bub=np.array([\n",
    "    500,\n",
    "    400,\n",
    "    -200,\n",
    "    -300,\n",
    "    -400\n",
    "])\n",
    "\n",
    "sol4= opt.linprog(c,Aub,bub) # Este comando ya da la respuesta para la forma vector\n",
    "sol4.fun"
   ]
  },
  {
   "cell_type": "code",
   "execution_count": 4,
   "id": "71a024e9-ee45-4d17-a851-5305d6f940a2",
   "metadata": {},
   "outputs": [
    {
     "data": {
      "text/plain": [
       "array([  0., 100., 400., 200., 200.,   0.])"
      ]
     },
     "execution_count": 4,
     "metadata": {},
     "output_type": "execute_result"
    }
   ],
   "source": [
    "sol4.x"
   ]
  },
  {
   "cell_type": "code",
   "execution_count": 6,
   "id": "b4a6c26f-db2f-4eca-b25c-9b5531d05c85",
   "metadata": {},
   "outputs": [
    {
     "data": {
      "text/plain": [
       "array([ 500.,  400., -200., -300., -400.])"
      ]
     },
     "execution_count": 6,
     "metadata": {},
     "output_type": "execute_result"
    }
   ],
   "source": [
    "Aub@sol4.x"
   ]
  },
  {
   "cell_type": "code",
   "execution_count": null,
   "id": "1968ab38-9e9c-4476-8b56-7e451a7138ec",
   "metadata": {},
   "outputs": [],
   "source": []
  },
  {
   "cell_type": "markdown",
   "id": "1fa9f55c-8de0-4461-abc2-6e4183326abd",
   "metadata": {},
   "source": [
    "**Optimización de inversión en bonos**\n",
    "\n",
    "El objetivo de este problema es determinar la mejor estrategia de inversión, dados diferentes tipos de bono, la máxima cantidad que puede ser invertida en cada bono, el porcentaje de retorno y los años de madurez. También hay una cantidad fija de dinero disponible ($\\$750,000$). Por lo menos la mitad de este dinero debe ser invertido en bonos con 10 años o más para la madurez. Se puede invertir un máximo del $25\\%$ de esta cantidad en cada bono. Finalmente, hay otra restricción que no permite usar más de $35\\%$ en bonos de alto riesgo.\n",
    "\n",
    "Existen seis (6) opciones de inversión con las letras correspondientes $A_i$\n",
    "\n",
    "1. $A_1$:(Tasa de retorno=$8.65\\%$; Años para la madurez=11, Riesgo=Bajo)\n",
    "1. $A_2$:(Tasa de retorno=$9.50\\%$; Años para la madurez=10, Riesgo=Alto)\n",
    "1. $A_3$:(Tasa de retorno=$10.00\\%$; Años para la madurez=6, Riesgo=Alto)\n",
    "1. $A_4$:(Tasa de retorno=$8.75\\%$; Años para la madurez=10, Riesgo=Bajo)\n",
    "1. $A_5$:(Tasa de retorno=$9.25\\%$; Años para la madurez=7, Riesgo=Alto)\n",
    "1. $A_6$:(Tasa de retorno=$9.00\\%$; Años para la madurez=13, Riesgo=Bajo)\n",
    "\n",
    "Lo que se quiere entonces es maximizar el retorno que deja la inversión.\n",
    "\n",
    "Este problema puede ser resuelto con programación lineal. Formalmente, puede ser descrito como:\n",
    "\n",
    "$$\\max_{A_1,A_2,...,A_6}\\sum^{6}_{i=1} A_iR_i,$$\n",
    "\n",
    "donde $A_i$ representa la cantidad invertida en la opción, y $R_i$ representa la tasa de retorno respectiva."
   ]
  },
  {
   "cell_type": "markdown",
   "id": "50fa4d82-69c6-4088-b75c-564555f00f81",
   "metadata": {},
   "source": [
    "1. Identificar criterio\n",
    "   * Maximizar el retorno que deja la inversión\n",
    "2. Variables de control\n",
    "   * Cantidad inverida de A1 (A1)\n",
    "   * Cantidad inverida de A2 (A2)\n",
    "   * Cantidad inverida de A3 (A3)\n",
    "   * Cantidad inverida de A4 (A4)\n",
    "   * Cantidad inverida de A5 (A5)\n",
    "   * Cantidad inverida de A6 (A6)\n",
    "\n",
    "3. Función de costo\n",
    "   * Costo(A1,A2,A3,A4,A5,A6)= 0.865 A1 + 0.95 A2 +0.10 A3 + 0.875 A4 + 0.925 A5 +0.90 A6\n",
    "4. Información adicional (restricciones)\n",
    "   * A1+A2+A3+A4+A5+A6 $\\leq $ 750000\n",
    "   * A1+A2+A4+A6 $\\geq $ 375000\n",
    "   * A2+A3+A5 $\\leq $ 262500\n",
    "   * Bonos $\\leq $ 187500"
   ]
  },
  {
   "cell_type": "markdown",
   "id": "ffed9734-69cb-49e0-8db3-4213850e3d3d",
   "metadata": {},
   "source": [
    "$$ \\min_{A1,A2,A3,A4,A5,A6} -0.865 A1 - 0.95 A2 - 0.10 A3 - 0.875 A4 - 0.925 A5 - 0.90 A6 $$\n",
    "$$ \\text {s.t.} $$\n",
    "$$ A1+A2+A3+A4+A5+A6 \\leq  750000 $$\n",
    "$$ A1+A2+A4+A6 \\geq  375000 $$\n",
    "$$ A2+A3+A5 \\leq  262500 $$\n",
    "$$ A1 \\leq  187500 $$\n",
    "$$ A2 \\leq  187500 $$\n",
    "$$ A3 \\leq  187500 $$\n",
    "$$ A4 \\leq  187500 $$\n",
    "$$ A5 \\leq  187500 $$\n",
    "$$ A6 \\leq  187500 $$"
   ]
  },
  {
   "cell_type": "code",
   "execution_count": 220,
   "id": "c8f150b8-3ffe-4978-adf5-69bad7eb9fdf",
   "metadata": {},
   "outputs": [
    {
     "data": {
      "text/plain": [
       "-677625.0"
      ]
     },
     "execution_count": 220,
     "metadata": {},
     "output_type": "execute_result"
    }
   ],
   "source": [
    "import numpy as np\n",
    "import scipy.optimize as opt\n",
    "\n",
    "c=np.array([\n",
    "    -0.865,\n",
    "    -0.950,\n",
    "    -0.100,\n",
    "    -0.875,\n",
    "    -0.925,\n",
    "    -0.900\n",
    "])\n",
    "\n",
    "Aub=np.array([\n",
    "    [ 1, 1, 1, 1, 1, 1],\n",
    "    [-1,-1, 0,-1, 0,-1],\n",
    "    [ 0, 1, 1, 0, 1, 0],\n",
    "    [ 1, 0, 0, 0, 0, 0],\n",
    "    [ 0, 1, 0, 0, 0, 0],\n",
    "    [ 0, 0, 1, 0, 0, 0],\n",
    "    [ 0, 0, 0, 1, 0, 0],\n",
    "    [ 0, 0, 0, 0, 1, 0],\n",
    "    [ 0, 0, 0, 0, 0, 1]\n",
    "])\n",
    "\n",
    "bub=np.array([\n",
    "    750000,\n",
    "    -375000,\n",
    "    262500,\n",
    "    187500,\n",
    "    187500,\n",
    "    187500,\n",
    "    187500,\n",
    "    187500,\n",
    "    187500\n",
    "])\n",
    "\n",
    "sol5= opt.linprog(c,Aub,bub,integrality=1) # Este comando ya da la respuesta para la forma vector\n",
    "sol5.fun"
   ]
  },
  {
   "cell_type": "code",
   "execution_count": 222,
   "id": "5a1b0d80-5037-448e-87a4-962a1da361cb",
   "metadata": {},
   "outputs": [
    {
     "data": {
      "text/plain": [
       "array([112500., 187500.,      0., 187500.,  75000., 187500.])"
      ]
     },
     "execution_count": 222,
     "metadata": {},
     "output_type": "execute_result"
    }
   ],
   "source": [
    "sol5.x"
   ]
  },
  {
   "cell_type": "code",
   "execution_count": 224,
   "id": "1ba3e892-d256-4394-80d8-01efeff8dd17",
   "metadata": {},
   "outputs": [
    {
     "data": {
      "text/plain": [
       "array([ 750000., -675000.,  262500.,  112500.,  187500.,       0.,\n",
       "        187500.,   75000.,  187500.])"
      ]
     },
     "execution_count": 224,
     "metadata": {},
     "output_type": "execute_result"
    }
   ],
   "source": [
    "Aub@sol5.x"
   ]
  },
  {
   "cell_type": "code",
   "execution_count": null,
   "id": "0fdefc59-5d63-4fae-8e8f-9df398196d4d",
   "metadata": {},
   "outputs": [],
   "source": []
  },
  {
   "cell_type": "markdown",
   "id": "3032a9b2-b7d7-4bad-a0ea-0f4cb6d47fa3",
   "metadata": {},
   "source": [
    "### A05 - Programación lineal"
   ]
  },
  {
   "cell_type": "markdown",
   "id": "4ab841a8-3b52-4c20-ba87-65ea8179b7f0",
   "metadata": {},
   "source": [
    "**Ejercicio 1**\n",
    "\n",
    "Se quiere producir comida para gatos de la manera más barata, no obstante se debe también asegurar que se cumplan los datos requeridos de analisis nutricional. Por lo que se quiere variar la cantidad de cada ingrediente para cumplir con los estandares nutricionales. Los requisitos que se tienen es que en 100 gramos, se deben tener por lo menos 9 gramos de proteína y  7 gramos de grasa. Así mismo, no se debe tener más de 2.5 gramos de fibra y 0.5 gramos de sal."
   ]
  },
  {
   "cell_type": "markdown",
   "id": "66f611c8-5704-44c1-a4dc-b008bfc892d4",
   "metadata": {},
   "source": [
    "1. Identificar criterio\n",
    "   * Minimizar los gastos para la producción de la comida de gatos\n",
    "2. Variables de control\n",
    "   * Cantidad de Pollo (p)\n",
    "   * Cantidad de Carne (ca)\n",
    "   * Cantidad de Cordero (co)\n",
    "   * Cantidad de Arroz (a)\n",
    "   * Cantidad de Trigo (t)\n",
    "   * Cantidad de Gel(g)\n",
    "3. Función de costo\n",
    "   * Costo(p,ca,co,a,t,g)= 0.012p+0.009ca+0.010co+0.003a+0.005t+0.002g\n",
    "4. Información adicional (restricciones)\n",
    "   * Gramos totales = 100g\n",
    " \n",
    "   * $ Proteína \\geq 9g $\n",
    "     \n",
    "$ 0.10p+0.20ca+0.15co+0.04t \\geq 9g $\n",
    "     \n",
    "   * $ Grasa \\geq 7g $\n",
    "\n",
    "$ 0.08p+0.10ca+0.11co+0.01a+0.01t  \\geq 7g $\n",
    "\n",
    "   * $ Fibra \\leq 2.5g $\n",
    "\n",
    "$ 0.001p+0.005ca+0.005co+0.10a+0.15t  \\leq 2.5g $\n",
    "\n",
    "   * $ Sal \\leq 0.5 $\n",
    "\n",
    "$ 0.002p+0.005ca+0.007co+0.002a+0.008t \\leq 0.5g $"
   ]
  },
  {
   "cell_type": "markdown",
   "id": "203d9c2c-2c63-4e7e-a8eb-aa252f8c257c",
   "metadata": {},
   "source": [
    "$$ \\min_{p,ca,co,a,t,g} 0.012p+0.009ca+0.010co+0.003a+0.005t+0.002g $$\n",
    "$$ \\text {s.t.} $$\n",
    "$$ p+ca+co+a+t+g = 100 $$\n",
    "$$ 0.10p+0.20ca+0.15co+0.04t \\geq 9g $$\n",
    "$$ 0.08p+0.10ca+0.11co+0.01a+0.01t  \\geq 7g $$\n",
    "$$ 0.001p+0.005ca+0.005co+0.10a+0.15t  \\leq 2.5g $$\n",
    "$$ 0.002p+0.005ca+0.007co+0.002a+0.008t \\leq 0.5g $$"
   ]
  },
  {
   "cell_type": "code",
   "execution_count": 175,
   "id": "feecfde0-e9c0-4103-b1f7-64400ec8c6a0",
   "metadata": {},
   "outputs": [
    {
     "data": {
      "text/plain": [
       "0.69"
      ]
     },
     "execution_count": 175,
     "metadata": {},
     "output_type": "execute_result"
    }
   ],
   "source": [
    "import numpy as np\n",
    "import scipy.optimize as opt\n",
    "\n",
    "c=np.array([\n",
    "    0.012,\n",
    "    0.009,\n",
    "    0.010,\n",
    "    0.003,\n",
    "    0.005,\n",
    "    0.002\n",
    "])\n",
    "\n",
    "Aub=np.array([\n",
    "    [-0.10,-0.20,-0.15,    0,-0.04,   0],\n",
    "    [-0.08,-0.10,-0.11,-0.01,-0.01,   0],\n",
    "    [0.001,0.005,0.005, 0.10, 0.15,   0],\n",
    "    [0.002,0.005,0.007,0.002,0.008,   0],\n",
    "])\n",
    "\n",
    "bub=np.array([\n",
    "    -9,\n",
    "    -7,\n",
    "    2.5,\n",
    "    0.5\n",
    "])\n",
    "\n",
    "Aeq= np.array([\n",
    "    [1,1,1,1,1,1]\n",
    "])\n",
    "\n",
    "beq=np.array([\n",
    "    100\n",
    "])\n",
    "\n",
    "sol6= opt.linprog(c,Aub,bub,Aeq,beq) # Este comando ya da la respuesta para la forma vector\n",
    "sol6.fun"
   ]
  },
  {
   "cell_type": "code",
   "execution_count": 177,
   "id": "6b43c718-e968-4ca8-8555-8780f7f22472",
   "metadata": {},
   "outputs": [
    {
     "data": {
      "text/plain": [
       "array([ 0., 70.,  0.,  0.,  0., 30.])"
      ]
     },
     "execution_count": 177,
     "metadata": {},
     "output_type": "execute_result"
    }
   ],
   "source": [
    "sol6.x"
   ]
  },
  {
   "cell_type": "code",
   "execution_count": 179,
   "id": "2e65671d-0674-4101-9214-88ed6a84c23b",
   "metadata": {},
   "outputs": [
    {
     "data": {
      "text/plain": [
       "array([-14.  ,  -7.  ,   0.35,   0.35])"
      ]
     },
     "execution_count": 179,
     "metadata": {},
     "output_type": "execute_result"
    }
   ],
   "source": [
    "Aub@sol6.x"
   ]
  },
  {
   "cell_type": "code",
   "execution_count": null,
   "id": "88687ae7-1bb6-46bf-ba5a-fbe9277b5e9a",
   "metadata": {},
   "outputs": [],
   "source": []
  },
  {
   "cell_type": "markdown",
   "id": "a9c2cf20-30b0-45d0-b283-8c86aab7b8e7",
   "metadata": {},
   "source": [
    "**Ejercicio 2**\n",
    "\n",
    "La Comisión Federal de Electricidad (CFE) dispone de cuatro plantas de generación para satisfacer la demanda diaria eléctrica en cuatro ciudades, Guadalajara, León y Morelia. Las plantas 1, 2 y 3 pueden satisfacer 75, 50 y 60 millones de kW al día respectivamente. Las necesidades de las ciudades de Guadalajara, León y Morelia son de 60, 45 y 60 millones de Kw al día respectivamente.\n",
    "\n",
    "Los costos asociados al envío de suministro energético por cada millón de kW entre cada planta y cada ciudad son los registrados en la siguiente tabla."
   ]
  },
  {
   "cell_type": "markdown",
   "id": "f8214277-960a-43aa-828b-30ee231662f7",
   "metadata": {},
   "source": [
    "1. Identificar criterio\n",
    "   * Minimizar los costos de logísticas. \n",
    "2. Variables de control\n",
    "   * Cantidad de energia de planta 1 a Guadalajara (pg)\n",
    "   * Cantidad de energia de planta 1 a León (pl)\n",
    "   * Cantidad de energia de planta 1 a Morelia (pm)\n",
    "   * Cantidad de energia de planta 2 a Guadalajara (sg)\n",
    "   * Cantidad de energia de planta 2 a León (sl)\n",
    "   * Cantidad de energia de planta 2 a Morelia (sm)\n",
    "   * Cantidad de energia de planta 3 a Guadalajara (tg)\n",
    "   * Cantidad de energia de planta 3 a León (tl)\n",
    "   * Cantidad de energia de planta 3 a Morelia (tm)\n",
    "\n",
    "3. Función de costo\n",
    "   * Costo(pg,pl,pm,sg,sl,sm,tg,tl,tm)= 5pg+2pl+7pm+3sg+4sl+5sm+5tg+2tl+3tm\n",
    "4. Información adicional (restricciones)\n",
    "   * Planta 1 $\\leq$ 75kw\n",
    "   * Planta 2 $\\leq$ 50kw\n",
    "   * Planta 3 $\\leq$ 60kw\n",
    "   * Guadalajara $\\geq$ 60kw\n",
    "   * León $\\geq$ 45kw\n",
    "   * Morelia $\\geq$ 60kw"
   ]
  },
  {
   "cell_type": "markdown",
   "id": "1b8c98b4-e3ea-4fc9-b9a7-5fa7f63373bc",
   "metadata": {},
   "source": [
    "$$ \\min_{pg,pl,pm,sg,sl,sm,tg,tl,tm} 5pg+2pl+7pm+3sg+4sl+5sm+5tg+2tl+3tm $$\n",
    "$$ \\text {s.t.} $$\n",
    "$$ pg+sg+tg \\geq 60kw $$\n",
    "$$ pl+sl+tl \\geq 45kw $$\n",
    "$$ pm+sm+tm \\geq 60kw $$\n",
    "\n",
    "$$ pg+pl+pm \\leq 75kw $$\n",
    "$$ sg+sl+sm \\leq 50kw $$\n",
    "$$ tg+tl+tm \\leq 60kw $$"
   ]
  },
  {
   "cell_type": "code",
   "execution_count": 181,
   "id": "d3efb594-72a4-416c-aedf-79c28b97e33c",
   "metadata": {},
   "outputs": [
    {
     "data": {
      "text/plain": [
       "470.0"
      ]
     },
     "execution_count": 181,
     "metadata": {},
     "output_type": "execute_result"
    }
   ],
   "source": [
    "import numpy as np\n",
    "import scipy.optimize as opt\n",
    "\n",
    "c=np.array([\n",
    "    5,\n",
    "    2,\n",
    "    7,\n",
    "    3,\n",
    "    4,\n",
    "    5,\n",
    "    5,\n",
    "    2,\n",
    "    3\n",
    "])\n",
    "\n",
    "Aub=np.array([\n",
    "    [-1, 0, 0,-1, 0, 0,-1, 0, 0],\n",
    "    [ 0,-1, 0, 0,-1, 0, 0,-1, 0],\n",
    "    [ 0, 0,-1, 0, 0,-1, 0, 0,-1],\n",
    "    [ 1, 1, 1, 0, 0, 0, 0, 0, 0],\n",
    "    [ 0, 0, 0, 1, 1, 1, 0, 0, 0],\n",
    "    [ 0, 0, 0, 0, 0, 0, 1, 1, 1]\n",
    "])\n",
    "\n",
    "bub=np.array([\n",
    "    -60,\n",
    "    -45,\n",
    "    -60,\n",
    "     75,\n",
    "     50,\n",
    "     60\n",
    "])\n",
    "\n",
    "sol7= opt.linprog(c,Aub,bub,integrality=1) # Este comando ya da la respuesta para la forma vector\n",
    "sol7.fun"
   ]
  },
  {
   "cell_type": "code",
   "execution_count": 183,
   "id": "36fb443d-2404-4b10-b8e2-b20f58dba10c",
   "metadata": {},
   "outputs": [
    {
     "data": {
      "text/plain": [
       "array([10., 45.,  0., 50.,  0.,  0.,  0.,  0., 60.])"
      ]
     },
     "execution_count": 183,
     "metadata": {},
     "output_type": "execute_result"
    }
   ],
   "source": [
    "sol7.x"
   ]
  },
  {
   "cell_type": "code",
   "execution_count": 185,
   "id": "56112ab5-6005-4029-9c22-b26ed0b87099",
   "metadata": {},
   "outputs": [
    {
     "data": {
      "text/plain": [
       "array([-60., -45., -60.,  55.,  50.,  60.])"
      ]
     },
     "execution_count": 185,
     "metadata": {},
     "output_type": "execute_result"
    }
   ],
   "source": [
    "Aub@sol7.x"
   ]
  },
  {
   "cell_type": "code",
   "execution_count": null,
   "id": "67ea7fd6-f3d8-4e17-84a6-557a745d12b8",
   "metadata": {},
   "outputs": [],
   "source": []
  },
  {
   "cell_type": "markdown",
   "id": "878f50ad-7ac1-4bcf-bb23-68ec4a1a6602",
   "metadata": {},
   "source": [
    "### A06_Programación lineal"
   ]
  },
  {
   "cell_type": "markdown",
   "id": "c1078043-b3fa-4101-a8f8-aae3001066e6",
   "metadata": {},
   "source": [
    "**Ejercicio 1.**\n",
    "\n",
    "Una carpintería local fabrica sillas, mesas, libreros y bases de cama. Hay dos empleados en esta carpintería: un empleado experimentado y un aprendiz. El aprendiz tarda aproximadamente 50% más tiempo que el carpintero experimentado en construir cualquier cosa, además de que tiene un desperdicio de alrededor de 20% de material. Los materiales y tiempos necesarios para construir algo se desglozan en la siguiente tabla:\n",
    "\n",
    "Las mesas se venden en $9000, las sillas en $3000, los libreros en $10000, y las bases de cama en $9000. Suponiendo una jornada de 40 horas a la semana y que tienen 100 unidades de madera."
   ]
  },
  {
   "cell_type": "markdown",
   "id": "0ded1980-343a-43eb-8cb6-8c8dbf8b5f2e",
   "metadata": {},
   "source": [
    "1. Identificar criterio\n",
    "   * Maximizar las ganancias de la semana\n",
    "     \n",
    "2. Variables de control\n",
    "   * Cantidad de sillas que hace el experimentado (se)\n",
    "   * Cantidad de mesas que hace el experimentado (me)\n",
    "   * Cantidad de libreros que hace el experimentado (le)\n",
    "   * Cantidad de bases que hace el experimentado (be)\n",
    "   * Cantidad de sillas que hace el aprendiz (sa)\n",
    "   * Cantidad de mesas que hace el aprendiz (ma)\n",
    "   * Cantidad de libreros que hace el aprendiz (la)\n",
    "   * Cantidad de bases que hace el aprendiz (ba)\n",
    "     \n",
    "3. Función de costo\n",
    "   * Costo(se,me,le,be,sa,ma,la,ba)= 9000me+9000ma+3000se+3000sa+10000le+10000la+9000be+9000ba\n",
    "     \n",
    "4. Información adicional (restricciones)\n",
    "   \n",
    "   * Tiempo $\\leq$ 40 cada quien\n",
    "   \n",
    " 3me+1se+4le+3be $\\leq$ 40\n",
    "\n",
    " 4.5ma+1.5sa+6la+4.5ba $\\leq$ 40\n",
    "\n",
    "* Material $\\leq$ 100\n",
    "\n",
    "6me+7.2ma+2se+2.4sa+5le+6la+5be+6ba $\\leq$ 100"
   ]
  },
  {
   "cell_type": "markdown",
   "id": "123bf788-127f-48e7-8956-e6052cb8eded",
   "metadata": {},
   "source": [
    "$$ \\min_{me,ma,se,sa,le,la,be,ba} -9000me-9000ma-3000se-3000sa-10000le-10000la-9000be-9000ba $$\n",
    "$$ \\text {s.t.} $$\n",
    "$$3me+1se+4le+3be \\leq 40$$\n",
    "$$4.5ma+1.5sa+6la+4.5ba \\leq 40$$\n",
    "$$6me+7.2ma+2se+2.4sa+5le+6la+5be+6ba \\leq 100$$"
   ]
  },
  {
   "cell_type": "code",
   "execution_count": 187,
   "id": "2a9bb037-9c83-44ae-ab63-88da1a8b2ebb",
   "metadata": {},
   "outputs": [
    {
     "data": {
      "text/plain": [
       "-176000.0"
      ]
     },
     "execution_count": 187,
     "metadata": {},
     "output_type": "execute_result"
    }
   ],
   "source": [
    "import numpy as np\n",
    "import scipy.optimize as opt\n",
    "\n",
    "c=np.array([\n",
    "    -9000,\n",
    "    -9000,\n",
    "    -3000,\n",
    "    -3000,\n",
    "    -10000,\n",
    "    -10000,\n",
    "    -9000,\n",
    "    -9000\n",
    "])\n",
    "\n",
    "Aub=np.array([\n",
    "    [   3,   0,   1,   0,   4,   0,   3,   0],\n",
    "    [   0, 4.5,   0, 1.5,   0,   6,   0, 4.5],\n",
    "    [   6, 7.2,   2, 2.4,   5,   6,   5,   6]\n",
    "])\n",
    "\n",
    "bub=np.array([\n",
    "    40,\n",
    "    40,\n",
    "    100\n",
    "])\n",
    "\n",
    "sol8= opt.linprog(c,Aub,bub,integrality=1) # Este comando ya da la respuesta para la forma vector\n",
    "sol8.fun"
   ]
  },
  {
   "cell_type": "code",
   "execution_count": 189,
   "id": "dab66526-77ca-4ace-9669-8f058ebc8bb3",
   "metadata": {},
   "outputs": [
    {
     "data": {
      "text/plain": [
       "array([ 0.00000000e+00,  0.00000000e+00,  1.00000000e+00, -9.47390314e-15,\n",
       "        9.00000000e+00,  2.00000000e+00,  1.00000000e+00,  6.00000000e+00])"
      ]
     },
     "execution_count": 189,
     "metadata": {},
     "output_type": "execute_result"
    }
   ],
   "source": [
    "sol8.x"
   ]
  },
  {
   "cell_type": "code",
   "execution_count": 195,
   "id": "849333c4-2c1d-4acd-9449-2aea539ff93b",
   "metadata": {},
   "outputs": [
    {
     "data": {
      "text/plain": [
       "array([ 40.,  39., 100.])"
      ]
     },
     "execution_count": 195,
     "metadata": {},
     "output_type": "execute_result"
    }
   ],
   "source": [
    "Aub@sol8.x"
   ]
  },
  {
   "cell_type": "code",
   "execution_count": null,
   "id": "bfea3b1d-7c5f-4415-9b11-35deedfc0d9b",
   "metadata": {},
   "outputs": [],
   "source": []
  }
 ],
 "metadata": {
  "kernelspec": {
   "display_name": "Python 3 (ipykernel)",
   "language": "python",
   "name": "python3"
  },
  "language_info": {
   "codemirror_mode": {
    "name": "ipython",
    "version": 3
   },
   "file_extension": ".py",
   "mimetype": "text/x-python",
   "name": "python",
   "nbconvert_exporter": "python",
   "pygments_lexer": "ipython3",
   "version": "3.12.4"
  }
 },
 "nbformat": 4,
 "nbformat_minor": 5
}
