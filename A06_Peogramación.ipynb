{
 "cells": [
  {
   "cell_type": "markdown",
   "id": "40da69e7-cbdd-49cd-9651-00a3e7254bb9",
   "metadata": {},
   "source": [
    "## Programación lineal\n",
    "\n",
    "Terezza Marianne González Jauregui\n",
    "\n",
    "09/09/2024"
   ]
  },
  {
   "cell_type": "markdown",
   "id": "ce0a1ca1-9885-484d-9642-0bc0dfa4f95c",
   "metadata": {},
   "source": [
    "**Ejercicio 1.**\n",
    "\n",
    "Una carpintería local fabrica sillas, mesas, libreros y bases de cama. Hay dos empleados en esta carpintería: un empleado experimentado y un aprendiz. El aprendiz tarda aproximadamente 50% más tiempo que el carpintero experimentado en construir cualquier cosa, además de que tiene un desperdicio de alrededor de 20% de material. Los materiales y tiempos necesarios para construir algo se desglozan en la siguiente tabla:\n",
    "\n",
    "Las mesas se venden en $9000, las sillas en $3000, los libreros en $10000, y las bases de cama en $9000. Suponiendo una jornada de 40 horas a la semana y que tienen 100 unidades de madera, \n",
    "* ¿qué les conviene construir durante una semana para maximizar su ganancia?\r\n",
    "* \r\n",
    "¿Cuántas horas trabaja cada quié\n",
    "  n* ?\r\n",
    "¿Cuánto material se u\n",
    "  s* a?\r\n",
    "¿Cuál se el ingreso total si se vende todo lo fabricado?"
   ]
  },
  {
   "cell_type": "markdown",
   "id": "2a0b5e7e-c66f-4a3a-828b-231cfa90e4fd",
   "metadata": {},
   "source": [
    "1. Identificar criterio\n",
    "   * Maximizar las ganancias de la semana\n",
    "     \n",
    "2. Variables de control\n",
    "   * Cantidad de sillas que hace el experimentado (se)\n",
    "   * Cantidad de mesas que hace el experimentado (me)\n",
    "   * Cantidad de libreros que hace el experimentado (le)\n",
    "   * Cantidad de bases que hace el experimentado (be)\n",
    "   * Cantidad de sillas que hace el aprendiz (sa)\n",
    "   * Cantidad de mesas que hace el aprendiz (ma)\n",
    "   * Cantidad de libreros que hace el aprendiz (la)\n",
    "   * Cantidad de bases que hace el aprendiz (ba)\n",
    "     \n",
    "3. Función de costo\n",
    "   * Costo(se,me,le,be,sa,ma,la,ba)= 9000me+9000ma+3000se+3000sa+10000le+10000la+9000be+9000ba\n",
    "     \n",
    "4. Información adicional (restricciones)\n",
    "   \n",
    "   * Tiempo $\\leq$ 40 cada quien\n",
    "   \n",
    " 3me+1se+4le+3be $\\leq$ 40\n",
    " 4.5ma+1.5sa+6la+4.5ba $\\leq$ 40\n",
    "\n",
    "* Material $\\leq$ 100\n",
    "\n",
    "6me+7.2ma+2se+2.4sa+5le+6la+5be+6ba $\\leq$ 100"
   ]
  },
  {
   "cell_type": "markdown",
   "id": "1d7d8d75-5062-445c-a3be-3aa6f105184f",
   "metadata": {},
   "source": [
    "$$ \\min_{me,ma,se,sa,le,la,be,ba} -9000me-9000ma-3000se-3000sa-10000le-10000la-9000be-9000ba $$\n",
    "$$ \\text {s.t.} $$\n",
    "$$3me+1se+4le+3be \\leq 40$$\n",
    "$$4.5ma+1.5sa+6la+4.5ba \\leq 40$$\n",
    "$$6me+7.2ma+2se+2.4sa+5le+6la+5be+6ba $\\leq$ 100$$"
   ]
  },
  {
   "cell_type": "code",
   "execution_count": 10,
   "id": "5963a436-79a2-4efa-a5c3-b7d5de69924d",
   "metadata": {},
   "outputs": [
    {
     "data": {
      "text/plain": [
       "470.0"
      ]
     },
     "execution_count": 10,
     "metadata": {},
     "output_type": "execute_result"
    }
   ],
   "source": [
    "import numpy as np\n",
    "import scipy.optimize as opt\n",
    "\n",
    "c=np.array([\n",
    "    5,\n",
    "    2,\n",
    "    7,\n",
    "    3,\n",
    "    4,\n",
    "    5,\n",
    "    5,\n",
    "    2,\n",
    "    3\n",
    "])\n",
    "\n",
    "Aub=np.array([\n",
    "    [ 1, 1, 1, 0, 0, 0, 0, 0, 0],\n",
    "    [ 0, 0, 0, 1, 1, 1, 0, 0, 0],\n",
    "    [ 0, 0, 0, 0, 0, 0, 1, 1, 1],\n",
    "    [-1, 0, 0,-1, 0, 0,-1, 0, 0],\n",
    "    [ 0,-1, 0, 0,-1, 0, 0,-1, 0],\n",
    "    [ 0, 0,-1, 0, 0,-1, 0, 0,-1]\n",
    "])\n",
    "\n",
    "bub=np.array([\n",
    "    75,\n",
    "    50,\n",
    "    60,\n",
    "    -60,\n",
    "    -45,\n",
    "    -60\n",
    "])\n",
    "\n",
    "\n",
    "sol= opt.linprog(c,Aub,bub,integrality=1) # Este comando ya da la respuesta para la forma vector\n",
    "Aub@sol.x # Me dice cuanto gramos tuvo de cada cosa\n",
    "sol.fun # Esto da como un diccionario .x para variables, .fun para la funcion de costo"
   ]
  },
  {
   "cell_type": "markdown",
   "id": "1a8f2d8c-9d6e-48c9-b0eb-60b5d9f02297",
   "metadata": {},
   "source": [
    "2. La carpintería recibió una orden por 3 combos de mesa + 6 sillas.\n",
    "\n",
    "¿Se puede cumplir la orden?\n",
    "Si sí, ¿qué es lo que tienen que fabricar en el resto del tiempo y con el resto del material para maximizar su ganancia?\n",
    "¿Cuántas horas trabaja cada quién?\n",
    "¿Cuánto material se usa?\n",
    "¿Cuál es el nuevo ingreso total?"
   ]
  },
  {
   "cell_type": "code",
   "execution_count": null,
   "id": "0a1b60c3-bbaa-43f6-bade-fa30b06eccb1",
   "metadata": {},
   "outputs": [],
   "source": []
  }
 ],
 "metadata": {
  "kernelspec": {
   "display_name": "Python 3 (ipykernel)",
   "language": "python",
   "name": "python3"
  },
  "language_info": {
   "codemirror_mode": {
    "name": "ipython",
    "version": 3
   },
   "file_extension": ".py",
   "mimetype": "text/x-python",
   "name": "python",
   "nbconvert_exporter": "python",
   "pygments_lexer": "ipython3",
   "version": "3.12.4"
  }
 },
 "nbformat": 4,
 "nbformat_minor": 5
}
