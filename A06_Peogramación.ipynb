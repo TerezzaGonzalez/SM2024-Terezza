{
 "cells": [
  {
   "cell_type": "markdown",
   "id": "40da69e7-cbdd-49cd-9651-00a3e7254bb9",
   "metadata": {},
   "source": [
    "## Programación lineal\n",
    "\n",
    "Terezza Marianne González Jauregui\n",
    "\n",
    "09/09/2024"
   ]
  },
  {
   "cell_type": "markdown",
   "id": "ce0a1ca1-9885-484d-9642-0bc0dfa4f95c",
   "metadata": {},
   "source": [
    "**Ejercicio 1.**\n",
    "\n",
    "Una carpintería local fabrica sillas, mesas, libreros y bases de cama. Hay dos empleados en esta carpintería: un empleado experimentado y un aprendiz. El aprendiz tarda aproximadamente 50% más tiempo que el carpintero experimentado en construir cualquier cosa, además de que tiene un desperdicio de alrededor de 20% de material. Los materiales y tiempos necesarios para construir algo se desglozan en la siguiente tabla:\n",
    "\n",
    "Las mesas se venden en $9000, las sillas en $3000, los libreros en $10000, y las bases de cama en $9000. Suponiendo una jornada de 40 horas a la semana y que tienen 100 unidades de madera.ado?"
   ]
  },
  {
   "cell_type": "markdown",
   "id": "2a0b5e7e-c66f-4a3a-828b-231cfa90e4fd",
   "metadata": {},
   "source": [
    "1. Identificar criterio\n",
    "   * Maximizar las ganancias de la semana\n",
    "     \n",
    "2. Variables de control\n",
    "   * Cantidad de sillas que hace el experimentado (se)\n",
    "   * Cantidad de mesas que hace el experimentado (me)\n",
    "   * Cantidad de libreros que hace el experimentado (le)\n",
    "   * Cantidad de bases que hace el experimentado (be)\n",
    "   * Cantidad de sillas que hace el aprendiz (sa)\n",
    "   * Cantidad de mesas que hace el aprendiz (ma)\n",
    "   * Cantidad de libreros que hace el aprendiz (la)\n",
    "   * Cantidad de bases que hace el aprendiz (ba)\n",
    "     \n",
    "3. Función de costo\n",
    "   * Costo(se,me,le,be,sa,ma,la,ba)= 9000me+9000ma+3000se+3000sa+10000le+10000la+9000be+9000ba\n",
    "     \n",
    "4. Información adicional (restricciones)\n",
    "   \n",
    "   * Tiempo $\\leq$ 40 cada quien\n",
    "   \n",
    " 3me+1se+4le+3be $\\leq$ 40\n",
    "\n",
    " 4.5ma+1.5sa+6la+4.5ba $\\leq$ 40\n",
    "\n",
    "* Material $\\leq$ 100\n",
    "\n",
    "6me+7.2ma+2se+2.4sa+5le+6la+5be+6ba $\\leq$ 100"
   ]
  },
  {
   "cell_type": "markdown",
   "id": "1d7d8d75-5062-445c-a3be-3aa6f105184f",
   "metadata": {},
   "source": [
    "$$ \\min_{me,ma,se,sa,le,la,be,ba} -9000me-9000ma-3000se-3000sa-10000le-10000la-9000be-9000ba $$\n",
    "$$ \\text {s.t.} $$\n",
    "$$3me+1se+4le+3be \\leq 40$$\n",
    "$$4.5ma+1.5sa+6la+4.5ba \\leq 40$$\n",
    "$$6me+7.2ma+2se+2.4sa+5le+6la+5be+6ba \\leq 100$$"
   ]
  },
  {
   "cell_type": "code",
   "execution_count": 119,
   "id": "5963a436-79a2-4efa-a5c3-b7d5de69924d",
   "metadata": {},
   "outputs": [
    {
     "data": {
      "text/plain": [
       "        message: Optimization terminated successfully. (HiGHS Status 7: Optimal)\n",
       "        success: True\n",
       "         status: 0\n",
       "            fun: -176000.0\n",
       "              x: [ 0.000e+00  0.000e+00  1.000e+00 -9.474e-15  9.000e+00\n",
       "                   2.000e+00  1.000e+00  6.000e+00]\n",
       "            nit: -1\n",
       "          lower:  residual: [ 0.000e+00  0.000e+00  1.000e+00 -9.474e-15\n",
       "                              9.000e+00  2.000e+00  1.000e+00  6.000e+00]\n",
       "                 marginals: [ 0.000e+00  0.000e+00  0.000e+00  0.000e+00\n",
       "                              0.000e+00  0.000e+00  0.000e+00  0.000e+00]\n",
       "          upper:  residual: [       inf        inf        inf        inf\n",
       "                                    inf        inf        inf        inf]\n",
       "                 marginals: [ 0.000e+00  0.000e+00  0.000e+00  0.000e+00\n",
       "                              0.000e+00  0.000e+00  0.000e+00  0.000e+00]\n",
       "          eqlin:  residual: []\n",
       "                 marginals: []\n",
       "        ineqlin:  residual: [ 0.000e+00  1.000e+00  0.000e+00]\n",
       "                 marginals: [ 0.000e+00  0.000e+00  0.000e+00]\n",
       " mip_node_count: 1\n",
       " mip_dual_bound: -176000.0\n",
       "        mip_gap: 0.0"
      ]
     },
     "execution_count": 119,
     "metadata": {},
     "output_type": "execute_result"
    }
   ],
   "source": [
    "import numpy as np\n",
    "import scipy.optimize as opt\n",
    "\n",
    "c=np.array([\n",
    "    -9000,\n",
    "    -9000,\n",
    "    -3000,\n",
    "    -3000,\n",
    "    -10000,\n",
    "    -10000,\n",
    "    -9000,\n",
    "    -9000\n",
    "])\n",
    "\n",
    "Aub=np.array([\n",
    "    [   3,   0,   1,   0,   4,   0,   3,   0],\n",
    "    [   0, 4.5,   0, 1.5,   0,   6,   0, 4.5],\n",
    "    [   6, 7.2,   2, 2.4,   5,   6,   5,   6]\n",
    "])\n",
    "\n",
    "bub=np.array([\n",
    "    40,\n",
    "    40,\n",
    "    100\n",
    "])\n",
    "\n",
    "sol= opt.linprog(c,Aub,bub,integrality=1) # Este comando ya da la respuesta para la forma vector\n",
    "sol"
   ]
  },
  {
   "cell_type": "markdown",
   "id": "1d3063d7-95d7-4610-afc5-87b1ba36d919",
   "metadata": {},
   "source": [
    "* ¿qué les conviene construir durante una semana para maximizar su ganancia?"
   ]
  },
  {
   "cell_type": "code",
   "execution_count": 64,
   "id": "d04a01e2-b8c5-4abf-af9a-2a76bb81ab5b",
   "metadata": {},
   "outputs": [
    {
     "data": {
      "text/plain": [
       "array([ 0.00000000e+00,  0.00000000e+00,  1.00000000e+00, -9.47390314e-15,\n",
       "        9.00000000e+00,  2.00000000e+00,  1.00000000e+00,  6.00000000e+00])"
      ]
     },
     "execution_count": 64,
     "metadata": {},
     "output_type": "execute_result"
    }
   ],
   "source": [
    "sol.x\n",
    "# Les conviene:\n",
    "    #Experto: 0 mesas, 1 silla, 9 libreros y 1 base\n",
    "    #Aprendiz: 0 mesas, o sillas, 2 libreros y 6 bases"
   ]
  },
  {
   "cell_type": "markdown",
   "id": "f0a8e320-317c-4b70-93a0-d8a04fef564f",
   "metadata": {},
   "source": [
    "* ¿Cuántas horas trabaja cada quién?\r",
    "* \n",
    "¿Cuánto material se usa?"
   ]
  },
  {
   "cell_type": "code",
   "execution_count": 39,
   "id": "94fb5b3c-c69a-4234-a656-1cbdcee5c9c4",
   "metadata": {},
   "outputs": [
    {
     "data": {
      "text/plain": [
       "array([ 40.,  39., 100.])"
      ]
     },
     "execution_count": 39,
     "metadata": {},
     "output_type": "execute_result"
    }
   ],
   "source": [
    "Aub@sol.x\n",
    "# El experto trabaja 40 horas\n",
    "# El aprendiz trabaja 39\n",
    "# Se ocupó 100 de material"
   ]
  },
  {
   "cell_type": "markdown",
   "id": "52c2e049-6843-40c5-ad92-1b437d426021",
   "metadata": {},
   "source": [
    "* ¿Cuál se el ingreso total si se vende todo lo fabricado?"
   ]
  },
  {
   "cell_type": "code",
   "execution_count": 121,
   "id": "126237d5-abc5-40a1-8474-acd1e500c0a8",
   "metadata": {},
   "outputs": [
    {
     "data": {
      "text/plain": [
       "-176000.0"
      ]
     },
     "execution_count": 121,
     "metadata": {},
     "output_type": "execute_result"
    }
   ],
   "source": [
    "sol.fun\n",
    "# Se vende 176000"
   ]
  },
  {
   "cell_type": "markdown",
   "id": "1a8f2d8c-9d6e-48c9-b0eb-60b5d9f02297",
   "metadata": {},
   "source": [
    "2. La carpintería recibió una orden por 3 combos de mesa + 6 sillas.\n",
    "\n",
    "* ¿Se puede cumplir la orden?\n",
    "* Si sí, ¿qué es lo que tienen que fabricar en el resto del tiempo y con el resto del material para maximizar su ganancia?\n",
    "* ¿Cuántas horas trabaja cada quién?\n",
    "* ¿Cuánto material se usa?\n",
    "* ¿Cuál es el nuevo ingreso total?"
   ]
  },
  {
   "cell_type": "markdown",
   "id": "adc69ce9-f3f1-453e-bb0b-9a54fe9078fc",
   "metadata": {},
   "source": [
    "1. Identificar criterio\n",
    "   * Maximizar las ganancias de la semana y cumplir con los combos.\n",
    "     \n",
    "2. Variables de control\n",
    "   * Cantidad de sillas que hace el experimentado (se)\n",
    "   * Cantidad de mesas que hace el experimentado (me)\n",
    "   * Cantidad de libreros que hace el experimentado (le)\n",
    "   * Cantidad de bases que hace el experimentado (be)\n",
    "   * Cantidad de sillas que hace el aprendiz (sa)\n",
    "   * Cantidad de mesas que hace el aprendiz (ma)\n",
    "   * Cantidad de libreros que hace el aprendiz (la)\n",
    "   * Cantidad de bases que hace el aprendiz (ba)\n",
    "     \n",
    "3. Función de costo\n",
    "   * Costo(se,me,le,be,sa,ma,la,ba)= 9000me+9000ma+3000se+3000sa+10000le+10000la+9000be+9000ba\n",
    "     \n",
    "4. Información adicional (restricciones)\n",
    "\n",
    " Sillas:\n",
    " se+sa $\\geq$ 18\n",
    "\n",
    " Mesas:\n",
    " me+ma $\\geq$ 3\n",
    "   \n",
    "   * Tiempo $\\leq$ 40 cada quien\n",
    "   \n",
    " 3me+1se+4le+3be $\\leq$ 40\n",
    "\n",
    " 4.5ma+1.5sa+6la+4.5ba $\\leq$ 40\n",
    "\n",
    "* Material $\\leq$ 100\n",
    "\n",
    "6me+7.2ma+2se+2.4sa+5le+6la+5be+6ba $\\leq$ 100\n"
   ]
  },
  {
   "cell_type": "markdown",
   "id": "b9390260-1898-46b4-a44f-d60944bd50d6",
   "metadata": {},
   "source": [
    "$$ \\min_{me,ma,se,sa,le,la,be,ba} -9000me-9000ma-3000se-3000sa-10000le-10000la-9000be-9000ba $$\n",
    "$$ \\text {s.t.} $$\n",
    "$$3me+1se+4le+3be \\leq 40$$\n",
    "$$4.5ma+1.5sa+6la+4.5ba \\leq 40$$\n",
    "$$6me+7.2ma+2se+2.4sa+5le+6la+5be+6ba \\leq 100$$\n",
    "$$ se+sa \\geq 18 $$\n",
    "$$ me+ma \\geq 3 $$"
   ]
  },
  {
   "cell_type": "code",
   "execution_count": 134,
   "id": "26354806-b876-4b44-b390-f226b76d0b56",
   "metadata": {},
   "outputs": [
    {
     "data": {
      "text/plain": [
       "        message: Optimization terminated successfully. (HiGHS Status 7: Optimal)\n",
       "        success: True\n",
       "         status: 0\n",
       "            fun: -161000.0\n",
       "              x: [ 3.000e+00  0.000e+00  1.800e+01  0.000e+00  3.000e+00\n",
       "                   5.000e+00  0.000e+00  0.000e+00]\n",
       "            nit: -1\n",
       "          lower:  residual: [ 3.000e+00  0.000e+00  1.800e+01  0.000e+00\n",
       "                              3.000e+00  5.000e+00  0.000e+00  0.000e+00]\n",
       "                 marginals: [ 0.000e+00  0.000e+00  0.000e+00  0.000e+00\n",
       "                              0.000e+00  0.000e+00  0.000e+00  0.000e+00]\n",
       "          upper:  residual: [       inf        inf        inf        inf\n",
       "                                    inf        inf        inf        inf]\n",
       "                 marginals: [ 0.000e+00  0.000e+00  0.000e+00  0.000e+00\n",
       "                              0.000e+00  0.000e+00  0.000e+00  0.000e+00]\n",
       "          eqlin:  residual: []\n",
       "                 marginals: []\n",
       "        ineqlin:  residual: [ 1.000e+00  1.000e+01  1.000e+00  0.000e+00\n",
       "                              0.000e+00]\n",
       "                 marginals: [ 0.000e+00  0.000e+00  0.000e+00  0.000e+00\n",
       "                              0.000e+00]\n",
       " mip_node_count: 1\n",
       " mip_dual_bound: -161000.0\n",
       "        mip_gap: 0.0"
      ]
     },
     "execution_count": 134,
     "metadata": {},
     "output_type": "execute_result"
    }
   ],
   "source": [
    "import numpy as np\n",
    "import scipy.optimize as opt\n",
    "\n",
    "c=np.array([\n",
    "    -9000,\n",
    "    -9000,\n",
    "    -3000,\n",
    "    -3000,\n",
    "    -10000,\n",
    "    -10000,\n",
    "    -9000,\n",
    "    -9000\n",
    "])\n",
    "\n",
    "Aub=np.array([\n",
    "    [   3,   0,   1,   0,   4,   0,   3,   0],\n",
    "    [   0, 4.5,   0, 1.5,   0,   6,   0, 4.5],\n",
    "    [   6, 7.2,   2, 2.4,   5,   6,   5,   6],\n",
    "    [   0,   0,  -1,  -1,   0,   0,   0,   0],\n",
    "    [  -1,  -1,   0,   0,   0,   0,   0,   0],\n",
    "])\n",
    "\n",
    "bub=np.array([\n",
    "      40,\n",
    "      40,\n",
    "     100,\n",
    "     -18,\n",
    "      -3\n",
    "])\n",
    "\n",
    "sol2= opt.linprog(c,Aub,bub,integrality=1) # Este comando ya da la respuesta para la forma vector\n",
    "sol2"
   ]
  },
  {
   "cell_type": "markdown",
   "id": "0abc8f65-ec28-4833-97db-42e037b2fa34",
   "metadata": {},
   "source": [
    "* ¿Se puede cumplir la orden?"
   ]
  },
  {
   "cell_type": "code",
   "execution_count": null,
   "id": "f48fe91b-835f-490f-b6cf-85ec6fceb4c2",
   "metadata": {},
   "outputs": [],
   "source": [
    "Si se puede"
   ]
  },
  {
   "cell_type": "markdown",
   "id": "b2f28733-054c-45b9-bbba-78c23fde4656",
   "metadata": {},
   "source": [
    "* Si sí, ¿qué es lo que tienen que fabricar en el resto del tiempo y con el resto del material para maximizar su ganancia?"
   ]
  },
  {
   "cell_type": "code",
   "execution_count": 147,
   "id": "121fd707-cb37-4783-ab4f-68c0e579ef53",
   "metadata": {},
   "outputs": [
    {
     "data": {
      "text/plain": [
       "array([ 3.,  0., 18.,  0.,  3.,  5.,  0.,  0.])"
      ]
     },
     "execution_count": 147,
     "metadata": {},
     "output_type": "execute_result"
    }
   ],
   "source": [
    "sol2.x\n",
    "# Les conviene:\n",
    "    #Experto: 3 mesas, 18 silla, 3 libreros y 0 base\n",
    "    #Aprendiz: 0 mesas, 0 sillas, 5 libreros y 0 bases"
   ]
  },
  {
   "cell_type": "markdown",
   "id": "d30ff1cf-6a1d-4536-99ac-a5e1085d97e8",
   "metadata": {},
   "source": [
    "* ¿Cuántas horas trabaja cada quién?\n",
    "* ¿Cuánto material se usa?"
   ]
  },
  {
   "cell_type": "code",
   "execution_count": 145,
   "id": "a53890cc-0a80-40f9-8384-4b007c8cfa4a",
   "metadata": {},
   "outputs": [
    {
     "data": {
      "text/plain": [
       "array([ 39.,  30.,  99., -18.,  -3.])"
      ]
     },
     "execution_count": 145,
     "metadata": {},
     "output_type": "execute_result"
    }
   ],
   "source": [
    "Aub@sol2.x\n",
    "# El experto trabaja 39 horas\n",
    "# El aprendiz trabaja 30\n",
    "# Se ocupó 99 de material"
   ]
  },
  {
   "cell_type": "markdown",
   "id": "3a40ae91-6f66-419a-a350-d221da69dbb8",
   "metadata": {},
   "source": [
    "* ¿Cuál es el nuevo ingreso total?"
   ]
  },
  {
   "cell_type": "code",
   "execution_count": 142,
   "id": "f4f2a942-e9a7-4628-bbe8-8198862e0f04",
   "metadata": {},
   "outputs": [
    {
     "data": {
      "text/plain": [
       "-161000.0"
      ]
     },
     "execution_count": 142,
     "metadata": {},
     "output_type": "execute_result"
    }
   ],
   "source": [
    "sol2.fun\n",
    "# Se vende 161000"
   ]
  }
 ],
 "metadata": {
  "kernelspec": {
   "display_name": "Python 3 (ipykernel)",
   "language": "python",
   "name": "python3"
  },
  "language_info": {
   "codemirror_mode": {
    "name": "ipython",
    "version": 3
   },
   "file_extension": ".py",
   "mimetype": "text/x-python",
   "name": "python",
   "nbconvert_exporter": "python",
   "pygments_lexer": "ipython3",
   "version": "3.12.4"
  }
 },
 "nbformat": 4,
 "nbformat_minor": 5
}
