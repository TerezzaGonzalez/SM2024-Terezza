{
 "cells": [
  {
   "cell_type": "markdown",
   "id": "318694d0-33e1-44f1-9650-3443bbcd7f43",
   "metadata": {},
   "source": [
    "# Examen A Módulo 1 - Optimización.\n",
    "\n",
    "**Lea cuidadosamente las siguientes indicaciones antes de comenzar el examen:**\n",
    "- Para resolver el examen edite este mismo archivo y renómbrelo de la siguiente manera: *Examen1_ApellidoNombre*, donde *ApellidoNombre* corresponde a su apellido paterno con la inicial en mayúscula, seguido de su primer nombre con la inicial en mayúscula **sin tildes**. Por ejemplo, en mi caso el nombre del archivo sería *Examen1_MoralesGabriel*.\n",
    "- Resuelva los puntos en el espacio provisto. Si requiere agregar más celdas para código o escritura, hágalo (`Esc`,`B`) o (`Esc`,`A`).\n",
    "- Recuerde que también se está evaluando su capacidad de interpretar los resultados. Escriba sus interpretaciones/conclusiones en celdas utilizando *Markdown*.\n",
    "- El formato de presentación de todo el examen en general debe ser adecuado. Use tamaños de letra, colores, etiquetas, etcétera.\n",
    "- No se resuelven dudas de ningún tipo por los profesores de la asignatura. Por favor, absténgase de preguntar.\n",
    "- Revise bien el tipo de examen. Sólo se le calificará si realiza el tipo de examen asignado."
   ]
  },
  {
   "cell_type": "markdown",
   "id": "416c5986-27e8-4eac-84f7-d5ca143cbbae",
   "metadata": {},
   "source": [
    "## 1. Optimización de funciones con `Sympy`\n",
    "\n",
    "Funciones permitidas: subs, solve, var, expresiones matemáticas"
   ]
  },
  {
   "cell_type": "markdown",
   "id": "07dadfa1-7f83-484a-909c-0150a65ce280",
   "metadata": {},
   "source": [
    "\n",
    "Un cine cobra 86 pesos la entrada estándar y 60 pesos la entrada a estudiantes. Una sala con capacidad para 120 personas se ocupó al 70\\%. Los ingresos para esa función fueron de 6,600 MXN. ¿Cuántos estudiantes entraron?"
   ]
  },
  {
   "cell_type": "code",
   "execution_count": 1,
   "id": "a055ddd5-59d1-4679-8549-32cb17ac4083",
   "metadata": {},
   "outputs": [
    {
     "data": {
      "text/plain": [
       "(60, 24)"
      ]
     },
     "execution_count": 1,
     "metadata": {},
     "output_type": "execute_result"
    }
   ],
   "source": [
    "#Ecuaciones\n",
    "#86x+60y=6600\n",
    "#x+y=84\n",
    "\n",
    "import numpy as np\n",
    "import scipy.optimize as opt\n",
    "import sympy as sp\n",
    "\n",
    "sp.var(\"x\")\n",
    "sp.var(\"y\")\n",
    "\n",
    "equ1=86*x+60*y-6600\n",
    "equ2=x+y-84\n",
    "\n",
    "xequ1=sp.solve(equ1,x)[0]\n",
    "yequ2=equ2.subs(x,xequ1)\n",
    "ysol=sp.solve(yequ2,y)[0]\n",
    "xsol=xequ1.subs(y,ysol)\n",
    "\n",
    "xsol,ysol"
   ]
  },
  {
   "cell_type": "markdown",
   "id": "d3223658-4d39-4f3c-b271-000c79789f48",
   "metadata": {},
   "source": [
    "Entraron 24 estudiantes."
   ]
  },
  {
   "cell_type": "code",
   "execution_count": null,
   "id": "789f4501-2b81-44b3-83dd-4e757a6d90cd",
   "metadata": {},
   "outputs": [],
   "source": []
  },
  {
   "cell_type": "markdown",
   "id": "cb9897ae-f689-4575-82ad-d265f7243f77",
   "metadata": {},
   "source": [
    "El cine ofrece combos y opciones individuales. El combo 'amigos' tiene un costo de 156 MXN y consiste de 2 refrescos y unas palomitas. Existe también el combo 'nachos' que tiene un costo de 112 MXN y consiste de un refresco y una orden de nachos. Por separado el refresco tiene un costo de 60 MXN, las palomitas 58 MXN y los nachos 72 MXN. Se obtuvo un total de 6450 de ingresos en dulcería:\n",
    "\n",
    "- 38 combos vendidos\n",
    "- 70 refrescos vendidos\n",
    "- 33 órdenes de palomitas grandes vendidas\n",
    "- 16 órdenes de nachos vendidas\n",
    "\n",
    "¿Cuántas personas compraron palomitas sueltas?"
   ]
  },
  {
   "cell_type": "code",
   "execution_count": 4,
   "id": "65a87ffc-81ae-4b61-8044-6d12255887f7",
   "metadata": {},
   "outputs": [
    {
     "data": {
      "text/plain": [
       "(5, 4, 6, 28, 10)"
      ]
     },
     "execution_count": 4,
     "metadata": {},
     "output_type": "execute_result"
    }
   ],
   "source": [
    "import numpy as np\n",
    "import scipy.optimize as opt\n",
    "import sympy as sp\n",
    "\n",
    "sp.var(\"x\")#Palomitas\n",
    "sp.var(\"y\")#refrescos\n",
    "sp.var(\"z\")#nachos\n",
    "sp.var(\"ca\")#combo amigos\n",
    "sp.var(\"cn\")#combo nachos\n",
    "\n",
    "combos = ca + cn - 38  # Total de combos\n",
    "eq1 = 2*ca + cn + y - 70  # Total de refrescos\n",
    "eq2 = ca + x - 33  # Total de palomitas\n",
    "eq3 = cn + z - 16  # Total de nachos\n",
    "Total = 156*ca + 112*cn + 60*y + 58*x + 72*z - 6450  # Total de ingresos\n",
    "\n",
    "resultados=sp.solve((combos,eq1,eq2,eq3,Total),(ca,cn,x,y,z))\n",
    "xsol=resultados[x]\n",
    "ysol=resultados[y]\n",
    "zsol=resultados[z]\n",
    "casol=resultados[ca]\n",
    "cnsol=resultados[cn]\n",
    "\n",
    "\n",
    "xsol,ysol,zsol,casol,cnsol"
   ]
  },
  {
   "cell_type": "markdown",
   "id": "879ded5b-3252-4447-bf42-9f5425105eed",
   "metadata": {},
   "source": [
    "Se compraron 5 palomitas sueltas."
   ]
  },
  {
   "cell_type": "code",
   "execution_count": null,
   "id": "52dce079-007e-40e2-bb15-af08a51dec11",
   "metadata": {},
   "outputs": [],
   "source": []
  },
  {
   "cell_type": "markdown",
   "id": "ab5836e7-1035-42cc-9c90-6f7178d2b733",
   "metadata": {},
   "source": [
    "## 2. Programación lineal"
   ]
  },
  {
   "cell_type": "markdown",
   "id": "86788769-18d8-49e5-9ec2-4ba4d8c0c1ce",
   "metadata": {},
   "source": [
    "Una empresa produce costales de 3 tipos de fertilizantes para diferentes aplicaciones utilizando cuantro componentes químicos: azufre, potasio, fósforo y nitrógeno. La información de cada tonelada de fertilizante es:\n"
   ]
  },
  {
   "cell_type": "markdown",
   "id": "2de8d90d-84ea-4537-887a-15127e2aaca7",
   "metadata": {},
   "source": [
    "<table>\n",
    "  <tr>\n",
    "      <th>Fertilizante</th>\n",
    "      <th>Fósforo</th>\n",
    "      <th>Azufre</th>\n",
    "      <th>Potasio</th>\n",
    "      <th>Nitrógeno</th>\n",
    "      <th>Precio de venta </th>\n",
    "  </tr>\n",
    "  <tr>\n",
    "      <td>A</td>\n",
    "      <td>3 kg</td>\n",
    "      <td>5 kg</td>\n",
    "      <td>4 kg</td>\n",
    "      <td>2 kg </td>\n",
    "      <td>\\$40000</td>\n",
    "  </tr>\n",
    "  <tr>\n",
    "      <td>B</td>\n",
    "      <td>4 kg</td>\n",
    "      <td>3 kg</td>\n",
    "      <td>2 kg</td>\n",
    "      <td>1 kg</td>\n",
    "      <td>\\$50000</td>\n",
    "  </tr>\n",
    "  <tr>\n",
    "      <td>C</td>\n",
    "      <td>5 kg</td>\n",
    "      <td>2 kg</td>\n",
    "      <td>3 kg</td>\n",
    "      <td>4 kg</td>\n",
    "      <td>\\$60000</td>\n",
    "  </tr>\n",
    "\n",
    "</table>"
   ]
  },
  {
   "cell_type": "markdown",
   "id": "c712fdf8-3adf-4294-aafc-50be5eb7743d",
   "metadata": {},
   "source": [
    "La máquina que se usa para mezclar el fertilizante C necesita mantenimiento y por lo tanto sólo puede mezclar 10 toneladas. Además, hay un pedido de 8 toneladas del fertilizante A."
   ]
  },
  {
   "cell_type": "markdown",
   "id": "52edf909-5367-4cd1-ba12-8a1341254de4",
   "metadata": {},
   "source": [
    "Dado que en almacén se tienen 90 kg de fósforo, 120 kg de nitrógeno, 80 kg de azufre y 95 kg de potasio, ¿cuánto recomiendas que se mezcle de cada fertilizante? (Nota: No se permiten fracciones de toneladas)"
   ]
  },
  {
   "cell_type": "markdown",
   "id": "5a39a8d1-092c-4199-ba4a-b66e7ade6442",
   "metadata": {},
   "source": [
    "$$ \\min_{A,B,C} -40000A-50000B-60000C $$\n",
    "$$ \\text {s.t.} $$\n",
    "$$ 3A+4B+5C≤90 $$\n",
    "$$ 5A+3B+2C≤80 $$\n",
    "$$ 4A+2B+3C≤95 $$\n",
    "$$ 2A+1B+4C≤120 $$\n",
    "$$ C≤10 $$\n",
    "$$ A\\geq 8 $$"
   ]
  },
  {
   "cell_type": "code",
   "execution_count": 19,
   "id": "23897615-91a8-40e3-8d0f-425817b73dd6",
   "metadata": {},
   "outputs": [
    {
     "data": {
      "text/plain": [
       "        message: Optimization terminated successfully. (HiGHS Status 7: Optimal)\n",
       "        success: True\n",
       "         status: 0\n",
       "            fun: -1130000.0\n",
       "              x: [ 8.000e+00  9.000e+00  6.000e+00]\n",
       "            nit: -1\n",
       "          lower:  residual: [ 8.000e+00  9.000e+00  6.000e+00]\n",
       "                 marginals: [ 0.000e+00  0.000e+00  0.000e+00]\n",
       "          upper:  residual: [       inf        inf        inf]\n",
       "                 marginals: [ 0.000e+00  0.000e+00  0.000e+00]\n",
       "          eqlin:  residual: []\n",
       "                 marginals: []\n",
       "        ineqlin:  residual: [ 0.000e+00  1.000e+00  2.700e+01  7.100e+01\n",
       "                              4.000e+00  0.000e+00]\n",
       "                 marginals: [ 0.000e+00  0.000e+00  0.000e+00  0.000e+00\n",
       "                              0.000e+00  0.000e+00]\n",
       " mip_node_count: 1\n",
       " mip_dual_bound: -1130000.0\n",
       "        mip_gap: 0.0"
      ]
     },
     "execution_count": 19,
     "metadata": {},
     "output_type": "execute_result"
    }
   ],
   "source": [
    "import numpy as np\n",
    "import scipy.optimize as opt\n",
    "\n",
    "c=np.array([\n",
    "    -40000,\n",
    "    -50000,\n",
    "    -60000\n",
    "])\n",
    "\n",
    "Aub=np.array([\n",
    "    [3,4,5], #fósforo por cada fertilizante\n",
    "    [5,3,2],#azufre por cada fertilizante\n",
    "    [4,2,3],#potasio por cada fertilizante\n",
    "    [2,1,4],#nitrógeno por cada fertilizante\n",
    "    [0,0,1], #limitante del fertilizante C\n",
    "    [-1,0,0] #Pedido fertilizante A \n",
    "])\n",
    "\n",
    "bub=np.array([\n",
    "    90, #almacén fósforo\n",
    "    80,#almacén azufre\n",
    "    95,#almacén potasio\n",
    "    120,#almacén nitrogéno\n",
    "    10, #Solo se puede hacer 10 de C\n",
    "    -8 #Se necesita más de 8 de A\n",
    "])\n",
    "\n",
    "sol=opt.linprog(c,Aub,bub, integrality=1)\n",
    "sol"
   ]
  },
  {
   "cell_type": "markdown",
   "id": "bedbe962-6157-4671-aa0a-3e3ab8b1a2c9",
   "metadata": {},
   "source": [
    "Se recomienda mezclar 8 del A, 9 del B y 6 del C."
   ]
  },
  {
   "cell_type": "code",
   "execution_count": null,
   "id": "7feea821-031b-4550-afb6-9676735443c9",
   "metadata": {},
   "outputs": [],
   "source": []
  },
  {
   "cell_type": "markdown",
   "id": "37122386-1fe4-4c31-bd70-9da91932311c",
   "metadata": {},
   "source": [
    "¿Cuál es el ingreso total?"
   ]
  },
  {
   "cell_type": "code",
   "execution_count": 24,
   "id": "ceba489f-2bf7-4989-a51b-f57efae1b51b",
   "metadata": {},
   "outputs": [
    {
     "data": {
      "text/plain": [
       "-1130000.0"
      ]
     },
     "execution_count": 24,
     "metadata": {},
     "output_type": "execute_result"
    }
   ],
   "source": [
    "sol.fun"
   ]
  },
  {
   "cell_type": "markdown",
   "id": "d30d2486-9e33-4918-95c9-d09f69e53bd0",
   "metadata": {},
   "source": [
    "El ingreso fue de 1130000."
   ]
  },
  {
   "cell_type": "code",
   "execution_count": null,
   "id": "ee389e86-3b90-4d77-a520-51641e623b5f",
   "metadata": {},
   "outputs": [],
   "source": []
  },
  {
   "cell_type": "markdown",
   "id": "5944d4b6-a651-47ec-91d8-f6e3666d62a3",
   "metadata": {},
   "source": [
    "¿Cuánto fósforo quedó en almacén?"
   ]
  },
  {
   "cell_type": "code",
   "execution_count": 29,
   "id": "a5297246-a6ab-4adb-88b7-5002723775be",
   "metadata": {},
   "outputs": [
    {
     "data": {
      "text/plain": [
       "array([90., 79., 68., 49.,  6., -8.])"
      ]
     },
     "execution_count": 29,
     "metadata": {},
     "output_type": "execute_result"
    }
   ],
   "source": [
    "Aub@sol.x"
   ]
  },
  {
   "cell_type": "markdown",
   "id": "53b22746-4ae8-4e0b-b032-2f262dc05d9a",
   "metadata": {},
   "source": [
    "Se usó 90, quedó 0 en el almacén."
   ]
  },
  {
   "cell_type": "code",
   "execution_count": null,
   "id": "fc81e50f-0924-4684-9414-05f0a29e2379",
   "metadata": {},
   "outputs": [],
   "source": []
  },
  {
   "cell_type": "markdown",
   "id": "5837735d-4552-4fd3-919c-8c2250de718e",
   "metadata": {},
   "source": [
    "## 3. Regresión lineal"
   ]
  },
  {
   "cell_type": "markdown",
   "id": "4a308da2-7cba-4f2b-85f9-9b3655206ff2",
   "metadata": {},
   "source": [
    "Se quiere predecir la resistencia a la compresión de concreto en función de las proporciones de los componentes en la mezcla (cemento, arena, agua, agregado). La constructora que está realizando el análisis tiene datos históricos donde se registraron cantidades de materia y la resistencia medida:"
   ]
  },
  {
   "cell_type": "code",
   "execution_count": 35,
   "id": "7fd530bd-4cc0-4594-9fa4-e48a8d9eda0b",
   "metadata": {},
   "outputs": [
    {
     "data": {
      "text/html": [
       "<div>\n",
       "<style scoped>\n",
       "    .dataframe tbody tr th:only-of-type {\n",
       "        vertical-align: middle;\n",
       "    }\n",
       "\n",
       "    .dataframe tbody tr th {\n",
       "        vertical-align: top;\n",
       "    }\n",
       "\n",
       "    .dataframe thead th {\n",
       "        text-align: right;\n",
       "    }\n",
       "</style>\n",
       "<table border=\"1\" class=\"dataframe\">\n",
       "  <thead>\n",
       "    <tr style=\"text-align: right;\">\n",
       "      <th></th>\n",
       "      <th>Cemento (kg)</th>\n",
       "      <th>Arena (kg)</th>\n",
       "      <th>Agua (kg)</th>\n",
       "      <th>Agregado (kg)</th>\n",
       "      <th>Resistencia a la compresión (MPa)</th>\n",
       "    </tr>\n",
       "  </thead>\n",
       "  <tbody>\n",
       "    <tr>\n",
       "      <th>0</th>\n",
       "      <td>350</td>\n",
       "      <td>600</td>\n",
       "      <td>180</td>\n",
       "      <td>1000</td>\n",
       "      <td>35</td>\n",
       "    </tr>\n",
       "    <tr>\n",
       "      <th>1</th>\n",
       "      <td>400</td>\n",
       "      <td>550</td>\n",
       "      <td>160</td>\n",
       "      <td>1100</td>\n",
       "      <td>42</td>\n",
       "    </tr>\n",
       "    <tr>\n",
       "      <th>2</th>\n",
       "      <td>300</td>\n",
       "      <td>700</td>\n",
       "      <td>200</td>\n",
       "      <td>950</td>\n",
       "      <td>30</td>\n",
       "    </tr>\n",
       "    <tr>\n",
       "      <th>3</th>\n",
       "      <td>450</td>\n",
       "      <td>500</td>\n",
       "      <td>170</td>\n",
       "      <td>1200</td>\n",
       "      <td>50</td>\n",
       "    </tr>\n",
       "    <tr>\n",
       "      <th>4</th>\n",
       "      <td>380</td>\n",
       "      <td>580</td>\n",
       "      <td>175</td>\n",
       "      <td>1050</td>\n",
       "      <td>38</td>\n",
       "    </tr>\n",
       "    <tr>\n",
       "      <th>5</th>\n",
       "      <td>410</td>\n",
       "      <td>540</td>\n",
       "      <td>165</td>\n",
       "      <td>1150</td>\n",
       "      <td>44</td>\n",
       "    </tr>\n",
       "    <tr>\n",
       "      <th>6</th>\n",
       "      <td>320</td>\n",
       "      <td>650</td>\n",
       "      <td>185</td>\n",
       "      <td>980</td>\n",
       "      <td>32</td>\n",
       "    </tr>\n",
       "    <tr>\n",
       "      <th>7</th>\n",
       "      <td>370</td>\n",
       "      <td>590</td>\n",
       "      <td>172</td>\n",
       "      <td>1020</td>\n",
       "      <td>36</td>\n",
       "    </tr>\n",
       "    <tr>\n",
       "      <th>8</th>\n",
       "      <td>390</td>\n",
       "      <td>570</td>\n",
       "      <td>170</td>\n",
       "      <td>1080</td>\n",
       "      <td>40</td>\n",
       "    </tr>\n",
       "    <tr>\n",
       "      <th>9</th>\n",
       "      <td>360</td>\n",
       "      <td>610</td>\n",
       "      <td>190</td>\n",
       "      <td>970</td>\n",
       "      <td>34</td>\n",
       "    </tr>\n",
       "    <tr>\n",
       "      <th>10</th>\n",
       "      <td>340</td>\n",
       "      <td>630</td>\n",
       "      <td>182</td>\n",
       "      <td>990</td>\n",
       "      <td>33</td>\n",
       "    </tr>\n",
       "    <tr>\n",
       "      <th>11</th>\n",
       "      <td>430</td>\n",
       "      <td>520</td>\n",
       "      <td>165</td>\n",
       "      <td>1120</td>\n",
       "      <td>48</td>\n",
       "    </tr>\n",
       "    <tr>\n",
       "      <th>12</th>\n",
       "      <td>315</td>\n",
       "      <td>660</td>\n",
       "      <td>195</td>\n",
       "      <td>950</td>\n",
       "      <td>31</td>\n",
       "    </tr>\n",
       "    <tr>\n",
       "      <th>13</th>\n",
       "      <td>405</td>\n",
       "      <td>545</td>\n",
       "      <td>175</td>\n",
       "      <td>1060</td>\n",
       "      <td>43</td>\n",
       "    </tr>\n",
       "    <tr>\n",
       "      <th>14</th>\n",
       "      <td>425</td>\n",
       "      <td>530</td>\n",
       "      <td>168</td>\n",
       "      <td>1140</td>\n",
       "      <td>47</td>\n",
       "    </tr>\n",
       "    <tr>\n",
       "      <th>15</th>\n",
       "      <td>345</td>\n",
       "      <td>620</td>\n",
       "      <td>180</td>\n",
       "      <td>990</td>\n",
       "      <td>37</td>\n",
       "    </tr>\n",
       "    <tr>\n",
       "      <th>16</th>\n",
       "      <td>395</td>\n",
       "      <td>560</td>\n",
       "      <td>175</td>\n",
       "      <td>1040</td>\n",
       "      <td>41</td>\n",
       "    </tr>\n",
       "    <tr>\n",
       "      <th>17</th>\n",
       "      <td>355</td>\n",
       "      <td>605</td>\n",
       "      <td>185</td>\n",
       "      <td>1010</td>\n",
       "      <td>35</td>\n",
       "    </tr>\n",
       "    <tr>\n",
       "      <th>18</th>\n",
       "      <td>440</td>\n",
       "      <td>515</td>\n",
       "      <td>162</td>\n",
       "      <td>1160</td>\n",
       "      <td>49</td>\n",
       "    </tr>\n",
       "    <tr>\n",
       "      <th>19</th>\n",
       "      <td>310</td>\n",
       "      <td>670</td>\n",
       "      <td>198</td>\n",
       "      <td>940</td>\n",
       "      <td>29</td>\n",
       "    </tr>\n",
       "    <tr>\n",
       "      <th>20</th>\n",
       "      <td>385</td>\n",
       "      <td>575</td>\n",
       "      <td>178</td>\n",
       "      <td>1070</td>\n",
       "      <td>39</td>\n",
       "    </tr>\n",
       "    <tr>\n",
       "      <th>21</th>\n",
       "      <td>370</td>\n",
       "      <td>590</td>\n",
       "      <td>172</td>\n",
       "      <td>1030</td>\n",
       "      <td>36</td>\n",
       "    </tr>\n",
       "    <tr>\n",
       "      <th>22</th>\n",
       "      <td>425</td>\n",
       "      <td>535</td>\n",
       "      <td>170</td>\n",
       "      <td>1110</td>\n",
       "      <td>45</td>\n",
       "    </tr>\n",
       "    <tr>\n",
       "      <th>23</th>\n",
       "      <td>335</td>\n",
       "      <td>625</td>\n",
       "      <td>180</td>\n",
       "      <td>1025</td>\n",
       "      <td>33</td>\n",
       "    </tr>\n",
       "  </tbody>\n",
       "</table>\n",
       "</div>"
      ],
      "text/plain": [
       "    Cemento (kg)  Arena (kg)  Agua (kg)  Agregado (kg)  \\\n",
       "0            350         600        180           1000   \n",
       "1            400         550        160           1100   \n",
       "2            300         700        200            950   \n",
       "3            450         500        170           1200   \n",
       "4            380         580        175           1050   \n",
       "5            410         540        165           1150   \n",
       "6            320         650        185            980   \n",
       "7            370         590        172           1020   \n",
       "8            390         570        170           1080   \n",
       "9            360         610        190            970   \n",
       "10           340         630        182            990   \n",
       "11           430         520        165           1120   \n",
       "12           315         660        195            950   \n",
       "13           405         545        175           1060   \n",
       "14           425         530        168           1140   \n",
       "15           345         620        180            990   \n",
       "16           395         560        175           1040   \n",
       "17           355         605        185           1010   \n",
       "18           440         515        162           1160   \n",
       "19           310         670        198            940   \n",
       "20           385         575        178           1070   \n",
       "21           370         590        172           1030   \n",
       "22           425         535        170           1110   \n",
       "23           335         625        180           1025   \n",
       "\n",
       "    Resistencia a la compresión (MPa)  \n",
       "0                                  35  \n",
       "1                                  42  \n",
       "2                                  30  \n",
       "3                                  50  \n",
       "4                                  38  \n",
       "5                                  44  \n",
       "6                                  32  \n",
       "7                                  36  \n",
       "8                                  40  \n",
       "9                                  34  \n",
       "10                                 33  \n",
       "11                                 48  \n",
       "12                                 31  \n",
       "13                                 43  \n",
       "14                                 47  \n",
       "15                                 37  \n",
       "16                                 41  \n",
       "17                                 35  \n",
       "18                                 49  \n",
       "19                                 29  \n",
       "20                                 39  \n",
       "21                                 36  \n",
       "22                                 45  \n",
       "23                                 33  "
      ]
     },
     "execution_count": 35,
     "metadata": {},
     "output_type": "execute_result"
    }
   ],
   "source": [
    "import pandas as pd\n",
    "data = {\n",
    "    'Cemento (kg)': [350, 400, 300, 450, 380, 410, 320, 370, 390, 360, \n",
    "                     340, 430, 315, 405, 425, 345, 395, 355, 440, 310, \n",
    "                     385, 370, 425, 335],\n",
    "    'Arena (kg)': [600, 550, 700, 500, 580, 540, 650, 590, 570, 610, \n",
    "                   630, 520, 660, 545, 530, 620, 560, 605, 515, 670, \n",
    "                   575, 590, 535, 625],\n",
    "    'Agua (kg)': [180, 160, 200, 170, 175, 165, 185, 172, 170, 190, \n",
    "                  182, 165, 195, 175, 168, 180, 175, 185, 162, 198, \n",
    "                  178, 172, 170, 180],\n",
    "    'Agregado (kg)': [1000, 1100, 950, 1200, 1050, 1150, 980, 1020, 1080, 970, \n",
    "                      990, 1120, 950, 1060, 1140, 990, 1040, 1010, 1160, 940, \n",
    "                      1070, 1030, 1110, 1025],\n",
    "    'Resistencia a la compresión (MPa)': [35, 42, 30, 50, 38, 44, 32, 36, 40, 34, \n",
    "                                          33, 48, 31, 43, 47, 37, 41, 35, 49, 29, \n",
    "                                          39, 36, 45, 33]\n",
    "}\n",
    "data = pd.DataFrame(data)\n",
    "data"
   ]
  },
  {
   "cell_type": "markdown",
   "id": "f1cc1217-2c41-4082-961b-8369dd6f628a",
   "metadata": {},
   "source": [
    "Ajusta un modelo utilizando mínimos cuadrados para encontrar una función que pueda predecir la resistencia del concreto."
   ]
  },
  {
   "cell_type": "code",
   "execution_count": 38,
   "id": "ad291701-9ab6-494e-ab9f-0bbd017ced75",
   "metadata": {},
   "outputs": [
    {
     "data": {
      "text/plain": [
       "  message: Optimization terminated successfully.\n",
       "  success: True\n",
       "   status: 0\n",
       "      fun: 29.84989167470271\n",
       "        x: [-5.576e+01  1.374e-01  2.436e-02  1.949e-02  2.397e-02]\n",
       "      nit: 11\n",
       "      jac: [ 0.000e+00  9.537e-07  1.431e-06  0.000e+00  2.861e-06]\n",
       " hess_inv: [[ 4.516e+02 -5.329e-01 ...  1.504e-01 -3.506e-03]\n",
       "            [-5.329e-01  8.619e-04 ... -4.447e-04 -9.386e-05]\n",
       "            ...\n",
       "            [ 1.504e-01 -4.447e-04 ...  1.186e-03  8.110e-05]\n",
       "            [-3.506e-03 -9.386e-05 ...  8.110e-05  4.315e-05]]\n",
       "     nfev: 120\n",
       "     njev: 20"
      ]
     },
     "execution_count": 38,
     "metadata": {},
     "output_type": "execute_result"
    }
   ],
   "source": [
    "import numpy as np\n",
    "import scipy.optimize as opt\n",
    "\n",
    "y=data[\"Resistencia a la compresión (MPa)\"].values\n",
    "x1=data[\"Cemento (kg)\"].values\n",
    "x2=data[\"Arena (kg)\"].values\n",
    "x3=data[\"Agua (kg)\"].values\n",
    "x4=data[\"Agregado (kg)\"].values\n",
    "n=len(y)\n",
    "\n",
    "ones=np.ones([n,1])\n",
    "x1_factor=np.reshape(x1,[n,1])\n",
    "x2_factor=np.reshape(x2,[n,1])\n",
    "x3_factor=np.reshape(x3,[n,1])\n",
    "x4_factor=np.reshape(x4,[n,1])\n",
    "X=np.hstack((ones,x1_factor,x2_factor,x3_factor,x4_factor))\n",
    "y_vector=np.reshape(y,[n,1])\n",
    "\n",
    "n,p=X.shape\n",
    "beta=np.random.rand(p)\n",
    "\n",
    "def funcion(beta,X,y):\n",
    "  beta=np.reshape(beta,[p,1])\n",
    "  y_predi=X@beta\n",
    "  error=y_predi-y\n",
    "  rss=error.T@error\n",
    "  return rss\n",
    "\n",
    "rss=opt.minimize(funcion,beta,args=(X,y_vector))\n",
    "rss"
   ]
  },
  {
   "cell_type": "code",
   "execution_count": null,
   "id": "e0d9fb4e-2d6b-4477-933d-105ec1f43edd",
   "metadata": {},
   "outputs": [],
   "source": []
  },
  {
   "cell_type": "markdown",
   "id": "1415a350-3a0f-4697-b1d3-130b7e5950e8",
   "metadata": {},
   "source": [
    "¿Qué efecto tiene cada factor en la resistencia de la mezcla?"
   ]
  },
  {
   "cell_type": "code",
   "execution_count": 42,
   "id": "b32d1b87-e9e4-40b6-9cfb-ad50dca0ba51",
   "metadata": {},
   "outputs": [
    {
     "data": {
      "text/plain": [
       "array([-5.57585005e+01,  1.37376118e-01,  2.43566971e-02,  1.94852003e-02,\n",
       "        2.39738319e-02])"
      ]
     },
     "execution_count": 42,
     "metadata": {},
     "output_type": "execute_result"
    }
   ],
   "source": [
    "rss.x"
   ]
  },
  {
   "cell_type": "markdown",
   "id": "568d58f9-9a7b-42c3-8838-00da8e1e9ff5",
   "metadata": {},
   "source": [
    "El cemento, arena, agua y agregado aumentan la resistencia, siendo el cemento el que más tiene efecto."
   ]
  },
  {
   "cell_type": "code",
   "execution_count": null,
   "id": "f404a6bf-816e-439f-9e8a-f9bb588af731",
   "metadata": {},
   "outputs": [],
   "source": []
  },
  {
   "cell_type": "markdown",
   "id": "89a911f1-641a-45c4-b4b8-b2f86ce5b5e6",
   "metadata": {},
   "source": [
    "¿Cuál será la resistencia si mezclo 390 kg de cemento, 570 kg de arena, 170 kg de agua y 1080 kg de agregado?"
   ]
  },
  {
   "cell_type": "code",
   "execution_count": 47,
   "id": "3e57568b-fc14-4798-a2cd-7c8d64e9b0da",
   "metadata": {},
   "outputs": [
    {
     "data": {
      "text/plain": [
       "40.878388306999994"
      ]
     },
     "execution_count": 47,
     "metadata": {},
     "output_type": "execute_result"
    }
   ],
   "source": [
    "resis=-5.57856149e+01+390*1.37375856e-01+ 570*2.43564664e-02+ 170*1.94852759e-02+ 1080 *2.39738302e-02\n",
    "resis"
   ]
  },
  {
   "cell_type": "markdown",
   "id": "747f9c18-841a-4b4e-99c5-76b4dbd00c12",
   "metadata": {},
   "source": [
    "Sería de 40.88."
   ]
  },
  {
   "cell_type": "code",
   "execution_count": null,
   "id": "1b88b644-d0ca-494a-9e1c-5c2eddca2f8f",
   "metadata": {},
   "outputs": [],
   "source": []
  },
  {
   "cell_type": "markdown",
   "id": "077149c9-ed47-438a-bf64-f715a817727d",
   "metadata": {},
   "source": [
    "## 4. Regresión logística"
   ]
  },
  {
   "cell_type": "markdown",
   "id": "0e9a4289-4c6e-4851-a1f4-3cc8cc3ab833",
   "metadata": {},
   "source": [
    "Un equipo de ingenieros quiere saber si una muestra de concreto hidráulico fallará o no bajo determinadas condiciones, basándose en experiencias pasadas.\n",
    "\n",
    "<table>\r\n",
    "  <thead>\r\n",
    "    <tr>\r\n",
    "      <th>Resistencia a la compresión (MPa)</th>\r\n",
    "      <th>Edad del concreto (días)</th>\r\n",
    "      <th>Relación agua-cemento</th>\r\n",
    "      <th>Falla (Sí/No)</th>\r\n",
    "    </tr>\r\n",
    "  </thead>\r\n",
    "  <tbody>\r\n",
    "    <tr>\r\n",
    "      <td>25</td>\r\n",
    "      <td>28</td>\r\n",
    "      <td>0.45</td>\r\n",
    "      <td>Sí</td>\r\n",
    "    </tr>\r\n",
    "    <tr>\r\n",
    "      <td>40</td>\r\n",
    "      <td>56</td>\r\n",
    "      <td>0.35</td>\r\n",
    "      <td>No</td>\r\n",
    "    </tr>\r\n",
    "    <tr>\r\n",
    "      <td>30</td>\r\n",
    "      <td>28</td>\r\n",
    "      <td>0.50</td>\r\n",
    "      <td>Sí</td>\r\n",
    "    </tr>\r\n",
    "    <tr>\r\n",
    "      <td>50</td>\r\n",
    "      <td>90</td>\r\n",
    "      <td>0.30</td>\r\n",
    "      <td>No</td>\r\n",
    "    </tr>\r\n",
    "    <tr>\r\n",
    "      <td>35</td>\r\n",
    "      <td>28</td>\r\n",
    "      <td>0.40</td>\r\n",
    "      <td>Sí</td>\r\n",
    "    </tr>\r\n",
    "    <tr>\r\n",
    "      <td>55</td>\r\n",
    "      <td>120</td>\r\n",
    "      <td>0.32</td>\r\n",
    "      <td>No</td>\r\n",
    "    </tr>\r\n",
    "    <tr>\r\n",
    "      <td>45</td>\r\n",
    "      <td>60</td>\r\n",
    "      <td>0.36</td>\r\n",
    "      <td>No</td>\r\n",
    "    </tr>\r\n",
    "    <tr>\r\n",
    "      <td>20</td>\r\n",
    "      <td>7</td>\r\n",
    "      <td>0.55</td>\r\n",
    "      <td>Sí</td>\r\n",
    "    </tr>\r\n",
    "  </tbody>\r\n",
    "</table>\n"
   ]
  },
  {
   "cell_type": "markdown",
   "id": "5911243f-05cf-4009-896d-1ff1354fc1bf",
   "metadata": {},
   "source": [
    "1. ¿Qué factor afecta más? (Utiliza un vector de ceros como tu beta inicial)"
   ]
  },
  {
   "cell_type": "code",
   "execution_count": 54,
   "id": "e81ce5c0-25fc-4cfc-8280-ab3358af6844",
   "metadata": {},
   "outputs": [
    {
     "data": {
      "text/plain": [
       "  message: Optimization terminated successfully.\n",
       "  success: True\n",
       "   status: 0\n",
       "      fun: 3.503392539186779e-07\n",
       "        x: [ 2.150e+01  1.887e+00 -2.121e+00  1.402e+01]\n",
       "      nit: 27\n",
       "      jac: [-7.105e-15  3.576e-06  5.811e-06 -2.980e-08]\n",
       " hess_inv: [[ 1.936e+06  1.551e+05 -1.794e+05  1.261e+06]\n",
       "            [ 1.551e+05  1.242e+04 -1.437e+04  1.010e+05]\n",
       "            [-1.794e+05 -1.437e+04  1.663e+04 -1.169e+05]\n",
       "            [ 1.261e+06  1.010e+05 -1.169e+05  8.215e+05]]\n",
       "     nfev: 150\n",
       "     njev: 30"
      ]
     },
     "execution_count": 54,
     "metadata": {},
     "output_type": "execute_result"
    }
   ],
   "source": [
    "import pandas as pd\n",
    "import numpy as np\n",
    "import matplotlib.pyplot as plt\n",
    "import scipy.optimize as opt\n",
    "\n",
    "Resistencia = [25, 40, 30, 50, 35, 55, 45, 20]\n",
    "Edad = [28, 56, 28, 90, 28, 120, 60, 7]\n",
    "AguaCemento = [0.45, 0.35, 0.50, 0.30, 0.40, 0.32, 0.36, 0.55]\n",
    "Falla = [1, 0, 1, 0, 1, 0, 0, 1]\n",
    "\n",
    "y = np.array(Falla)\n",
    "x1 = np.array(Resistencia)\n",
    "x2 = np.array(Edad)\n",
    "x3 = np.array(AguaCemento)\n",
    "\n",
    "n = len(y)\n",
    "ones = np.ones((n, 1)) \n",
    "x1factor = np.reshape(x1, [n, 1])\n",
    "x2factor = np.reshape(x2, [n, 1])\n",
    "x3factor = np.reshape(x3, [n, 1])\n",
    "X = np.hstack((ones, x1factor, x2factor, x3factor))\n",
    "y_vector = np.reshape(y, [n, 1]) \n",
    "\n",
    "def prediccion(beta, X):\n",
    "    return 1 / (1 + np.exp(-X @ beta))\n",
    "def J(beta, X, y):\n",
    "    epsilon = 1e-15 \n",
    "    n, p = X.shape\n",
    "    beta = np.reshape(beta, [p, 1])\n",
    "    y_pred = prediccion(beta, X)\n",
    "    error = y * np.log(y_pred + epsilon) + (1 - y) * np.log(1 - y_pred + epsilon)\n",
    "    return -np.sum(error)\n",
    "\n",
    "beta_inicial = ([0,0,0,0])\n",
    "res = opt.minimize(J, beta_inicial, args=(X, y_vector))\n",
    "res"
   ]
  },
  {
   "cell_type": "code",
   "execution_count": 56,
   "id": "2225a799-79bb-4d08-bed5-22339f1493fc",
   "metadata": {},
   "outputs": [],
   "source": [
    "optimos=res.x"
   ]
  },
  {
   "cell_type": "markdown",
   "id": "f4ef59f4-07eb-4f24-b4ca-b76177a33043",
   "metadata": {},
   "source": [
    "El factor Beta0 afecta más, despues la relación agua-cemento."
   ]
  },
  {
   "cell_type": "code",
   "execution_count": null,
   "id": "2efa284c-a857-4342-8c73-27da200c8a37",
   "metadata": {},
   "outputs": [],
   "source": []
  },
  {
   "cell_type": "markdown",
   "id": "507337c2-1ef4-4abf-99d4-319dadfaf2d3",
   "metadata": {},
   "source": [
    "2. Calcula la probabilidad de falla para una muestra con las siguientes características:\n",
    "- Resistencia a la compresión: 38 MPa\n",
    "- Edad del concreto: 30 días\n",
    "- Relación agua-cemento: 0.40"
   ]
  },
  {
   "cell_type": "code",
   "execution_count": 61,
   "id": "e4b6b71a-0e68-40d6-ba60-6c91407ebbbe",
   "metadata": {},
   "outputs": [
    {
     "data": {
      "text/plain": [
       "0.9999999999999996"
      ]
     },
     "execution_count": 61,
     "metadata": {},
     "output_type": "execute_result"
    }
   ],
   "source": [
    "probabilidad = np.array([1, 38, 30, 0.40])\n",
    "\n",
    "probabilidad_falla = prediccion(optimos, probabilidad)\n",
    "probabilidad_falla"
   ]
  },
  {
   "cell_type": "markdown",
   "id": "c373d30e-bee5-4be3-9422-c894894f818d",
   "metadata": {},
   "source": [
    "Al redondear da 1, entonces es sí hay probabilidad de falla."
   ]
  },
  {
   "cell_type": "code",
   "execution_count": null,
   "id": "b2fb70de-91c0-4323-af97-5d02f17b4818",
   "metadata": {},
   "outputs": [],
   "source": []
  }
 ],
 "metadata": {
  "kernelspec": {
   "display_name": "Python 3 (ipykernel)",
   "language": "python",
   "name": "python3"
  },
  "language_info": {
   "codemirror_mode": {
    "name": "ipython",
    "version": 3
   },
   "file_extension": ".py",
   "mimetype": "text/x-python",
   "name": "python",
   "nbconvert_exporter": "python",
   "pygments_lexer": "ipython3",
   "version": "3.12.4"
  }
 },
 "nbformat": 4,
 "nbformat_minor": 5
}
