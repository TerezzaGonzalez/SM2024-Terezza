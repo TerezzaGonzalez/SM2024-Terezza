{
 "cells": [
  {
   "cell_type": "code",
   "execution_count": 1,
   "id": "4349d59d-7aed-4bea-b553-cdf7c512dcd0",
   "metadata": {},
   "outputs": [
    {
     "name": "stdout",
     "output_type": "stream",
     "text": [
      "0\n",
      "1\n",
      "2\n",
      "3\n",
      "4\n",
      "5\n",
      "6\n",
      "7\n",
      "8\n",
      "9\n",
      "10\n"
     ]
    }
   ],
   "source": [
    "#contador\n",
    "\n",
    "a=10\n",
    "i=0\n",
    "\n",
    "while(i<=a):\n",
    "    print(i)\n",
    "    i+= 1"
   ]
  },
  {
   "cell_type": "code",
   "execution_count": 10,
   "id": "5ff0c7f1-e62c-4a16-9c72-4939e5fe2482",
   "metadata": {},
   "outputs": [
    {
     "name": "stdout",
     "output_type": "stream",
     "text": [
      "7 es un número primo.\n"
     ]
    }
   ],
   "source": [
    "#Primos\n",
    "a = 7  \n",
    "\n",
    "if a <= 1:\n",
    "    print(f\"{a} no es un número primo.\")\n",
    "else:\n",
    "    es_primo = True \n",
    "    for i in range(2, int(a**0.5) + 1):\n",
    "        if a % i == 0:\n",
    "            es_primo = False  \n",
    "            break  \n",
    "\n",
    "    if es_primo:\n",
    "        print(f\"{a} es un número primo.\")\n",
    "    else:\n",
    "        print(f\"{a} no es un número primo.\")"
   ]
  },
  {
   "cell_type": "code",
   "execution_count": 8,
   "id": "112de8f8-26c7-486d-bbb0-702ae0d2e525",
   "metadata": {},
   "outputs": [
    {
     "name": "stdout",
     "output_type": "stream",
     "text": [
      "6\n"
     ]
    }
   ],
   "source": [
    "#Factorial\n",
    "a = 3\n",
    "factorial = 1\n",
    "\n",
    "for i in range(1, a + 1):\n",
    "    factorial *= i\n",
    "\n",
    "# Mostrar el resultado\n",
    "print(factorial)"
   ]
  },
  {
   "cell_type": "code",
   "execution_count": null,
   "id": "f21e41fb-7383-4dcb-9720-e8cf7847899b",
   "metadata": {},
   "outputs": [],
   "source": []
  }
 ],
 "metadata": {
  "kernelspec": {
   "display_name": "Python 3 (ipykernel)",
   "language": "python",
   "name": "python3"
  },
  "language_info": {
   "codemirror_mode": {
    "name": "ipython",
    "version": 3
   },
   "file_extension": ".py",
   "mimetype": "text/x-python",
   "name": "python",
   "nbconvert_exporter": "python",
   "pygments_lexer": "ipython3",
   "version": "3.12.4"
  }
 },
 "nbformat": 4,
 "nbformat_minor": 5
}
