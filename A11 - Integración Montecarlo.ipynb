{
 "cells": [
  {
   "cell_type": "markdown",
   "id": "f5f0fd2b-5ff5-435b-97f5-e1919b75ee70",
   "metadata": {},
   "source": [
    "## A11 - Integración Montecarlo\n",
    "\n",
    "Terezza Marianne Gonzalez Jauregui\n",
    "\n",
    "20/10/2024"
   ]
  },
  {
   "cell_type": "markdown",
   "id": "333351a9-4ead-4908-b9df-78d4fc713535",
   "metadata": {},
   "source": [
    "1.- Se tiene la siguiente ecuación diferencial:\n",
    "Ecuacion"
   ]
  },
  {
   "cell_type": "code",
   "execution_count": 6,
   "id": "f56ca244-4ee5-493d-87bf-3a0a5f24ea46",
   "metadata": {},
   "outputs": [],
   "source": [
    "import matplotlib.pyplot as plt\n",
    "%matplotlib inline\n",
    "import numpy as np\n",
    "import pandas as pd"
   ]
  },
  {
   "cell_type": "code",
   "execution_count": 8,
   "id": "7743e37f-cab9-4b56-ac9d-4cd0b824b43a",
   "metadata": {},
   "outputs": [],
   "source": [
    "def montecarlo_tipo1(f,a,b,n):\n",
    "    u=np.random.uniform(a,b,n)\n",
    "    return np.mean(f(u))*(b-a)\n",
    "def montecarlo_tipo2(region,ax,bx,ay,by,n):\n",
    "    x=np.random.uniform(ax,bx,n) #muestra de distribucion uniforme\n",
    "    y=np.random.uniform(ay,by,n)\n",
    "    AR=(bx-ax)*(by-ay)\n",
    "    return region(x,y).mean()*AR # esperenza de bernoli que es como el porcentaje de error"
   ]
  },
  {
   "cell_type": "markdown",
   "id": "28fc4f05-f015-4907-b594-e3391393207d",
   "metadata": {},
   "source": [
    "# 1.A"
   ]
  },
  {
   "cell_type": "code",
   "execution_count": 42,
   "id": "df899c66-f69c-413a-a9ca-41504f80dc03",
   "metadata": {},
   "outputs": [],
   "source": [
    "def ecuacion (x):\n",
    "    return np.log(1.5+np.sin(x**2))/(x*np.exp(-x**2))\n"
   ]
  },
  {
   "cell_type": "code",
   "execution_count": 44,
   "id": "f408bfce-7c3b-4bff-9feb-8a44956ad307",
   "metadata": {},
   "outputs": [
    {
     "data": {
      "text/plain": [
       "(0.4895874572131237,\n",
       " 0.3021220632955417,\n",
       " 0.29684143801012297,\n",
       " 0.3533621237046625,\n",
       " 0.46539463766059885)"
      ]
     },
     "execution_count": 44,
     "metadata": {},
     "output_type": "execute_result"
    }
   ],
   "source": [
    "y=0.1\n",
    "n=1000000\n",
    "a1=0.1\n",
    "a2=0.3\n",
    "a3=0.5\n",
    "a4=0.7\n",
    "a5=0.9\n",
    "b1=0.3\n",
    "b2=0.5\n",
    "b3=0.7\n",
    "b4=0.9\n",
    "b5=1.1\n",
    "\n",
    "P1=montecarlo_tipo1(ecuacion,a1,b,n)\n",
    "P2=montecarlo_tipo1(ecuacion,a2,b2,n)\n",
    "P3=montecarlo_tipo1(ecuacion,a3,b3,n)\n",
    "P4=montecarlo_tipo1(ecuacion,a4,b4,n)\n",
    "P5=montecarlo_tipo1(ecuacion,a5,b5,n)\n",
    "P1,P2,P3,P4,P5"
   ]
  },
  {
   "cell_type": "code",
   "execution_count": 46,
   "id": "6fc79b47-2515-4169-9b4d-ddc3c6bbeea8",
   "metadata": {},
   "outputs": [
    {
     "data": {
      "text/html": [
       "<div>\n",
       "<style scoped>\n",
       "    .dataframe tbody tr th:only-of-type {\n",
       "        vertical-align: middle;\n",
       "    }\n",
       "\n",
       "    .dataframe tbody tr th {\n",
       "        vertical-align: top;\n",
       "    }\n",
       "\n",
       "    .dataframe thead th {\n",
       "        text-align: right;\n",
       "    }\n",
       "</style>\n",
       "<table border=\"1\" class=\"dataframe\">\n",
       "  <thead>\n",
       "    <tr style=\"text-align: right;\">\n",
       "      <th></th>\n",
       "      <th>Aprox</th>\n",
       "    </tr>\n",
       "  </thead>\n",
       "  <tbody>\n",
       "    <tr>\n",
       "      <th>1</th>\n",
       "      <td>0.489587</td>\n",
       "    </tr>\n",
       "    <tr>\n",
       "      <th>2</th>\n",
       "      <td>0.302122</td>\n",
       "    </tr>\n",
       "    <tr>\n",
       "      <th>3</th>\n",
       "      <td>0.296841</td>\n",
       "    </tr>\n",
       "    <tr>\n",
       "      <th>4</th>\n",
       "      <td>0.353362</td>\n",
       "    </tr>\n",
       "    <tr>\n",
       "      <th>5</th>\n",
       "      <td>0.465395</td>\n",
       "    </tr>\n",
       "  </tbody>\n",
       "</table>\n",
       "</div>"
      ],
      "text/plain": [
       "      Aprox\n",
       "1  0.489587\n",
       "2  0.302122\n",
       "3  0.296841\n",
       "4  0.353362\n",
       "5  0.465395"
      ]
     },
     "execution_count": 46,
     "metadata": {},
     "output_type": "execute_result"
    }
   ],
   "source": [
    "tabla=pd.DataFrame(columns=[\"Aprox\"])\n",
    "tabla.loc[1, \"Aprox\"]=P1\n",
    "tabla.loc[2, \"Aprox\"]=P2\n",
    "tabla.loc[3, \"Aprox\"]=P3\n",
    "tabla.loc[4, \"Aprox\"]=P4\n",
    "tabla.loc[5, \"Aprox\"]=P5\n",
    "tabla"
   ]
  },
  {
   "cell_type": "markdown",
   "id": "3da4fd70-df8d-47e8-b3b5-1e12739747d9",
   "metadata": {},
   "source": [
    "# 2.A"
   ]
  },
  {
   "cell_type": "code",
   "execution_count": null,
   "id": "aea6627f-bafe-4e6f-9d74-c4325ef33851",
   "metadata": {},
   "outputs": [],
   "source": [
    "def F1 (x,y):\n",
    "    return -x*y*np.exp(-x**2-y**2)>0.05\n",
    "def F2 (x,y):\n",
    "    return -x*y*np.exp(-x**2-y**2)>0.05"
   ]
  }
 ],
 "metadata": {
  "kernelspec": {
   "display_name": "Python 3 (ipykernel)",
   "language": "python",
   "name": "python3"
  },
  "language_info": {
   "codemirror_mode": {
    "name": "ipython",
    "version": 3
   },
   "file_extension": ".py",
   "mimetype": "text/x-python",
   "name": "python",
   "nbconvert_exporter": "python",
   "pygments_lexer": "ipython3",
   "version": "3.12.4"
  }
 },
 "nbformat": 4,
 "nbformat_minor": 5
}
