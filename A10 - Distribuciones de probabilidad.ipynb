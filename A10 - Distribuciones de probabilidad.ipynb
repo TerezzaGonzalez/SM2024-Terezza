{
 "cells": [
  {
   "cell_type": "markdown",
   "id": "05e63b0c-b113-4d42-ab0f-173fa00c0f49",
   "metadata": {},
   "source": [
    "## A10 - Distribuciones de probabilidad\n",
    "\n",
    "Terezza Marianne Gonzalez Jauregui\n",
    "\n",
    "17/10/2024"
   ]
  },
  {
   "cell_type": "markdown",
   "id": "0ab9b854-7184-4940-9b76-5bdb7d9f968f",
   "metadata": {},
   "source": [
    "1.- Menciona tres ejemplos de variables aleatorias discretas:"
   ]
  },
  {
   "cell_type": "markdown",
   "id": "111e3ade-3277-410c-8f91-f2ef6c079435",
   "metadata": {},
   "source": [
    "* Cantidad de choques que han pasado en Lopéz\n",
    "* Cuantos clientes tienes que llamar\n",
    "* Cantidad de zapatos que vendas"
   ]
  },
  {
   "cell_type": "markdown",
   "id": "703736c3-ba16-4b13-8a22-f183441ff322",
   "metadata": {},
   "source": [
    "2.- Menciona tres ejemplos de variables aleatorias continuas:"
   ]
  },
  {
   "cell_type": "markdown",
   "id": "f403e6f6-5456-4141-9ee2-5fd52e8a0741",
   "metadata": {},
   "source": [
    "* El peso de una población\n",
    "* El tiempo que tardas del ITESO a tu casa los lunes\n",
    "* La tempreatura de la última semana"
   ]
  },
  {
   "cell_type": "markdown",
   "id": "26f4bbbb-c8bf-49e0-968c-4c915faf13cf",
   "metadata": {},
   "source": [
    "3.- Dos equipos juegan una serie de juegos (4 de 7, el que gane 4 juegos gana). Cada equipo tiene un 50% de probabilidad de ganar cada juego (no empates). ¿Cuál es la probabilidad de que la serie se vaya a 7 juegos? (5/16)"
   ]
  },
  {
   "cell_type": "code",
   "execution_count": 167,
   "id": "47df9c76-1797-47a8-ba95-75e8484e9703",
   "metadata": {},
   "outputs": [
    {
     "data": {
      "text/plain": [
       "0.311"
      ]
     },
     "execution_count": 167,
     "metadata": {},
     "output_type": "execute_result"
    }
   ],
   "source": [
    "import random\n",
    "import numpy as np\n",
    "\n",
    "personas = 10000\n",
    "n = 7 \n",
    "equipos = [\"Equipo1\", \"Equipo2\"]\n",
    "juegos = 0\n",
    "\n",
    "for p in range(personas):\n",
    "    pos1 = 0  \n",
    "    pos2 = 0  \n",
    "    while True:\n",
    "        ganador = random.choice(equipos)  \n",
    "        if ganador == \"Equipo1\":\n",
    "            pos1 += 1\n",
    "        else:\n",
    "            pos2 += 1\n",
    "        if pos1 == 4 or pos2 == 4:\n",
    "            break\n",
    "        if pos1 + pos2 == 6:\n",
    "            juegos += 1\n",
    "\n",
    "probabilidad_juegos = juegos / personas\n",
    "probabilidad_juegos"
   ]
  },
  {
   "cell_type": "code",
   "execution_count": null,
   "id": "394a1034-ca1a-417b-942f-8cca1b842a4c",
   "metadata": {},
   "outputs": [],
   "source": []
  },
  {
   "cell_type": "markdown",
   "id": "afc0c8c4-596a-4772-bc8d-486e239f737c",
   "metadata": {},
   "source": [
    "4.- Una en mil personas tienen una enfermedad H, y la prueba de la enfermedad sale correcta 98% de las veces cuando la persona está enferma. Por otro lado, si la persona está enferma la prueba tiene un error del 1%. Si alguien se hace una prueba y sale positiva, ¿cuál es la probabilidad de que tengan la enfermedad? (98/1097)"
   ]
  },
  {
   "cell_type": "code",
   "execution_count": 169,
   "id": "1d654e11-f0eb-433c-91d5-57cff53df58c",
   "metadata": {},
   "outputs": [
    {
     "data": {
      "text/plain": [
       "0.09433962264150944"
      ]
     },
     "execution_count": 169,
     "metadata": {},
     "output_type": "execute_result"
    }
   ],
   "source": [
    "import numpy as np\n",
    "import random\n",
    "n=100000\n",
    "personas=np.random.choice([0,1],n,p=[0.999,0.001]) # Choice para límitantes o restricciones\n",
    "t1_d1=np.random.choice([0,1],personas.sum(),p=[0.02,0.98])\n",
    "t1_d0=np.random.choice([0,1],n-personas.sum(),p=[0.99,0.01])\n",
    "t1_d1.sum()/(t1_d1.sum()+t1_d0.sum())"
   ]
  },
  {
   "cell_type": "code",
   "execution_count": null,
   "id": "aed50bbc-423e-46af-8032-a44ed919b65f",
   "metadata": {},
   "outputs": [],
   "source": []
  },
  {
   "cell_type": "markdown",
   "id": "781698e2-f5da-4a2f-bc82-dd8c34aa5adb",
   "metadata": {},
   "source": [
    "5.- Tres amigos diferentes te dijeron que está lloviendo, y cada persona tiene 1/3 de probabilidad de mentir. Si el pronóstico del clima dijo que la probabilidad de lluvia era 25%, ¿cuál es la probabilidad de que sí esté lloviendo? (8/11)"
   ]
  },
  {
   "cell_type": "code",
   "execution_count": 193,
   "id": "02ba4985-9137-4603-8acb-03b7ea0df044",
   "metadata": {},
   "outputs": [
    {
     "data": {
      "text/plain": [
       "0.731074331603173"
      ]
     },
     "execution_count": 193,
     "metadata": {},
     "output_type": "execute_result"
    }
   ],
   "source": [
    "import numpy as np\n",
    "import random\n",
    "\n",
    "Problluvia = 0.25  \n",
    "mentir = 1/3  \n",
    "verdad = 1 - mentir  \n",
    "n = 100000\n",
    "\n",
    "lluvia = np.random.choice([1, 0], n, p=[Problluvia, 1 - Problluvia])#(1 = lluvia, 0 = no lluvia)\n",
    "amigo1 = np.random.choice([1, 0], n, p=[verdad, mentir]) * lluvia + np.random.choice([1, 0], n, p=[mentir, verdad]) * (1 - lluvia) #(1 = dice que llueve, 0 = no dice que llueve)\n",
    "amigo2 = np.random.choice([1, 0], n, p=[verdad, mentir]) * lluvia + np.random.choice([1, 0], n, p=[mentir, verdad]) * (1 - lluvia)\n",
    "amigo3 = np.random.choice([1, 0], n, p=[verdad, mentir]) * lluvia + np.random.choice([1, 0], n, p=[mentir, verdad]) * (1 - lluvia)\n",
    "\n",
    "dicen_llueve = (amigo1 & amigo2 & amigo3).sum()\n",
    "lluvia_real_y_dicen_llueve = (lluvia & (amigo1 & amigo2 & amigo3)).sum()\n",
    "\n",
    "probabilidad = lluvia_real_y_dicen_llueve / dicen_llueve\n",
    "probabilidad"
   ]
  },
  {
   "cell_type": "code",
   "execution_count": null,
   "id": "9730c8ae-c2e0-4151-b267-d03acfc97636",
   "metadata": {},
   "outputs": [],
   "source": []
  },
  {
   "cell_type": "markdown",
   "id": "3cb332e1-915d-4c43-bed8-1287f049b426",
   "metadata": {},
   "source": [
    "6.- Resuelve y añade a esta actividad los ejercicios que están en el notebook \"Distribuciones de probabilidad.ipynb\""
   ]
  },
  {
   "cell_type": "markdown",
   "id": "18657f3c-2f23-4266-9f28-e3cc614a25b2",
   "metadata": {},
   "source": [
    "1.- Avientas un dado tres veces. ¿Cuál es la probabilidad de tirar dos 6 seguidos?"
   ]
  },
  {
   "cell_type": "code",
   "execution_count": 195,
   "id": "17a017ba-cb39-4999-8d42-4cdf5d86b9d8",
   "metadata": {},
   "outputs": [
    {
     "data": {
      "text/plain": [
       "0.0510668"
      ]
     },
     "execution_count": 195,
     "metadata": {},
     "output_type": "execute_result"
    }
   ],
   "source": [
    "import numpy as np\n",
    "import random\n",
    "n=10000000\n",
    "np.random.seed(10)\n",
    "d1=np.random.randint(1,7,n)\n",
    "d2=np.random.randint(1,7,n)\n",
    "d3=np.random.randint(1,7,n)\n",
    "#np.vstack((d1,d2,d3))\n",
    "caso1=(d1==6)&(d2==6)&(d3!=6)\n",
    "caso2=(d2==6)&(d3==6)&(d1!=6)\n",
    "caso3=(d1==6)&(d2==6)&(d3==6)\n",
    "(caso1.sum()+caso2.sum()+caso3.sum())/n"
   ]
  },
  {
   "cell_type": "code",
   "execution_count": null,
   "id": "c3170515-5998-4bd1-9a5e-02ee72dd1bfb",
   "metadata": {},
   "outputs": [],
   "source": []
  },
  {
   "cell_type": "markdown",
   "id": "5ccd8b13-0c9a-4981-b6ba-9a040f7416bf",
   "metadata": {},
   "source": [
    "2.- Avientas tres dados, uno tras otro. ¿Cuál es la probabilidad de obtener número sólo en orden ascendente?"
   ]
  },
  {
   "cell_type": "code",
   "execution_count": 189,
   "id": "faff4c3d-2023-492d-a8f3-06a34e9acff2",
   "metadata": {},
   "outputs": [
    {
     "data": {
      "text/plain": [
       "0.0924843"
      ]
     },
     "execution_count": 189,
     "metadata": {},
     "output_type": "execute_result"
    }
   ],
   "source": [
    "import numpy as np\n",
    "import random\n",
    "n=10000000\n",
    "np.random.seed(10)\n",
    "d1=np.random.randint(1,7,n)\n",
    "d2=np.random.randint(1,7,n)\n",
    "d3=np.random.randint(1,7,n)\n",
    "\n",
    "exito=(d3>d2)&(d2>d1)\n",
    "exito.sum()/n"
   ]
  },
  {
   "cell_type": "code",
   "execution_count": null,
   "id": "b13f0d4e-42d7-4db6-b601-48d92c7ac5cc",
   "metadata": {},
   "outputs": [],
   "source": []
  },
  {
   "cell_type": "markdown",
   "id": "e9fdd725-5402-4782-92fa-0cd377c4fe2b",
   "metadata": {},
   "source": [
    "3.- Tienes una baraja con 100 cartas, con valores del 1 al 100. Tomas dos cartas aleatoriamente sin reemplazo. ¿Cuál es la probabilidad de que una carta valga el doble que la otra?"
   ]
  },
  {
   "cell_type": "code",
   "execution_count": 201,
   "id": "b9bd2957-0fc9-4c7a-a05d-3257bf4ab397",
   "metadata": {},
   "outputs": [
    {
     "data": {
      "text/plain": [
       "0.010062"
      ]
     },
     "execution_count": 201,
     "metadata": {},
     "output_type": "execute_result"
    }
   ],
   "source": [
    "import numpy as np\n",
    "import random\n",
    "\n",
    "n = 1000000\n",
    "cartas = np.arange(1, 101)\n",
    "carta1 = np.random.choice(cartas, size=n, replace=True) #Para remplazar\n",
    "carta2 = np.random.choice(cartas, size=n, replace=True)\n",
    "\n",
    "exito = (carta1 == 2 * carta2) | (carta2 == 2 * carta1) # Esto | es para el o\n",
    "probabilidad = exito.sum() / n\n",
    "probabilidad"
   ]
  },
  {
   "cell_type": "code",
   "execution_count": null,
   "id": "db770096-bd63-416e-8c36-c02434624dfd",
   "metadata": {},
   "outputs": [],
   "source": []
  },
  {
   "cell_type": "markdown",
   "id": "75711b50-c7c3-478d-9e29-1ab4fc262c3a",
   "metadata": {},
   "source": [
    "4.- Tienes dos monedas: una con águila y sello, y la otra con doble sello. Escoges una al azar y la tiras 5 veces; cae sello 5 veces. ¿Cuál es la probabilidad de que tomaste la moneda con doble sello?"
   ]
  },
  {
   "cell_type": "code",
   "execution_count": 207,
   "id": "96d826ba-c1db-4950-859a-aacdbbde0e6c",
   "metadata": {},
   "outputs": [
    {
     "data": {
      "text/plain": [
       "0.9696969696969697"
      ]
     },
     "execution_count": 207,
     "metadata": {},
     "output_type": "execute_result"
    }
   ],
   "source": [
    "import numpy as np\n",
    "import random\n",
    "\n",
    "Prob_doble_sello = 0.5  \n",
    "Prob_normal = 0.5  \n",
    "\n",
    "Sellos = 1  \n",
    "Normal = (1/2)**5  \n",
    "\n",
    "# Probabilidad total de obtener 5 sellos\n",
    "Cinco_sellos = Sellos * Prob_doble_sello + Normal * Prob_normal\n",
    "\n",
    "# Aplicamos la regla de Bayes\n",
    "Probabilidad = (Sellos * Prob_doble_sello) / Cinco_sellos\n",
    "Probabilidad"
   ]
  },
  {
   "cell_type": "code",
   "execution_count": null,
   "id": "a0c1151d-248f-48a2-a06b-a3a41a2840a8",
   "metadata": {},
   "outputs": [],
   "source": []
  },
  {
   "cell_type": "markdown",
   "id": "43a742de-d5ac-4457-bc9d-4154cf20cc9f",
   "metadata": {},
   "source": [
    "5.- Dos personas juegan tenis y están empatadas en 40-40. Esto significa que el set continúa hasta que alguien haya anotado 2 puntos sobre el otro:\n",
    "- Si un jugador anota la puntuación es A-40\n",
    "- Si el segundo jugador anota la puntuación regresa a 40-40\n",
    "\n",
    "El jugador 1 tiene una probabilidad de 60\\% de ganar cada punto, mientras que la probabilidad del segundo jugador es de 40\\%. ¿Cuál es la probabilidad de que el primer jugador gane el set?"
   ]
  },
  {
   "cell_type": "code",
   "execution_count": null,
   "id": "4b059e3f-70b6-42c0-9f67-86414c7dca5e",
   "metadata": {},
   "outputs": [],
   "source": [
    "import numpy as np\n",
    "import random\n",
    "\n",
    "J1 = 0.6  \n",
    "J2 = 0.4  \n",
    "n = 100000\n",
    "victorias_jugador1 = 0\n",
    "\n",
    "for _ in range(n):\n",
    "    puntos_jugador1 = 0\n",
    "    puntos_jugador2 = 0\n",
    "    \n",
    "    while True:\n",
    "        punto = np.random.choice([1, 2], p=[J1, J2])  \n",
    "        if punto == 1:\n",
    "            puntos_jugador1 += 1\n",
    "            puntos_jugador2 = 0  \n",
    "        else:\n",
    "            puntos_jugador2 += 1\n",
    "            puntos_jugador1 = 0  \n",
    "        if puntos_jugador1 == 2:\n",
    "            victorias_jugador1 += 1\n",
    "            break\n",
    "        elif puntos_jugador2 == 2:\n",
    "            break\n",
    "\n",
    "# Calculamos la probabilidad de que el jugador 1 gane\n",
    "probabilidad_jugador1 = victorias_jugador1 / n\n",
    "\n"
   ]
  }
 ],
 "metadata": {
  "kernelspec": {
   "display_name": "Python 3 (ipykernel)",
   "language": "python",
   "name": "python3"
  },
  "language_info": {
   "codemirror_mode": {
    "name": "ipython",
    "version": 3
   },
   "file_extension": ".py",
   "mimetype": "text/x-python",
   "name": "python",
   "nbconvert_exporter": "python",
   "pygments_lexer": "ipython3",
   "version": "3.12.4"
  }
 },
 "nbformat": 4,
 "nbformat_minor": 5
}
