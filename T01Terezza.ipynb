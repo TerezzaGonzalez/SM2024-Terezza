{
 "cells": [
  {
   "cell_type": "markdown",
   "id": "b408b671-5ca6-4d54-aca7-037a5019654b",
   "metadata": {},
   "source": [
    "**Terezza Marianne Gonzalez Jauregui**\n",
    "\n",
    "**15 de agosto del 2014**\n",
    "\n",
    "**T01 MARKDOWN**"
   ]
  },
  {
   "cell_type": "markdown",
   "id": "8d2c3349-3435-40ea-b30a-a20433464189",
   "metadata": {},
   "source": [
    "# La ecuación de onda"
   ]
  },
  {
   "cell_type": "markdown",
   "id": "0e6cd667-9df5-4fbf-b65b-467ffa59757c",
   "metadata": {},
   "source": [
    "La ecuación de onda es una ecuación diferencial parcial de segundo orden que describe la propagación de ondas en diferentes medios, como ondas mecánicas (sonoras, sísmicas) y electromagnéticas (luz, radio). Es fundamental en campos como la acústica, el electromagnetismo y la dinámica de fluidos."
   ]
  },
  {
   "cell_type": "markdown",
   "id": "62c7eeff-e653-43f2-978f-22b0add6a707",
   "metadata": {},
   "source":[
    "\n",
    "<img src=\"https://www.researchgate.net/publication/303051301/figure/fig1/AS:361366658535425@1463167933714/6-Formulation-complexe-des-fonctions-de-contrainte-et-de-deformation-Placet-2006.png\" alt=\"Descripción de la imagen\" width=\"600\"/>"
   ]
  },
  {
   "cell_type": "markdown",
   "id": "01f7ceeb-140c-41cd-9452-3fcc1ac83053",
   "metadata": {},
   "source": [
    "## Ecuación de Onda Bidireccional"
   ]
  },
  {
   "cell_type": "markdown",
   "id": "baad10cd-3cc9-4080-a075-f13011753285",
   "metadata": {},
   "source": [
    "La ecuación de onda bidireccional se utiliza para describir ondas que pueden viajar en dos direcciones opuestas. Su forma general es:"
   ]
  },
  {
   "cell_type": "markdown",
   "id": "aaf79a76-89ce-4b2d-a014-6371d7e54f16",
   "metadata": {},
   "source": [
    "$$\n",
    "\\frac{\\partial^2 u}{\\partial t^2} = c^2 \\left(\\frac{\\partial^2 u}{\\partial x_1^2} + \\frac{\\partial^2 u}{\\partial x_2^2} + \\cdots + \\frac{\\partial^2 u}{\\partial x_n^2}\\right)\n",
    "$$"
   ]
  },
  {
   "cell_type": "markdown",
   "id": "4a89ae91-bf0a-4c3c-ac6c-5375aaa46a42",
   "metadata": {},
   "source": [
    "**Donde:**\n",
    "\n",
    "* *𝑢*: representa el desplazamiento de la posición de equilibrio.\n",
    "* *𝑡*: es el tiempo.\n",
    "* *𝑐*: es la velocidad de propagación de la onda.\n",
    "* *𝑥1,𝑥2,…,xn*: son las coordenadas espaciales."
   ]
  },
  {
   "cell_type": "markdown",
   "id": "5d6f1c5c-cd8c-4ff1-9f2e-d6cd93a7173e",
   "metadata": {},
   "source": [
    "### Propiedades de la Onda:"
   ]
  },
  {
   "cell_type": "markdown",
   "id": "6548cfb0-364a-4027-ad3b-b1bc56dace68",
   "metadata": {},
   "source": [
    "1. *Velocidad de propagación.*\n",
    "2. *Longitud de onda.*\n",
    "3. *Frecuencia.*\n",
    "4. *Amplitud.*"
   ]
  },
  {
   "cell_type": "markdown",
   "id": "e51a2225-a40b-41a1-afeb-238c802bfcab",
   "metadata": {},
   "source": [
    "### Aplicaciones:"
   ]
  },
  {
   "cell_type": "markdown",
   "id": "9095a0ae-9207-4586-8a89-5f127b06d404",
   "metadata": {},
   "source": [
    "1. Acústica.\n",
    "2. Electromagnetismo.\n",
    "3. Dinámica de fluidos."
   ]
  },
  {
   "cell_type": "code",
   "execution_count": null,
   "id": "29558b67-5c55-4745-87ad-09306a735661",
   "metadata": {},
   "outputs": [],
   "source": []
  }
 ],
 "metadata": {
  "kernelspec": {
   "display_name": "Python 3 (ipykernel)",
   "language": "python",
   "name": "python3"
  },
  "language_info": {
   "codemirror_mode": {
    "name": "ipython",
    "version": 3
   },
   "file_extension": ".py",
   "mimetype": "text/x-python",
   "name": "python",
   "nbconvert_exporter": "python",
   "pygments_lexer": "ipython3",
   "version": "3.12.4"
  }
 },
 "nbformat": 4,
 "nbformat_minor": 5
}
