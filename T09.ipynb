{
 "cells": [
  {
   "cell_type": "markdown",
   "id": "814792a6-7432-4a82-af20-e9c85df45a02",
   "metadata": {},
   "source": [
    "## T09 - Aguja de Buffon\n",
    "Terezza Marianne González Jauregui\n",
    "\n",
    "04/11/2024"
   ]
  },
  {
   "cell_type": "markdown",
   "id": "4f7cb058-d323-4e29-8060-40f5ea03682b",
   "metadata": {},
   "source": [
    "Investiga el problema de la aguja de Buffon.\n",
    "¿De qué trata?\n",
    "Es una pregunta planteada por primera vez en el siglo XVIII por Georges-Louis Leclerc, conde de Buffon:\r\n",
    "\r\n",
    "Supongamos que tenemos un piso hecho de tiras paralelas de madera, cada una de la misma anchura, y dejamos caer una aguja en el suelo. ¿Cuál es la probabilidad de que la aguja se quede a través de una línea entre dos tiras?\r\n",
    "La aguja de Buffon fue el primer problema de probabilidad geométrica que se resolvió; se puede resolver usando geometría integral. La solución para la probabilidad buscada p, en el caso de que la longitud de la aguja l no es mayor que el ancho t de las tiras, e$$p= 2/ \\pi * l/t$$\n",
    "\n",
    "* rata?\n",
    "Explica la solución con cálculo integral usando tus pal\n",
    "El extremo de la aguja más alejado de cualquiera de las dos líneas que bordean su región debe ubicarse dentro de una distancia horizontal de l cos θ ( θ es el ángulo entre la aguja y la horizontal) de esta línea para que la aguja lo atraviese. Lo más que este extremo de la aguja puede alejarse de esta línea horizontalmente en su región es t. La probabilidad de que el extremo más alejado de la aguja esté ubicado a no más de una distancia l cos θ de la línea de la distancia total t que puede recorrer en su región durante 0 ≤ θ ≤ π/2 está dado por:i$P = \\frac{\\int_0^{\\frac{\\pi}{2}} l \\cos \\theta \\, d\\theta}{\\int_0^{\\frac{\\pi}{2}} t \\, d\\theta}$\n",
    "y resumiendola da:\n",
    "$\\frac{2l}{t \\pi}$} * \\).\n",
    "\n",
    "abras.\n",
    "Explica la solución sin cálculo integral usando .\n",
    "Buscamos el promedio de las posibles posiciones y ángulos de la aguja. Tipo que lanzamos la aguja al azar sobre un suelo con líneas paralelas separadas por una distancia  t. La probabilidad de que la aguja cruce una línea depende de su longitud l  y del ángulo θ  que forma con las líneas. En promedio, la componente perpendicular de la aguja es de l sin θ . Si la distancia t entre las líneas es mayor que l sin θ , la aguja no cruzará; de lo contrario, sí lo hará.  Y al final, el promedio esta probabilidad sobre todos los posibles ángulos, se llega a la misma expresión:\n",
    "$\\frac{2l}{t \\pi}$\n",
    "  t* us palabras\n",
    "Crea una simulación con numpy donde se arrojen n agujas de longitud l dado que se tiene una distancia d entre cada lín\n",
    "Abajo :)ea paralela.\n",
    "\n",
    "¿Qué variables aleatorias hay e\n",
    "* El angulo de las agujas y la distancia del centro.n este caso?\n",
    "¿Qué distribu\n",
    "* Uniformeción siguen?\n",
    "¿Cómo evoluciona el resultado contra la cantidad de agujas * Aumenta la posiblidades pero nque se usa?\n"
   ]
  },
  {
   "cell_type": "code",
   "execution_count": 49,
   "id": "c057fe1e-ad06-4dc6-81fc-c0359d4cfdd0",
   "metadata": {},
   "outputs": [
    {
     "data": {
      "text/plain": [
       "0.425056"
      ]
     },
     "execution_count": 49,
     "metadata": {},
     "output_type": "execute_result"
    }
   ],
   "source": [
    "import numpy as np\n",
    "\n",
    "n = 1000000\n",
    "longitud = 2 \n",
    "distancia = 3 \n",
    "cruces = 0\n",
    "for i in range(n):\n",
    "    distancia_centro = np.random.uniform(0, distancia / 2)\n",
    "    theta = np.random.uniform(0, np.pi / 2)\n",
    "    if distancia_centro <= (longitud / 2) * np.sin(theta):\n",
    "        cruces += 1\n",
    "\n",
    "Probabilidad = cruces / n\n",
    "Probabilidad"
   ]
  },
  {
   "cell_type": "code",
   "execution_count": null,
   "id": "4c95dddb-52e1-4367-a8f9-66e7ee2d5064",
   "metadata": {},
   "outputs": [],
   "source": []
  }
 ],
 "metadata": {
  "kernelspec": {
   "display_name": "Python 3 (ipykernel)",
   "language": "python",
   "name": "python3"
  },
  "language_info": {
   "codemirror_mode": {
    "name": "ipython",
    "version": 3
   },
   "file_extension": ".py",
   "mimetype": "text/x-python",
   "name": "python",
   "nbconvert_exporter": "python",
   "pygments_lexer": "ipython3",
   "version": "3.12.4"
  }
 },
 "nbformat": 4,
 "nbformat_minor": 5
}
