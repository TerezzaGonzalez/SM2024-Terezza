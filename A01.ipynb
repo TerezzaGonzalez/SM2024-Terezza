{
 "cells": [
  {
   "cell_type": "code",
   "execution_count": 1,
   "id": "4349d59d-7aed-4bea-b553-cdf7c512dcd0",
   "metadata": {},
   "outputs": [
    {
     "name": "stdout",
     "output_type": "stream",
     "text": [
      "0\n",
      "1\n",
      "2\n",
      "3\n",
      "4\n",
      "5\n",
      "6\n",
      "7\n",
      "8\n",
      "9\n",
      "10\n"
     ]
    }
   ],
   "source": [
    "#contador\n",
    "\n",
    "a=10\n",
    "i=0\n",
    "\n",
    "while(i<=a):\n",
    "    print(i)\n",
    "    i+= 1"
   ]
  },
  {
   "cell_type": "code",
   "execution_count": 25,
   "id": "566814aa-ba0e-4108-8d73-754d2bc6d034",
   "metadata": {},
   "outputs": [
    {
     "name": "stdout",
     "output_type": "stream",
     "text": [
      "120\n"
     ]
    }
   ],
   "source": [
    "#Factorial\n",
    "def factorial(a):\n",
    "    if a < 0:\n",
    "        return \n",
    "    elif a == 0:\n",
    "        return 1\n",
    "    else:\n",
    "        return a * factorial(a - 1)\n",
    "\n",
    "a = 5\n",
    "resultado = factorial(a)\n",
    "print(resultado)"
   ]
  },
  {
   "cell_type": "code",
   "execution_count": 29,
   "id": "5ff0c7f1-e62c-4a16-9c72-4939e5fe2482",
   "metadata": {},
   "outputs": [
    {
     "name": "stdout",
     "output_type": "stream",
     "text": [
      "7 es un número primo.\n"
     ]
    }
   ],
   "source": [
    "a = 7  \n",
    "\n",
    "if a <= 1:\n",
    "    print(f\"{a} no es un número primo.\")\n",
    "else:\n",
    "    es_primo = True  # Suponemos que es primo\n",
    "    for i in range(2, int(a**0.5) + 1):\n",
    "        if a % i == 0:\n",
    "            es_primo = False  \n",
    "            break  \n",
    "\n",
    "    if es_primo:\n",
    "        print(f\"{a} es un número primo.\")\n",
    "    else:\n",
    "        print(f\"{a} no es un número primo.\")"
   ]
  },
  {
   "cell_type": "code",
   "execution_count": null,
   "id": "112de8f8-26c7-486d-bbb0-702ae0d2e525",
   "metadata": {},
   "outputs": [],
   "source": []
  }
 ],
 "metadata": {
  "kernelspec": {
   "display_name": "Python 3 (ipykernel)",
   "language": "python",
   "name": "python3"
  },
  "language_info": {
   "codemirror_mode": {
    "name": "ipython",
    "version": 3
   },
   "file_extension": ".py",
   "mimetype": "text/x-python",
   "name": "python",
   "nbconvert_exporter": "python",
   "pygments_lexer": "ipython3",
   "version": "3.12.4"
  }
 },
 "nbformat": 4,
 "nbformat_minor": 5
}
