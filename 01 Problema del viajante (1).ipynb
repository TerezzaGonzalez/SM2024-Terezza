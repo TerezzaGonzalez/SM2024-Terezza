{
 "cells": [
  {
   "cell_type": "markdown",
   "id": "d76090e0-e6ed-4b3a-ad35-951cb1621ca2",
   "metadata": {},
   "source": [
    "# Problema del viajante"
   ]
  },
  {
   "cell_type": "markdown",
   "id": "b614eba1-92a2-4a90-b174-c3de5f619c89",
   "metadata": {},
   "source": [
    "Crédito al profesor **Fernando Ignacio Becerra López**. Actividad adaptada de su curso IDI1."
   ]
  },
  {
   "cell_type": "markdown",
   "id": "b85b34e5-cc28-49fa-b1d6-22da6e5d8967",
   "metadata": {},
   "source": [
    "## A12\n",
    "\n",
    "Terezza Marianne Gonzalez Jauregui"
   ]
  },
  {
   "cell_type": "markdown",
   "id": "a8cf7c21-5c1a-45bf-a905-72a23bc42de2",
   "metadata": {},
   "source": [
    "## Planteamiento"
   ]
  },
  {
   "cell_type": "markdown",
   "id": "a129754f-fecf-4473-a599-ed25bacd6994",
   "metadata": {},
   "source": [
    "Eres un agente de viajes / alguien que quiere viajar, y tienes una lista de ciudades destino. Quieres planear una ruta cíclica que visite todas las ciudades, pero quieres optimizar o tiempo de viaje o costos de viaje (o una combinación de ambas).\n",
    "\n",
    "¿Cuál es el mejor orden para visitar todas estas ciudades?"
   ]
  },
  {
   "cell_type": "markdown",
   "id": "4e92e822-22c0-4976-9f6e-a37f4c74f831",
   "metadata": {},
   "source": [
    "1. Toma el archivo `datosCT.xlsx` y lee la hoja `8c` utilizando `pandas`.\n",
    "\n",
    "`nombre_de_variable = pd.read_excel(\"datosCT.xlsx\", sheet_name=\"8c\").set_index(\"Unnamed: 0\")`\n",
    "\n",
    "Imprime la tabla resultante."
   ]
  },
  {
   "cell_type": "code",
   "execution_count": 157,
   "id": "5e873f05-a919-4380-b160-cb1c4606ea39",
   "metadata": {},
   "outputs": [
    {
     "data": {
      "text/html": [
       "<div>\n",
       "<style scoped>\n",
       "    .dataframe tbody tr th:only-of-type {\n",
       "        vertical-align: middle;\n",
       "    }\n",
       "\n",
       "    .dataframe tbody tr th {\n",
       "        vertical-align: top;\n",
       "    }\n",
       "\n",
       "    .dataframe thead th {\n",
       "        text-align: right;\n",
       "    }\n",
       "</style>\n",
       "<table border=\"1\" class=\"dataframe\">\n",
       "  <thead>\n",
       "    <tr style=\"text-align: right;\">\n",
       "      <th></th>\n",
       "      <th>Tijuana</th>\n",
       "      <th>Mérida</th>\n",
       "      <th>GDL</th>\n",
       "      <th>México</th>\n",
       "      <th>León</th>\n",
       "      <th>Monterrey</th>\n",
       "      <th>Tapachula</th>\n",
       "      <th>Chihuahua</th>\n",
       "    </tr>\n",
       "    <tr>\n",
       "      <th>Unnamed: 0</th>\n",
       "      <th></th>\n",
       "      <th></th>\n",
       "      <th></th>\n",
       "      <th></th>\n",
       "      <th></th>\n",
       "      <th></th>\n",
       "      <th></th>\n",
       "      <th></th>\n",
       "    </tr>\n",
       "  </thead>\n",
       "  <tbody>\n",
       "    <tr>\n",
       "      <th>Tijuana</th>\n",
       "      <td>0</td>\n",
       "      <td>4180</td>\n",
       "      <td>2306</td>\n",
       "      <td>2848</td>\n",
       "      <td>2529</td>\n",
       "      <td>2409</td>\n",
       "      <td>4005</td>\n",
       "      <td>1583</td>\n",
       "    </tr>\n",
       "    <tr>\n",
       "      <th>Mérida</th>\n",
       "      <td>4180</td>\n",
       "      <td>0</td>\n",
       "      <td>1874</td>\n",
       "      <td>1332</td>\n",
       "      <td>1719</td>\n",
       "      <td>2046</td>\n",
       "      <td>1062</td>\n",
       "      <td>2819</td>\n",
       "    </tr>\n",
       "    <tr>\n",
       "      <th>GDL</th>\n",
       "      <td>2306</td>\n",
       "      <td>1874</td>\n",
       "      <td>0</td>\n",
       "      <td>542</td>\n",
       "      <td>223</td>\n",
       "      <td>789</td>\n",
       "      <td>1699</td>\n",
       "      <td>1202</td>\n",
       "    </tr>\n",
       "    <tr>\n",
       "      <th>México</th>\n",
       "      <td>2848</td>\n",
       "      <td>1332</td>\n",
       "      <td>542</td>\n",
       "      <td>0</td>\n",
       "      <td>389</td>\n",
       "      <td>933</td>\n",
       "      <td>1157</td>\n",
       "      <td>1487</td>\n",
       "    </tr>\n",
       "    <tr>\n",
       "      <th>León</th>\n",
       "      <td>2529</td>\n",
       "      <td>1719</td>\n",
       "      <td>223</td>\n",
       "      <td>389</td>\n",
       "      <td>0</td>\n",
       "      <td>711</td>\n",
       "      <td>1544</td>\n",
       "      <td>1140</td>\n",
       "    </tr>\n",
       "    <tr>\n",
       "      <th>Monterrey</th>\n",
       "      <td>2409</td>\n",
       "      <td>2046</td>\n",
       "      <td>789</td>\n",
       "      <td>933</td>\n",
       "      <td>711</td>\n",
       "      <td>0</td>\n",
       "      <td>1803</td>\n",
       "      <td>826</td>\n",
       "    </tr>\n",
       "    <tr>\n",
       "      <th>Tapachula</th>\n",
       "      <td>4005</td>\n",
       "      <td>1062</td>\n",
       "      <td>1699</td>\n",
       "      <td>1157</td>\n",
       "      <td>1544</td>\n",
       "      <td>1803</td>\n",
       "      <td>0</td>\n",
       "      <td>2644</td>\n",
       "    </tr>\n",
       "    <tr>\n",
       "      <th>Chihuahua</th>\n",
       "      <td>1583</td>\n",
       "      <td>2819</td>\n",
       "      <td>1202</td>\n",
       "      <td>1487</td>\n",
       "      <td>1140</td>\n",
       "      <td>826</td>\n",
       "      <td>2644</td>\n",
       "      <td>0</td>\n",
       "    </tr>\n",
       "  </tbody>\n",
       "</table>\n",
       "</div>"
      ],
      "text/plain": [
       "            Tijuana  Mérida   GDL  México  León  Monterrey  Tapachula  \\\n",
       "Unnamed: 0                                                              \n",
       "Tijuana           0    4180  2306    2848  2529       2409       4005   \n",
       "Mérida         4180       0  1874    1332  1719       2046       1062   \n",
       "GDL            2306    1874     0     542   223        789       1699   \n",
       "México         2848    1332   542       0   389        933       1157   \n",
       "León           2529    1719   223     389     0        711       1544   \n",
       "Monterrey      2409    2046   789     933   711          0       1803   \n",
       "Tapachula      4005    1062  1699    1157  1544       1803          0   \n",
       "Chihuahua      1583    2819  1202    1487  1140        826       2644   \n",
       "\n",
       "            Chihuahua  \n",
       "Unnamed: 0             \n",
       "Tijuana          1583  \n",
       "Mérida           2819  \n",
       "GDL              1202  \n",
       "México           1487  \n",
       "León             1140  \n",
       "Monterrey         826  \n",
       "Tapachula        2644  \n",
       "Chihuahua           0  "
      ]
     },
     "execution_count": 157,
     "metadata": {},
     "output_type": "execute_result"
    }
   ],
   "source": [
    "import pandas as pd\n",
    "Datos= pd.read_excel(\"datosCT.xlsx\", sheet_name=\"8c\").set_index(\"Unnamed: 0\")\n",
    "Datos"
   ]
  },
  {
   "cell_type": "code",
   "execution_count": 159,
   "id": "7cd4dab6-5b24-4a00-bbef-76ccf5f2d183",
   "metadata": {},
   "outputs": [
    {
     "name": "stdout",
     "output_type": "stream",
     "text": [
      "Index(['Tijuana', 'Mérida', 'GDL', 'México', 'León', 'Monterrey', 'Tapachula',\n",
      "       'Chihuahua'],\n",
      "      dtype='object')\n"
     ]
    }
   ],
   "source": [
    "print(Datos.columns)\n"
   ]
  },
  {
   "cell_type": "markdown",
   "id": "57788b70-c8a2-427a-9468-6c802086275b",
   "metadata": {},
   "source": [
    "La tabla contiene una matriz de la distancia de recorrido entre cada ciudad. Por ejemplo, si quiero saber la distancia entre Tijuana y Tapachula busco el renglón Tijuana y la columna Tapachula / la columna Tijuana y el renglón Tapachula.\n",
    "\n",
    "2. Crea una función que retorne las ciudades de la tabla en un orden aleatorio."
   ]
  },
  {
   "cell_type": "code",
   "execution_count": 183,
   "id": "8910c0a0-a0ee-4912-b3e2-9d1bb0838341",
   "metadata": {},
   "outputs": [
    {
     "data": {
      "text/plain": [
       "('GDL', 'Mèrida')"
      ]
     },
     "execution_count": 183,
     "metadata": {},
     "output_type": "execute_result"
    }
   ],
   "source": [
    "import random\n",
    "Ciudades = [\"Tijuna\", \"Mérida\", \"GDL\", \"México\", \"León\", \"Monterrey\", \"Tapachula\", \"Chihuahua\"]\n",
    "Ciudad1 = random.choice(Cuidades) \n",
    "Ciudad2 = random.choice(Cuidades) \n",
    "Ciudades_finales= (Ciudad1 != Ciudad2)\n",
    "Ciudades_finales\n",
    "Ciudad1, Ciudad2"
   ]
  },
  {
   "cell_type": "code",
   "execution_count": 227,
   "id": "6bc4a556-15e9-4cab-8552-bb5aa5bc0604",
   "metadata": {},
   "outputs": [
    {
     "data": {
      "text/plain": [
       "('GDL',\n",
       " 'Mérida',\n",
       " 'México',\n",
       " 'Tijuana',\n",
       " 'Monterrey',\n",
       " 'Chihuahua',\n",
       " 'Tapachula',\n",
       " 'León',\n",
       " array(['Chihuahua', 'León', 'Tapachula', 'Mérida', 'GDL', 'Tijuana',\n",
       "        'México', 'Monterrey'], dtype='<U9'))"
      ]
     },
     "execution_count": 227,
     "metadata": {},
     "output_type": "execute_result"
    }
   ],
   "source": [
    "import random\n",
    "import numpy as np\n",
    "\n",
    "Ciudades = [\"Tijuana\", \"Mérida\", \"GDL\", \"México\", \"León\", \"Monterrey\", \"Tapachula\", \"Chihuahua\"]\n",
    "\n",
    "Ciudad1, Ciudad2, Ciudad3, Ciudad4, Ciudad5, Ciudad6, Ciudad7, Ciudad8 = random.sample(Ciudades, 8) #muestra aleatoria de elementos sin repetición \n",
    "ruta =np.random.choice(Ciudades, size=len(Ciudades), replace=False)\n",
    "\n",
    "Ciudad1, Ciudad2, Ciudad3, Ciudad4, Ciudad5, Ciudad6, Ciudad7, Ciudad8, ruta"
   ]
  },
  {
   "cell_type": "markdown",
   "id": "e04e03f2-740b-48f6-8903-f09d6b940782",
   "metadata": {},
   "source": [
    "3. Crea una función que dadas dos ciudades te indique la distancia entre ellas."
   ]
  },
  {
   "cell_type": "code",
   "execution_count": 201,
   "id": "c2920721-a1e1-4fc4-92a7-c348b683a3d7",
   "metadata": {},
   "outputs": [
    {
     "data": {
      "text/plain": [
       "1202"
      ]
     },
     "execution_count": 201,
     "metadata": {},
     "output_type": "execute_result"
    }
   ],
   "source": [
    "def distancia (Datos, CiudadA, CiudadB):\n",
    "    return Datos.loc[CiudadA,CiudadB]\n",
    "distancia(Datos, Ciudad1, Ciudad2)"
   ]
  },
  {
   "cell_type": "markdown",
   "id": "d081dc58-5886-4c90-a42f-ed52e9edc10f",
   "metadata": {},
   "source": [
    "4. Crea una función que calcule la distancia total de recorrer una lista de ciudades:\n",
    "    - $C1 → C2 + C2 → C3 + ... + C_{n-1} → C_n + C_n → C_1$"
   ]
  },
  {
   "cell_type": "code",
   "execution_count": 254,
   "id": "14eeb9bd-6eb6-4fa5-b040-da2d8a12bbf9",
   "metadata": {},
   "outputs": [
    {
     "data": {
      "text/plain": [
       "13477"
      ]
     },
     "execution_count": 254,
     "metadata": {},
     "output_type": "execute_result"
    }
   ],
   "source": [
    "def distancia2(Datos, ruta) :\n",
    "    i = 0\n",
    "    distanciaTotal=0\n",
    "    for i in range(len(ruta)-1) :\n",
    "        distanciaTotal += Datos.loc[ruta[i],ruta[i+1]]\n",
    "    distanciaTotal += Datos.loc[ruta[-1], ruta[0]]\n",
    "    return distanciaTotal\n",
    "distancia2(Datos, ruta)\n",
    "\n",
    "def distancia (Datos, CiudadA, CiudadB, CiudadC, CiudadD, CiudadE, CiudadF, CiudadG, CiudadH):\n",
    "    return (Datos.loc[CiudadA,CiudadB]+Datos.loc[CiudadB,CiudadC]+Datos.loc[CiudadC,CiudadD]+Datos.loc[CiudadD,CiudadE]+Datos.loc[CiudadE,CiudadF]+Datos.loc[CiudadF,CiudadG]+Datos.loc[CiudadG,CiudadH])\n",
    "distancia(Datos, Ciudad1, Ciudad2, Ciudad3, Ciudad4, Ciudad5, Ciudad6, Ciudad7, Ciudad8)"
   ]
  },
  {
   "cell_type": "markdown",
   "id": "c5201501-d413-4091-8c45-facfcd7e81bc",
   "metadata": {},
   "source": [
    "5. Genera una lista con 100 listas de ciudades generadas con permutaciones aleatorias (no importa si hay repetidas)"
   ]
  },
  {
   "cell_type": "code",
   "execution_count": 278,
   "id": "b485fd14-b022-4fce-91e4-812abcd7c8c2",
   "metadata": {},
   "outputs": [
    {
     "data": {
      "text/plain": [
       "[array(['México', 'Tijuana', 'GDL', 'Monterrey', 'Tapachula', 'Chihuahua',\n",
       "        'Mérida', 'León'], dtype='<U9'),\n",
       " array(['GDL', 'Monterrey', 'Chihuahua', 'México', 'Mérida', 'Tapachula',\n",
       "        'León', 'Tijuana'], dtype='<U9'),\n",
       " array(['Chihuahua', 'GDL', 'México', 'León', 'Monterrey', 'Tapachula',\n",
       "        'Tijuana', 'Mérida'], dtype='<U9'),\n",
       " array(['Mérida', 'Chihuahua', 'Tapachula', 'GDL', 'León', 'Tijuana',\n",
       "        'Monterrey', 'México'], dtype='<U9'),\n",
       " array(['Monterrey', 'Mérida', 'Chihuahua', 'GDL', 'Tijuana', 'México',\n",
       "        'León', 'Tapachula'], dtype='<U9'),\n",
       " array(['México', 'Tapachula', 'GDL', 'Chihuahua', 'Mérida', 'León',\n",
       "        'Monterrey', 'Tijuana'], dtype='<U9'),\n",
       " array(['León', 'GDL', 'México', 'Tijuana', 'Tapachula', 'Monterrey',\n",
       "        'Chihuahua', 'Mérida'], dtype='<U9'),\n",
       " array(['GDL', 'México', 'Monterrey', 'León', 'Mérida', 'Tijuana',\n",
       "        'Chihuahua', 'Tapachula'], dtype='<U9'),\n",
       " array(['México', 'Tijuana', 'GDL', 'Monterrey', 'Mérida', 'Tapachula',\n",
       "        'León', 'Chihuahua'], dtype='<U9'),\n",
       " array(['Chihuahua', 'Mérida', 'Tapachula', 'GDL', 'León', 'México',\n",
       "        'Tijuana', 'Monterrey'], dtype='<U9'),\n",
       " array(['México', 'GDL', 'Chihuahua', 'Tapachula', 'León', 'Tijuana',\n",
       "        'Monterrey', 'Mérida'], dtype='<U9'),\n",
       " array(['Tapachula', 'Chihuahua', 'Monterrey', 'Mérida', 'León', 'México',\n",
       "        'GDL', 'Tijuana'], dtype='<U9'),\n",
       " array(['Tapachula', 'México', 'León', 'Tijuana', 'Mérida', 'Monterrey',\n",
       "        'GDL', 'Chihuahua'], dtype='<U9'),\n",
       " array(['Tijuana', 'Mérida', 'Tapachula', 'México', 'GDL', 'Chihuahua',\n",
       "        'Monterrey', 'León'], dtype='<U9'),\n",
       " array(['Tapachula', 'Tijuana', 'GDL', 'León', 'Mérida', 'Chihuahua',\n",
       "        'México', 'Monterrey'], dtype='<U9'),\n",
       " array(['Mérida', 'Monterrey', 'México', 'Chihuahua', 'Tapachula',\n",
       "        'Tijuana', 'GDL', 'León'], dtype='<U9'),\n",
       " array(['Tapachula', 'Chihuahua', 'Monterrey', 'GDL', 'Tijuana', 'México',\n",
       "        'Mérida', 'León'], dtype='<U9'),\n",
       " array(['Chihuahua', 'México', 'León', 'Tijuana', 'Tapachula', 'GDL',\n",
       "        'Monterrey', 'Mérida'], dtype='<U9'),\n",
       " array(['Chihuahua', 'México', 'Tapachula', 'Monterrey', 'GDL', 'Mérida',\n",
       "        'Tijuana', 'León'], dtype='<U9'),\n",
       " array(['GDL', 'Monterrey', 'México', 'Tapachula', 'Chihuahua', 'León',\n",
       "        'Tijuana', 'Mérida'], dtype='<U9'),\n",
       " array(['Tapachula', 'León', 'Mérida', 'Tijuana', 'México', 'Monterrey',\n",
       "        'GDL', 'Chihuahua'], dtype='<U9'),\n",
       " array(['Tapachula', 'Mérida', 'Tijuana', 'México', 'León', 'Chihuahua',\n",
       "        'Monterrey', 'GDL'], dtype='<U9'),\n",
       " array(['Chihuahua', 'GDL', 'León', 'México', 'Monterrey', 'Mérida',\n",
       "        'Tijuana', 'Tapachula'], dtype='<U9'),\n",
       " array(['Monterrey', 'Tapachula', 'León', 'Tijuana', 'México', 'Mérida',\n",
       "        'GDL', 'Chihuahua'], dtype='<U9'),\n",
       " array(['Chihuahua', 'GDL', 'Mérida', 'Monterrey', 'León', 'México',\n",
       "        'Tapachula', 'Tijuana'], dtype='<U9'),\n",
       " array(['Tijuana', 'Mérida', 'Monterrey', 'México', 'GDL', 'Chihuahua',\n",
       "        'Tapachula', 'León'], dtype='<U9'),\n",
       " array(['León', 'GDL', 'Monterrey', 'Tapachula', 'México', 'Chihuahua',\n",
       "        'Tijuana', 'Mérida'], dtype='<U9'),\n",
       " array(['León', 'Monterrey', 'Tapachula', 'México', 'GDL', 'Mérida',\n",
       "        'Tijuana', 'Chihuahua'], dtype='<U9'),\n",
       " array(['Tijuana', 'Mérida', 'León', 'Tapachula', 'Monterrey', 'GDL',\n",
       "        'Chihuahua', 'México'], dtype='<U9'),\n",
       " array(['GDL', 'Monterrey', 'Mérida', 'Tijuana', 'Chihuahua', 'León',\n",
       "        'México', 'Tapachula'], dtype='<U9'),\n",
       " array(['Tapachula', 'México', 'León', 'GDL', 'Mérida', 'Tijuana',\n",
       "        'Monterrey', 'Chihuahua'], dtype='<U9'),\n",
       " array(['Tapachula', 'GDL', 'Monterrey', 'Mérida', 'Chihuahua', 'León',\n",
       "        'México', 'Tijuana'], dtype='<U9'),\n",
       " array(['Mérida', 'Tapachula', 'Tijuana', 'Chihuahua', 'León', 'GDL',\n",
       "        'Monterrey', 'México'], dtype='<U9'),\n",
       " array(['Tijuana', 'México', 'Mérida', 'León', 'Tapachula', 'GDL',\n",
       "        'Monterrey', 'Chihuahua'], dtype='<U9'),\n",
       " array(['León', 'Mérida', 'México', 'Tijuana', 'Tapachula', 'GDL',\n",
       "        'Monterrey', 'Chihuahua'], dtype='<U9'),\n",
       " array(['Tapachula', 'Monterrey', 'Mérida', 'México', 'Chihuahua', 'GDL',\n",
       "        'Tijuana', 'León'], dtype='<U9'),\n",
       " array(['Tijuana', 'Tapachula', 'Chihuahua', 'Monterrey', 'Mérida',\n",
       "        'México', 'GDL', 'León'], dtype='<U9'),\n",
       " array(['León', 'Tapachula', 'Tijuana', 'GDL', 'México', 'Mérida',\n",
       "        'Chihuahua', 'Monterrey'], dtype='<U9'),\n",
       " array(['México', 'Tijuana', 'Chihuahua', 'Mérida', 'Tapachula', 'GDL',\n",
       "        'Monterrey', 'León'], dtype='<U9'),\n",
       " array(['México', 'Chihuahua', 'León', 'Tapachula', 'Monterrey', 'Mérida',\n",
       "        'Tijuana', 'GDL'], dtype='<U9'),\n",
       " array(['Tijuana', 'Tapachula', 'México', 'Monterrey', 'Mérida', 'León',\n",
       "        'GDL', 'Chihuahua'], dtype='<U9'),\n",
       " array(['Tapachula', 'Monterrey', 'Chihuahua', 'México', 'Mérida', 'León',\n",
       "        'Tijuana', 'GDL'], dtype='<U9'),\n",
       " array(['Tijuana', 'Chihuahua', 'Monterrey', 'GDL', 'Mérida', 'México',\n",
       "        'León', 'Tapachula'], dtype='<U9'),\n",
       " array(['México', 'Tapachula', 'Mérida', 'GDL', 'Tijuana', 'Monterrey',\n",
       "        'Chihuahua', 'León'], dtype='<U9'),\n",
       " array(['México', 'Monterrey', 'Tijuana', 'Chihuahua', 'Tapachula',\n",
       "        'Mérida', 'León', 'GDL'], dtype='<U9'),\n",
       " array(['México', 'Tijuana', 'León', 'GDL', 'Monterrey', 'Chihuahua',\n",
       "        'Mérida', 'Tapachula'], dtype='<U9'),\n",
       " array(['Chihuahua', 'León', 'México', 'Mérida', 'Tapachula', 'Tijuana',\n",
       "        'Monterrey', 'GDL'], dtype='<U9'),\n",
       " array(['Tijuana', 'Mérida', 'León', 'GDL', 'México', 'Chihuahua',\n",
       "        'Tapachula', 'Monterrey'], dtype='<U9'),\n",
       " array(['México', 'Tijuana', 'GDL', 'León', 'Mérida', 'Chihuahua',\n",
       "        'Tapachula', 'Monterrey'], dtype='<U9'),\n",
       " array(['Chihuahua', 'GDL', 'León', 'México', 'Tapachula', 'Tijuana',\n",
       "        'Monterrey', 'Mérida'], dtype='<U9'),\n",
       " array(['León', 'Tapachula', 'Tijuana', 'Chihuahua', 'Monterrey', 'México',\n",
       "        'GDL', 'Mérida'], dtype='<U9'),\n",
       " array(['León', 'México', 'Chihuahua', 'Tapachula', 'Tijuana', 'GDL',\n",
       "        'Monterrey', 'Mérida'], dtype='<U9'),\n",
       " array(['México', 'Tijuana', 'Tapachula', 'GDL', 'León', 'Mérida',\n",
       "        'Chihuahua', 'Monterrey'], dtype='<U9'),\n",
       " array(['México', 'Tapachula', 'Monterrey', 'León', 'Mérida', 'GDL',\n",
       "        'Chihuahua', 'Tijuana'], dtype='<U9'),\n",
       " array(['Monterrey', 'México', 'Chihuahua', 'GDL', 'Tijuana', 'Tapachula',\n",
       "        'León', 'Mérida'], dtype='<U9'),\n",
       " array(['Chihuahua', 'Tapachula', 'Mérida', 'Monterrey', 'México', 'GDL',\n",
       "        'León', 'Tijuana'], dtype='<U9'),\n",
       " array(['Tijuana', 'Tapachula', 'GDL', 'México', 'Mérida', 'Chihuahua',\n",
       "        'León', 'Monterrey'], dtype='<U9'),\n",
       " array(['Tapachula', 'Tijuana', 'León', 'GDL', 'Mérida', 'Monterrey',\n",
       "        'México', 'Chihuahua'], dtype='<U9'),\n",
       " array(['Mérida', 'León', 'Monterrey', 'Tapachula', 'México', 'Chihuahua',\n",
       "        'Tijuana', 'GDL'], dtype='<U9'),\n",
       " array(['Mérida', 'Tijuana', 'Monterrey', 'GDL', 'Chihuahua', 'Tapachula',\n",
       "        'León', 'México'], dtype='<U9'),\n",
       " array(['GDL', 'Chihuahua', 'México', 'León', 'Tapachula', 'Mérida',\n",
       "        'Monterrey', 'Tijuana'], dtype='<U9'),\n",
       " array(['Mérida', 'Chihuahua', 'México', 'Tapachula', 'Tijuana', 'León',\n",
       "        'GDL', 'Monterrey'], dtype='<U9'),\n",
       " array(['León', 'Chihuahua', 'GDL', 'Monterrey', 'Tapachula', 'Mérida',\n",
       "        'México', 'Tijuana'], dtype='<U9'),\n",
       " array(['México', 'Monterrey', 'León', 'GDL', 'Chihuahua', 'Mérida',\n",
       "        'Tijuana', 'Tapachula'], dtype='<U9'),\n",
       " array(['GDL', 'Tijuana', 'León', 'Tapachula', 'México', 'Chihuahua',\n",
       "        'Mérida', 'Monterrey'], dtype='<U9'),\n",
       " array(['Tapachula', 'Mérida', 'Tijuana', 'Monterrey', 'GDL', 'México',\n",
       "        'León', 'Chihuahua'], dtype='<U9'),\n",
       " array(['GDL', 'Monterrey', 'Chihuahua', 'Tijuana', 'León', 'México',\n",
       "        'Mérida', 'Tapachula'], dtype='<U9'),\n",
       " array(['León', 'Tijuana', 'Monterrey', 'Mérida', 'Tapachula', 'México',\n",
       "        'GDL', 'Chihuahua'], dtype='<U9'),\n",
       " array(['Tapachula', 'Chihuahua', 'Monterrey', 'México', 'Mérida',\n",
       "        'Tijuana', 'GDL', 'León'], dtype='<U9'),\n",
       " array(['León', 'Mérida', 'Tapachula', 'Tijuana', 'México', 'GDL',\n",
       "        'Monterrey', 'Chihuahua'], dtype='<U9'),\n",
       " array(['Tapachula', 'Monterrey', 'México', 'León', 'GDL', 'Chihuahua',\n",
       "        'Mérida', 'Tijuana'], dtype='<U9'),\n",
       " array(['Tijuana', 'Tapachula', 'León', 'Monterrey', 'GDL', 'Mérida',\n",
       "        'México', 'Chihuahua'], dtype='<U9'),\n",
       " array(['Monterrey', 'León', 'México', 'Tijuana', 'GDL', 'Chihuahua',\n",
       "        'Mérida', 'Tapachula'], dtype='<U9'),\n",
       " array(['León', 'Tapachula', 'Tijuana', 'Mérida', 'GDL', 'Monterrey',\n",
       "        'Chihuahua', 'México'], dtype='<U9'),\n",
       " array(['Chihuahua', 'León', 'Tijuana', 'México', 'Tapachula', 'Monterrey',\n",
       "        'GDL', 'Mérida'], dtype='<U9'),\n",
       " array(['Tapachula', 'León', 'Tijuana', 'Monterrey', 'GDL', 'Mérida',\n",
       "        'México', 'Chihuahua'], dtype='<U9'),\n",
       " array(['Chihuahua', 'GDL', 'México', 'Tijuana', 'Mérida', 'Tapachula',\n",
       "        'Monterrey', 'León'], dtype='<U9'),\n",
       " array(['México', 'Chihuahua', 'Tijuana', 'GDL', 'Mérida', 'Monterrey',\n",
       "        'León', 'Tapachula'], dtype='<U9'),\n",
       " array(['Monterrey', 'Tapachula', 'Chihuahua', 'GDL', 'León', 'Mérida',\n",
       "        'Tijuana', 'México'], dtype='<U9'),\n",
       " array(['Tapachula', 'Mérida', 'México', 'GDL', 'Chihuahua', 'Tijuana',\n",
       "        'León', 'Monterrey'], dtype='<U9'),\n",
       " array(['Tijuana', 'Tapachula', 'Mérida', 'Monterrey', 'Chihuahua', 'GDL',\n",
       "        'León', 'México'], dtype='<U9'),\n",
       " array(['León', 'GDL', 'Tijuana', 'México', 'Tapachula', 'Mérida',\n",
       "        'Monterrey', 'Chihuahua'], dtype='<U9'),\n",
       " array(['GDL', 'México', 'Monterrey', 'Chihuahua', 'Tapachula', 'Tijuana',\n",
       "        'León', 'Mérida'], dtype='<U9'),\n",
       " array(['Tijuana', 'México', 'León', 'Monterrey', 'GDL', 'Mérida',\n",
       "        'Chihuahua', 'Tapachula'], dtype='<U9'),\n",
       " array(['Tapachula', 'Monterrey', 'Tijuana', 'León', 'Chihuahua', 'Mérida',\n",
       "        'México', 'GDL'], dtype='<U9'),\n",
       " array(['Monterrey', 'Tapachula', 'Mérida', 'León', 'GDL', 'Chihuahua',\n",
       "        'Tijuana', 'México'], dtype='<U9'),\n",
       " array(['México', 'Monterrey', 'León', 'Tapachula', 'Tijuana', 'GDL',\n",
       "        'Chihuahua', 'Mérida'], dtype='<U9'),\n",
       " array(['Tapachula', 'Chihuahua', 'GDL', 'Monterrey', 'México', 'Mérida',\n",
       "        'Tijuana', 'León'], dtype='<U9'),\n",
       " array(['Mérida', 'Chihuahua', 'GDL', 'Monterrey', 'Tapachula', 'Tijuana',\n",
       "        'León', 'México'], dtype='<U9'),\n",
       " array(['GDL', 'Monterrey', 'Chihuahua', 'Tapachula', 'León', 'Mérida',\n",
       "        'México', 'Tijuana'], dtype='<U9'),\n",
       " array(['León', 'GDL', 'Tapachula', 'Mérida', 'Tijuana', 'Monterrey',\n",
       "        'México', 'Chihuahua'], dtype='<U9'),\n",
       " array(['Chihuahua', 'Tapachula', 'León', 'Monterrey', 'GDL', 'Mérida',\n",
       "        'México', 'Tijuana'], dtype='<U9'),\n",
       " array(['GDL', 'Monterrey', 'México', 'León', 'Tapachula', 'Mérida',\n",
       "        'Tijuana', 'Chihuahua'], dtype='<U9'),\n",
       " array(['Tijuana', 'Chihuahua', 'Tapachula', 'GDL', 'Monterrey', 'Mérida',\n",
       "        'México', 'León'], dtype='<U9'),\n",
       " array(['México', 'Mérida', 'Chihuahua', 'Tijuana', 'GDL', 'Tapachula',\n",
       "        'Monterrey', 'León'], dtype='<U9'),\n",
       " array(['León', 'Tijuana', 'GDL', 'Tapachula', 'Mérida', 'Chihuahua',\n",
       "        'Monterrey', 'México'], dtype='<U9'),\n",
       " array(['Tapachula', 'Mérida', 'GDL', 'México', 'Chihuahua', 'Tijuana',\n",
       "        'Monterrey', 'León'], dtype='<U9'),\n",
       " array(['Monterrey', 'Chihuahua', 'Mérida', 'Tapachula', 'Tijuana', 'GDL',\n",
       "        'México', 'León'], dtype='<U9'),\n",
       " array(['Chihuahua', 'Tapachula', 'México', 'Mérida', 'Monterrey',\n",
       "        'Tijuana', 'GDL', 'León'], dtype='<U9'),\n",
       " array(['Monterrey', 'Tijuana', 'Mérida', 'Chihuahua', 'León', 'Tapachula',\n",
       "        'GDL', 'México'], dtype='<U9')]"
      ]
     },
     "execution_count": 278,
     "metadata": {},
     "output_type": "execute_result"
    }
   ],
   "source": [
    "import numpy as np\n",
    "listas=[]\n",
    "n=100\n",
    "for i in range (n):\n",
    "    lista= np.random.choice(Ciudades, size=len(Ciudades), replace=False)\n",
    "    listas.append(lista)\n",
    "\n",
    "listas"
   ]
  },
  {
   "cell_type": "markdown",
   "id": "c7326a12-a09b-497f-bd57-90f190ecd5d7",
   "metadata": {},
   "source": [
    "6. Calcula la distancia total de todas las rutas generadas y guarda la información en otra lista."
   ]
  },
  {
   "cell_type": "code",
   "execution_count": 292,
   "id": "5ad7df8b-3eba-42f5-a16b-3f4672a6fd68",
   "metadata": {},
   "outputs": [
    {
     "data": {
      "text/plain": [
       "[15317,\n",
       " 11875,\n",
       " 15651,\n",
       " 14588,\n",
       " 14957,\n",
       " 14564,\n",
       " 14785,\n",
       " 14011,\n",
       " 13222,\n",
       " 12275,\n",
       " 14248,\n",
       " 14477,\n",
       " 14936,\n",
       " 12209,\n",
       " 15295,\n",
       " 15363,\n",
       " 14008,\n",
       " 15763,\n",
       " 14959,\n",
       " 15246,\n",
       " 15859,\n",
       " 12933,\n",
       " 15622,\n",
       " 13958,\n",
       " 12967,\n",
       " 15620,\n",
       " 12941,\n",
       " 12990,\n",
       " 15572,\n",
       " 12983,\n",
       " 13702,\n",
       " 15735,\n",
       " 11067,\n",
       " 12340,\n",
       " 14358,\n",
       " 14249,\n",
       " 14147,\n",
       " 14085,\n",
       " 11900,\n",
       " 15048,\n",
       " 12868,\n",
       " 13701,\n",
       " 12342,\n",
       " 11163,\n",
       " 11115,\n",
       " 12253,\n",
       " 12328,\n",
       " 15007,\n",
       " 15295,\n",
       " 14250,\n",
       " 13026,\n",
       " 15385,\n",
       " 15072,\n",
       " 12897,\n",
       " 15242,\n",
       " 11562,\n",
       " 14657,\n",
       " 15741,\n",
       " 12640,\n",
       " 14489,\n",
       " 12445,\n",
       " 15055,\n",
       " 12705,\n",
       " 15230,\n",
       " 14677,\n",
       " 13155,\n",
       " 10209,\n",
       " 12087,\n",
       " 13988,\n",
       " 12931,\n",
       " 15554,\n",
       " 13325,\n",
       " 13140,\n",
       " 15094,\n",
       " 14959,\n",
       " 14608,\n",
       " 13488,\n",
       " 12708,\n",
       " 15552,\n",
       " 10764,\n",
       " 12601,\n",
       " 11608,\n",
       " 15072,\n",
       " 16079,\n",
       " 14273,\n",
       " 11373,\n",
       " 14852,\n",
       " 15153,\n",
       " 14868,\n",
       " 14008,\n",
       " 13133,\n",
       " 13325,\n",
       " 11682,\n",
       " 13011,\n",
       " 12642,\n",
       " 12563,\n",
       " 11212,\n",
       " 12660,\n",
       " 13257,\n",
       " 15266]"
      ]
     },
     "execution_count": 292,
     "metadata": {},
     "output_type": "execute_result"
    }
   ],
   "source": [
    "lista_rutas=[]\n",
    "for i in range (len(listas)):\n",
    "    distancias_Total=distancia2(Datos, listas[i])\n",
    "    lista_rutas.append(distancias_Total)\n",
    "lista_rutas"
   ]
  },
  {
   "cell_type": "markdown",
   "id": "110f4bf1-8ba2-44bb-af76-1ab1411ccdf6",
   "metadata": {},
   "source": [
    "7. ¿Cuál fue la mejor ruta? Compara con tus compañeros"
   ]
  },
  {
   "cell_type": "code",
   "execution_count": 300,
   "id": "f7e21c99-2cd9-4321-abc8-f7f12d450c6e",
   "metadata": {},
   "outputs": [
    {
     "data": {
      "text/plain": [
       "(array(['GDL', 'Monterrey', 'Chihuahua', 'Tijuana', 'León', 'México',\n",
       "        'Mérida', 'Tapachula'], dtype='<U9'),\n",
       " 10209)"
      ]
     },
     "execution_count": 300,
     "metadata": {},
     "output_type": "execute_result"
    }
   ],
   "source": [
    "ix = np.argmin(lista_rutas) \n",
    "listas[ix], lista_rutas[ix]"
   ]
  },
  {
   "cell_type": "code",
   "execution_count": null,
   "id": "3f5d5b47-5242-40ce-b91a-91f26fb15e70",
   "metadata": {},
   "outputs": [],
   "source": []
  },
  {
   "cell_type": "markdown",
   "id": "0761dba0-3977-409a-bfaa-fa460d0e507e",
   "metadata": {},
   "source": [
    "## ¿Qué hay detrás?"
   ]
  },
  {
   "cell_type": "markdown",
   "id": "3a690ea9-2e70-425d-b53b-5f29342f0656",
   "metadata": {},
   "source": [
    "Hasta ahora, las optimizaciones que hemos hecho en clase han sido todas de funciones convexas, que garantizan un mínimo/máximo global. Incluso en los casos de regresiones o programación lineal, que teníamos muchas variables y graficarlas era imposible, se sabe desde el planteamiento del problema que la solución será única.\n",
    "\n",
    "![](https://encrypted-tbn0.gstatic.com/images?q=tbn:ANd9GcTWjD1olGFjjZN8Yi99lqDzWa1X5Rz4b4BP7g&s)"
   ]
  },
  {
   "cell_type": "markdown",
   "id": "7ac96682-7833-4196-87ba-bd9ba71b8ccc",
   "metadata": {},
   "source": [
    "Estos casos y campo de estudio se conocen como **Optimización Convexa**. Hay casos en los que el problema se puede adaptar para suavizar su respuesta y *volverlo* convexo, pero en muchos casos las funciones no son convexas y resultan en la aparición de muchos mínimos y máximos.\n",
    "\n",
    "![](https://encrypted-tbn0.gstatic.com/images?q=tbn:ANd9GcTsUVelChbZG6NX2cHTB68j3Ma0_8RUKnPUNg&s)"
   ]
  },
  {
   "cell_type": "markdown",
   "id": "209ab61f-90f4-4b4f-8d99-fc2a0688a4a2",
   "metadata": {},
   "source": [
    "![](https://upload.wikimedia.org/wikipedia/commons/e/e3/Non-Convex_Objective_Function.gif)"
   ]
  },
  {
   "cell_type": "markdown",
   "id": "6ad2ceca-1dce-426a-b02c-15f76daa1609",
   "metadata": {},
   "source": [
    "En los casos donde podemos graficar es muy sencillo saber si el valor óptimo encontrado es global o no, pero una solución general para *n* dimensiones en un problema no existe. Imaginemos el cerebro humano aprendiendo un deporte sin instructor:\n",
    "- Alguien puede aprender a jugar tennis **sin** instructor, viendo y replicando comportamientos y patrones vistos anteriormente (aprendiendo)\n",
    "- Alguien también puede aprender a jugar tennis **con** instructor, donde el instructor corregirá hábitos erróneos."
   ]
  },
  {
   "cell_type": "markdown",
   "id": "56e4f84d-2a61-4372-8ac9-c708944e3ca2",
   "metadata": {},
   "source": [
    "Por lógica, la persona que está aprendiendo sin instructor llegará a un nivel de juego donde sus limitantes serán los malos hábitos formados al aprender y optimizar su forma de juego (óptimo local).\n",
    "\n",
    "La persona con instructor será guiada a un mínimo global pues el instructor conoce su ubicación."
   ]
  },
  {
   "cell_type": "markdown",
   "id": "dc04d58b-5402-40b0-b778-41532bd862f1",
   "metadata": {},
   "source": [
    "Todos aprendemos de formas diferentes y cada quién podría llegar a su óptimo en dado tiempo; no hay garantía de que la forma en la que aprendes sea la mejor, entonces lo mejor es tener una mente abierta para ver si es que te has estancado y quizás hay otro valor óptimo en alguna otra parte."
   ]
  },
  {
   "cell_type": "markdown",
   "id": "5a41d7ad-adb1-43d6-8920-d29210c49ec5",
   "metadata": {},
   "source": [
    "## Uniendo"
   ]
  },
  {
   "cell_type": "markdown",
   "id": "ad106cd0-eefc-4ddd-8439-bdf583da2eb1",
   "metadata": {},
   "source": [
    "En el caso del problema de las ciudades hay 20,160 posibles combinaciones (excluyendo rutas repetidas con el viaje en orden reverso). Con las computadoras de hoy en día podemos revisar todos esos casos y tomar el mejor. ¿Qué pasa si añadimos ciudades?\n",
    "- 9 ciudades → $181,440$ combinaciones\n",
    "- 10 ciudades → $1'814,400$ combinaciones\n",
    "- 15 ciudades → $653,837'184,000$ combinaciones\n",
    "\n",
    "Para 15 ciudades, si cada ruta distinta nos tomara 1 segundo procesarla, se tardaría ~21 años en calcular todos los casos posibles. Si agregamos otra ciudad, entonces serían ~335 años."
   ]
  },
  {
   "cell_type": "markdown",
   "id": "21528c33-77cb-4756-a65a-86f3b848ae23",
   "metadata": {},
   "source": [
    "Los algoritmos de optimización con métodos numéricos necesitan un punto de partida, y a partir de ahí iteran hasta encontrar un mínimo/máximo sin poder saber si es local o global. ¿Cómo sabemos cuántas veces intentar optimizar y con qué punto de partida si no sabemos cuántos mínimos/máximos existen en nuestro problema o si siquiera existe un mínimo/máximo global?"
   ]
  },
  {
   "cell_type": "markdown",
   "id": "c71b3e5f-74cf-4607-92f6-a44d43208cbf",
   "metadata": {},
   "source": [
    "**No sabemos.** Lo mejor que podemos hacer es usar *métodos de búsqueda* / *algoritmos probabilísticos* para intentar encontrar la mejor solución posible en el momento y decidir si esa solución es suficiente."
   ]
  },
  {
   "cell_type": "markdown",
   "id": "fde134fb-e526-48af-a559-72b13dcd03a5",
   "metadata": {},
   "source": [
    "## Siguientes pasos"
   ]
  },
  {
   "cell_type": "markdown",
   "id": "791b7fa4-170c-48a0-a9e2-ae8c3c80cbae",
   "metadata": {},
   "source": [
    "En lugar de usar fuerza bruta (Monte Carlo o algoritmos iterativos) para encontrar la respuesta empezaremos a usar búsquedas dirigidas para intentar mejorar nuestros resultados mientras diminuimos nuestro tiempo de procesamiento."
   ]
  },
  {
   "cell_type": "code",
   "execution_count": null,
   "id": "a7c80c90-8c69-4055-a7f6-e29a730e1fe1",
   "metadata": {},
   "outputs": [],
   "source": []
  },
  {
   "cell_type": "code",
   "execution_count": null,
   "id": "33ca80c5-c2c1-4486-bc9d-a0bbb145edf5",
   "metadata": {},
   "outputs": [],
   "source": []
  }
 ],
 "metadata": {
  "kernelspec": {
   "display_name": "Python 3 (ipykernel)",
   "language": "python",
   "name": "python3"
  },
  "language_info": {
   "codemirror_mode": {
    "name": "ipython",
    "version": 3
   },
   "file_extension": ".py",
   "mimetype": "text/x-python",
   "name": "python",
   "nbconvert_exporter": "python",
   "pygments_lexer": "ipython3",
   "version": "3.12.4"
  }
 },
 "nbformat": 4,
 "nbformat_minor": 5
}
