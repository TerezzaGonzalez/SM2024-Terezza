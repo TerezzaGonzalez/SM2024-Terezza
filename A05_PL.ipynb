{
 "cells": [
  {
   "cell_type": "markdown",
   "id": "3b0225b6-13b3-40ca-abed-bfe354358747",
   "metadata": {},
   "source": [
    "# A05 - Programación lineal\n",
    "\n",
    "Terezza Marianne González Jáuregui\n",
    "\n",
    "05/09/2024"
   ]
  },
  {
   "cell_type": "markdown",
   "id": "85ac090a-446b-4d44-93aa-7579ed291226",
   "metadata": {},
   "source": [
    "**Ejercicio 1**\r\n",
    "\r\n",
    "Se quiere producir comida para gatos de la manera más barata, no obstante se debe también asegurar que se cumplan los datos requeridos de analisis nutricional. Por lo que se quiere variar la cantidad de cada ingrediente para cumplir con los estandares nutricionales. Los requisitos que se tienen es que en 100 gramos, se deben tener por lo menos 9 gramos de proteína y  7 gramos de grasa. Así mismo, no se debe tener más de 2.5 gramos de fibra y 0.5 gramos de sal."
   ]
  },
  {
   "cell_type": "markdown",
   "id": "9549702e-414a-4293-8742-dedad3e8bd56",
   "metadata": {},
   "source": [
    "1. Identificar criterio\n",
    "   * Minimizar los gastos para la producción de la comida de gatos\n",
    "2. Variables de control\n",
    "   * Cantidad de Pollo (p)\n",
    "   * Cantidad de Carne (ca)\n",
    "   * Cantidad de Cordero (co)\n",
    "   * Cantidad de Arroz (a)\n",
    "   * Cantidad de Trigo (t)\n",
    "   * Cantidad de Gel(g)\n",
    "3. Función de costo\n",
    "   * Costo(p,ca,co,a,t,g)= 0.012p+0.009ca+0.010co+0.003a+0.005t+0.002g\n",
    "4. Información adicional (restricciones)\n",
    "   * Gramos totales = 100g \n",
    "   * $ Proteína \\geq 9g $\n",
    "     \n",
    "$ 0.10p+0.20ca+0.15co+0.04t \\geq 9g $\n",
    "     \n",
    "   * $ Grasa \\geq 7g $\n",
    "\n",
    "$ 0.08p+0.10ca+0.11co+0.01a+0.01t  \\geq 7g $\n",
    "\n",
    "   * $ Fibra \\leq 2.5g $\n",
    "\n",
    "$ 0.08p+0.10ca+0.11co+0.01a+0.01t  \\geq 7g $\n",
    "\n",
    "   * $ Sal \\leq 0.5 $\n",
    "\n",
    "$ 0.10p+0.20ca+0.15co+0.04t \\geq 9g $"
   ]
  },
  {
   "cell_type": "markdown",
   "id": "8c94a54c-1228-4d98-b316-7bd4116f7e2e",
   "metadata": {},
   "source": [
    "**Ejercicio 2**\n",
    "\n",
    "La Comisión Federal de Electricidad (CFE) dispone de cuatro plantas de generación para satisfacer la demanda diaria eléctrica en cuatro ciudades, Guadalajara, León y Morelia. Las plantas 1, 2 y 3 pueden satisfacer 75, 50 y 60 millones de kW al día respectivamente. Las necesidades de las ciudades de Guadalajara, León y Morelia son de 60, 45 y 60 millones de Kw al día respectivamente.\n",
    "\n",
    "Los costos asociados al envío de suministro energético por cada millón de kW entre cada planta y cada ciudad son los registrados en la siguiente tabla."
   ]
  },
  {
   "cell_type": "code",
   "execution_count": null,
   "id": "59c969b3-e855-4f72-8340-2d3e9ee31bfb",
   "metadata": {},
   "outputs": [],
   "source": []
  }
 ],
 "metadata": {
  "kernelspec": {
   "display_name": "Python 3 (ipykernel)",
   "language": "python",
   "name": "python3"
  },
  "language_info": {
   "codemirror_mode": {
    "name": "ipython",
    "version": 3
   },
   "file_extension": ".py",
   "mimetype": "text/x-python",
   "name": "python",
   "nbconvert_exporter": "python",
   "pygments_lexer": "ipython3",
   "version": "3.12.4"
  }
 },
 "nbformat": 4,
 "nbformat_minor": 5
}
