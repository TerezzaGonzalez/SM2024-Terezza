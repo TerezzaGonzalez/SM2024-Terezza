{
 "cells": [
  {
   "cell_type": "markdown",
   "id": "28086fca-2cdd-41ac-b7bf-bc1af9f759a2",
   "metadata": {},
   "source": [
    "# Laboratorio: Métodos de búsqueda"
   ]
  },
  {
   "cell_type": "markdown",
   "id": "9e19abc1-82f0-4f28-9493-468e4227c14f",
   "metadata": {},
   "source": [
    "En las clases anteriores creaste códigos para realizar búsquedas aleatorias (Simulated Annealing) y búsquedas dirigidas (Optimización Bayesiana). Estos métodos de búsqueda se utilizan para facilitar el proceso de optimización de funciones objetivos compleja y costosas de computar."
   ]
  },
  {
   "cell_type": "markdown",
   "id": "038474ce-6e2f-4d45-895a-bb17f7c8871d",
   "metadata": {},
   "source": [
    "En este laboratorio usaremos el dataset de los diferentes tipos de iris, y sus longitudes y anchos de pétalos y sépalos. Utilizaremos un RandomForest para crear un modelo de clasificación y el métrico F1 para decidir cuál es el mejor modelo de acuerdo a lo que tenemos disponible."
   ]
  },
  {
   "cell_type": "markdown",
   "id": "c04956ea-14f4-419e-adf8-add3b81da443",
   "metadata": {},
   "source": [
    "1. Carga el dataset de Iris"
   ]
  },
  {
   "cell_type": "code",
   "execution_count": 3,
   "id": "aad912f2-1359-437e-af68-3c8cca8d1b03",
   "metadata": {},
   "outputs": [],
   "source": [
    "from sklearn import datasets\n",
    "X, y = datasets.load_iris(return_X_y=True)"
   ]
  },
  {
   "cell_type": "markdown",
   "id": "9b97ad91-d82b-491c-ac5d-be6f872c5334",
   "metadata": {},
   "source": [
    "2. Importa el archivo `Bosque.py`.\n",
    "\n",
    "Este archivo contiene la función `RegresionBosque`, que recibe:\n",
    "- X: las características independientes\n",
    "- y: la variable de respuesta\n",
    "- árboles: cantidad total de árboles\n",
    "- profundidad de bosque: niveles de profundidad del bosque\n",
    "\n",
    "Su salida es:\n",
    "- modelo: El objeto con el modelo ajustado\n",
    "- f1: El métrico que califica qué tan bueno es el modelo que se ajustó.\n"
   ]
  },
  {
   "cell_type": "code",
   "execution_count": 6,
   "id": "23f875f1-a72a-4a57-8355-16d6bb9fb33a",
   "metadata": {},
   "outputs": [
    {
     "data": {
      "text/plain": [
       "0.9444444444444444"
      ]
     },
     "execution_count": 6,
     "metadata": {},
     "output_type": "execute_result"
    }
   ],
   "source": [
    "import Bosque\n",
    "modelo, f1 = Bosque.RegresionBosque(X, y, 10, 3)\n",
    "f1"
   ]
  },
  {
   "cell_type": "markdown",
   "id": "15ac2825-33ac-4919-9ccb-8324701ce99f",
   "metadata": {},
   "source": [
    "### Actividad 1:"
   ]
  },
  {
   "cell_type": "markdown",
   "id": "a8eb265f-9ccf-4fb4-b8c0-8fe221ea534c",
   "metadata": {},
   "source": [
    "Inicializa un espacio con 5 muestras en nuestro dominio de variables independientes:\n",
    "- árboles: números enteros entre 5 y 50.\n",
    "- profundidad: números enteros entre 2 y 10"
   ]
  },
  {
   "cell_type": "markdown",
   "id": "1ed7c396-af97-49a6-828e-c5d63c1b6999",
   "metadata": {},
   "source": [
    "Utiliza optimización Bayesiana para encontrar la combinación de árboles y profundidad que **maximice** el métrico F1."
   ]
  },
  {
   "cell_type": "code",
   "execution_count": 11,
   "id": "1e563392-4509-4d70-9cb6-adca944d2406",
   "metadata": {},
   "outputs": [
    {
     "data": {
      "text/plain": [
       "(array([14, 41, 20,  5, 33]), array([ 2,  3, 10,  2, 10]))"
      ]
     },
     "execution_count": 11,
     "metadata": {},
     "output_type": "execute_result"
    },
    {
     "data": {
      "image/png": "[encoded data removed]",
      "text/plain": [
       "<Figure size 640x480 with 1 Axes>"
      ]
     },
     "metadata": {},
     "output_type": "display_data"
    }
   ],
   "source": [
    "import matplotlib.pyplot as plt\n",
    "import numpy as np\n",
    "\n",
    "np.random.seed(10)\n",
    "arboles=np.random.randint(5,51,5)\n",
    "profundidad=np.random.randint(2,11,5)\n",
    "#x = np.random.uniform(np.pi, np.pi, 5).reshape([-1, 1])\n",
    "plt.figure(); plt.scatter(arboles, profundidad, plt.grid())\n",
    "#plt.figure(); plt.scatter(profundidad, arboles, plt.grid())\n",
    "arboles,profundidad"
   ]
  },
  {
   "cell_type": "code",
   "execution_count": 13,
   "id": "1ac64678-d430-4be1-ba1b-6592ea5f78ba",
   "metadata": {},
   "outputs": [
    {
     "data": {
      "text/plain": [
       "[(RandomForestClassifier(max_depth=5, n_estimators=41), 0.9555555555555556),\n",
       " (RandomForestClassifier(max_depth=10, n_estimators=16), 0.9555555555555556),\n",
       " (RandomForestClassifier(max_depth=10, n_estimators=37), 0.9444444444444444),\n",
       " (RandomForestClassifier(max_depth=4, n_estimators=38), 0.9555555555555556),\n",
       " (RandomForestClassifier(max_depth=2, n_estimators=21), 0.9333333333333333)]"
      ]
     },
     "execution_count": 13,
     "metadata": {},
     "output_type": "execute_result"
    }
   ],
   "source": [
    "combinacion=[]\n",
    "def optimizar(X,y,arboles, profundidad):\n",
    "    return Bosque.RegresionBosque(X, y, arboles, profundidad)\n",
    "for i in range (5):\n",
    "    arboles=np.random.randint(5,51)\n",
    "    profundidad=np.random.randint(2,11)\n",
    "    valor=optimizar(X,y,arboles, profundidad)\n",
    "    combinacion.append(valor)\n",
    "combinacion"
   ]
  },
  {
   "cell_type": "code",
   "execution_count": 15,
   "id": "c01e48e6-61ec-43f2-bea3-af0a321db2be",
   "metadata": {},
   "outputs": [
    {
     "ename": "TypeError",
     "evalue": "'numpy.float64' object is not callable",
     "output_type": "error",
     "traceback": [
      "\u001b[1;31m---------------------------------------------------------------------------\u001b[0m",
      "\u001b[1;31mTypeError\u001b[0m                                 Traceback (most recent call last)",
      "Cell \u001b[1;32mIn[15], line 8\u001b[0m\n\u001b[0;32m      6\u001b[0m     arboles \u001b[38;5;241m=\u001b[39m np\u001b[38;5;241m.\u001b[39mrandom\u001b[38;5;241m.\u001b[39mrandint(\u001b[38;5;241m5\u001b[39m, \u001b[38;5;241m51\u001b[39m)\n\u001b[0;32m      7\u001b[0m     profundidad \u001b[38;5;241m=\u001b[39m np\u001b[38;5;241m.\u001b[39mrandom\u001b[38;5;241m.\u001b[39mrandint(\u001b[38;5;241m2\u001b[39m, \u001b[38;5;241m11\u001b[39m)\n\u001b[1;32m----> 8\u001b[0m     valor \u001b[38;5;241m=\u001b[39m f1(X,y,arboles, profundidad)  \u001b[38;5;66;03m# Llama a la función f1\u001b[39;00m\n\u001b[0;32m      9\u001b[0m     combinacion\u001b[38;5;241m.\u001b[39mappend(valor)\n\u001b[0;32m     11\u001b[0m mejor_combinacion \u001b[38;5;241m=\u001b[39m \u001b[38;5;28mmax\u001b[39m(combinaciones, key\u001b[38;5;241m=\u001b[39m\u001b[38;5;28;01mlambda\u001b[39;00m x: x[\u001b[38;5;241m2\u001b[39m])\n",
      "\u001b[1;31mTypeError\u001b[0m: 'numpy.float64' object is not callable"
     ]
    }
   ],
   "source": [
    "def optimizar(X,y):\n",
    "    return Bosque.RegresionBosque(X,y)\n",
    "\n",
    "combinacion = []\n",
    "for i in range(5):\n",
    "    arboles = np.random.randint(5, 51)\n",
    "    profundidad = np.random.randint(2, 11)\n",
    "    valor = f1(X,y,arboles, profundidad)  # Llama a la función f1\n",
    "    combinacion.append(valor)\n",
    "\n",
    "mejor_combinacion = max(combinaciones, key=lambda x: x[2])\n",
    "mejor_combinacion"
   ]
  },
  {
   "cell_type": "markdown",
   "id": "5e083a3c-fa68-4942-b5d3-f1f7130b4fbb",
   "metadata": {},
   "source": [
    "### Actividad 2:"
   ]
  },
  {
   "cell_type": "markdown",
   "id": "2817a47c-0081-4376-b222-c65735f4ab9d",
   "metadata": {},
   "source": [
    "Inicializa 2 vectores con posibles valores para las variables independientes:\n",
    "- árboles: números enteros entre 5 y 50\n",
    "- profundidad: números enteros entre 2 y 10\n",
    "\n",
    "Utiliza el algoritmo de Simulated Annealing que siga el siguiente orden:\n",
    "- Elige un punto de partida para las variables.\n",
    "- Selecciona al azar una de las dos para modificarlas.\n",
    "- Selecciona un elemento al azar de la lista que contiene los posibles valores de esa variable.\n",
    "- Sigue el algoritmo ($p$ y $q$) para decidir si usas esa combinación nueva o si mantienes la anterior."
   ]
  },
  {
   "cell_type": "code",
   "execution_count": null,
   "id": "e6286fe8-ec56-4871-9c31-8d4d3ca4c0ae",
   "metadata": {},
   "outputs": [],
   "source": [
    "import numpy as np\n",
    "import random\n",
    "from sklearn import datasets\n",
    "from sklearn.model_selection import train_test_split\n",
    "from sklearn.metrics import f1_score\n",
    "from sklearn.ensemble import RandomForestClassifier\n",
    "\n",
    "np.random.seed(10)\n",
    "arboles=np.random.randint(5,51)\n",
    "profundidad=np.random.randint(2,11)\n",
    "\n",
    "def calcular_f1(arboles, profundidad):\n",
    "    modelo = RandomForestClassifier(n_estimators=arboles, max_depth=profundidad)\n",
    "    X_train, X_test, y_train, y_test = train_test_split(X, y, test_size=0.60, random_state=10)\n",
    "    modelo.fit(X_train, y_train)\n",
    "    predicciones = modelo.predict(X_test)\n",
    "    return f1_score(y_test, predicciones, average=\"micro\")\n",
    "\n",
    "def simulated_annealing():\n",
    "    arboles_actual = random.choice(arboles_posibles)\n",
    "    profundidad_actual = random.choice(profundidad_posibles)\n",
    "    f1_actual = calcular_f1(arboles_actual, profundidad_actual)\n",
    "    temperatura = 1.0\n",
    "    temperatura_minima = 0.01\n",
    "    enfriamiento = 0.99\n",
    "    \n",
    "    while temperatura > temperatura_minima:\n",
    "        if random.choice([True, False]):  # True para árboles, False para profundidad\n",
    "            nueva_variable = 'arboles'\n",
    "            nuevo_valor = random.choice(arboles_posibles)\n",
    "        else:\n",
    "            nueva_variable = 'profundidad'\n",
    "            nuevo_valor = random.choice(profundidad_posibles)\n",
    "\n",
    "        # Crear nuevas combinaciones\n",
    "        if nueva_variable == 'arboles':\n",
    "            arboles_nuevo = nuevo_valor\n",
    "            profundidad_nueva = profundidad_actual\n",
    "        else:\n",
    "            arboles_nuevo = arboles_actual\n",
    "            profundidad_nueva = nuevo_valor\n",
    "        \n",
    "   \n",
    "        f1_nuevo = calcular_f1(arboles_nuevo, profundidad_nueva)\n",
    "        delta_f1 = f1_nuevo - f1_actual\n",
    "        \n",
    "        if delta_f1 > 0 or np.exp(delta_f1 / temperatura) > random.random():\n",
    "            arboles_actual = arboles_nuevo\n",
    "            profundidad_actual = profundidad_nueva\n",
    "            f1_actual = f1_nuevo\n",
    "        \n",
    "        temperatura *= enfriamiento\n",
    "    return arboles_actual, profundidad_actual, f1_actual\n",
    "\n",
    "\n",
    "mejor_arboles, mejor_profundidad, mejor_f1 "
   ]
  },
  {
   "cell_type": "code",
   "execution_count": null,
   "id": "239fa243-bd6d-4ec4-860a-2eae65cea710",
   "metadata": {},
   "outputs": [],
   "source": [
    "import numpy as np\n",
    "import Bosque\n",
    "from sklearn import datasets\n",
    "\n",
    "arboles = np.arange(5, 51)  # Valores posibles para 'árboles'\n",
    "profundidad = np.arange(2, 11)  # Valores posibles para 'profundidad'\n",
    "\n",
    "np.random.seed(10)\n",
    "arboles_actual = np.random.choice(arboles)\n",
    "profundidad_actual = np.random.choice(profundidad)\n",
    "T_inicial = 1000  # Temperatura inicial\n",
    "T_final = 1  # Temperatura final\n",
    "alpha = 0.85  # Factor de enfriamiento\n",
    "\n",
    "modelo, f1_actual = Bosque.RegresionBosque(X, y, arboles_actual, profundidad_actual)\n",
    "T = T_inicial\n",
    "historial_f1 = []\n",
    "\n",
    "for i in range(30):\n",
    "    if T < T_final:\n",
    "        break\n",
    "\n",
    "    variables = np.random.choice([0, 1])\n",
    "    if variables == 0:\n",
    "        nuevo_arboles = np.random.choice(arboles)\n",
    "        nuevo_profundidad = profundidad_actual\n",
    "    else:\n",
    "        nuevo_arboles = arboles_actual\n",
    "        nuevo_profundidad = np.random.choice(profundidad)\n",
    "\n",
    "    modelo, f1_nueva = Bosque.RegresionBosque(X, y, nuevo_arboles, nuevo_profundidad)\n",
    "    delta_f1 = f1_nueva - f1_actual\n",
    "\n",
    " \n",
    "    if delta_f1 > 0:\n",
    "        # Aceptamos si la nueva combinación es mejor\n",
    "        arboles_actual = nuevo_arboles\n",
    "        profundidad_actual = nuevo_profundidad\n",
    "        f1_actual = f1_nueva\n",
    "    else:\n",
    "        p = np.exp(delta_f1 / T)\n",
    "        if np.random.rand() < p:\n",
    "            arboles_actual = nuevo_arboles\n",
    "            profundidad_actual = nuevo_profundidad\n",
    "            f1_actual = f1_nueva\n",
    "    T = T * alpha\n",
    "    historial_f1.append(f1_actual)\n",
    "\n",
    "arboles_actual,profundidad_actual,f1_actual"
   ]
  },
  {
   "cell_type": "code",
   "execution_count": null,
   "id": "00442559-60d2-440a-9ba0-5217ea775ac7",
   "metadata": {},
   "outputs": [],
   "source": []
  }
 ],
 "metadata": {
  "kernelspec": {
   "display_name": "Python 3 (ipykernel)",
   "language": "python",
   "name": "python3"
  },
  "language_info": {
   "codemirror_mode": {
    "name": "ipython",
    "version": 3
   },
   "file_extension": ".py",
   "mimetype": "text/x-python",
   "name": "python",
   "nbconvert_exporter": "python",
   "pygments_lexer": "ipython3",
   "version": "3.12.4"
  }
 },
 "nbformat": 4,
 "nbformat_minor": 5
}
