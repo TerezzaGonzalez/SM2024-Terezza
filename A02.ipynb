{
 "cells": [
  {
   "cell_type": "markdown",
   "id": "cbca7bc4-0598-477b-9a69-efc673bd4eac",
   "metadata": {},
   "source": [
    "# Actividad"
   ]
  },
  {
   "cell_type": "markdown",
   "id": "9cb36fc7-a3d3-456e-b110-0ce97ecfc59c",
   "metadata": {},
   "source": [
    "1. Pasar a función el código de encontrar un número primo que retorne True si sí es primo y False si no."
   ]
  },
  {
   "cell_type": "markdown",
   "id": "c31c1549-27bc-47ac-87f8-e4c9da0fee04",
   "metadata": {},
   "source": [
    "$$ esprimo(a) $$"
   ]
  },
  {
   "cell_type": "code",
   "execution_count": 43,
   "id": "ee6cfbd4-669e-4da2-b515-700b1b151817",
   "metadata": {},
   "outputs": [
    {
     "ename": "IndentationError",
     "evalue": "expected an indented block after 'if' statement on line 2 (215443716.py, line 3)",
     "output_type": "error",
     "traceback": [
      "\u001b[1;36m  Cell \u001b[1;32mIn[43], line 3\u001b[1;36m\u001b[0m\n\u001b[1;33m    print(f\"{a} no es un número primo.\")\u001b[0m\n\u001b[1;37m    ^\u001b[0m\n\u001b[1;31mIndentationError\u001b[0m\u001b[1;31m:\u001b[0m expected an indented block after 'if' statement on line 2\n"
     ]
    }
   ],
   "source": [
    "def esprimo(a):\n",
    "        if a <= 1:\n",
    "        print(f\"{a} no es un número primo.\")\n",
    "        else:\n",
    "            es_primo = True \n",
    "            for i in range(2, int(a**0.5) + 1):\n",
    "                if a % i == 0:\n",
    "                    es_primo = False  \n",
    "                    break  \n",
    "    \n",
    "            if es_primo:\n",
    "                print(f\"{a} es un número primo.\")\n",
    "            else:\n",
    "                print(f\"{a} no es un número primo.\")\n",
    "\n",
    "esprimo(7)"
   ]
  },
  {
   "cell_type": "code",
   "execution_count": null,
   "id": "58908637-d49f-4d26-b011-1e1dcac9f0c8",
   "metadata": {},
   "outputs": [],
   "source": []
  },
  {
   "cell_type": "markdown",
   "id": "c0d96d81-e21e-4fe7-ba45-a044c4232425",
   "metadata": {},
   "source": [
    "2. Crear una función que ingrese un número a y que encuentre el número primo más cercano. Usa la funci[on creada en el punto 1."
   ]
  },
  {
   "cell_type": "markdown",
   "id": "c5a25abd-2aba-45e1-99db-bb69b23d9175",
   "metadata": {},
   "source": [
    "$$ 0 =< a =< 100 $$"
   ]
  },
  {
   "cell_type": "code",
   "execution_count": null,
   "id": "b22f7716-7c99-4ca7-84ab-92387c6fd38b",
   "metadata": {},
   "outputs": [],
   "source": [
    "#Diagrama"
   ]
  },
  {
   "cell_type": "code",
   "execution_count": null,
   "id": "88eea641-96f5-4622-b976-aa9c7be456f1",
   "metadata": {},
   "outputs": [],
   "source": []
  },
  {
   "cell_type": "markdown",
   "id": "11142ddf-9cfc-4842-ada8-c5cfbba24da3",
   "metadata": {},
   "source": [
    "3. Pasar a función el código de encontrar factorial de los siguentes números:"
   ]
  },
  {
   "cell_type": "markdown",
   "id": "4a066e7a-9cbe-46a8-9e95-7a9b2ae06664",
   "metadata": {},
   "source": [
    "* 4\n",
    "* 7\n",
    "* 5\n",
    "* 8\n",
    "* 9\n",
    "* 3"
   ]
  },
  {
   "cell_type": "code",
   "execution_count": 28,
   "id": "d48fd3a5-9c61-4921-be8e-72a72cf8a73d",
   "metadata": {},
   "outputs": [],
   "source": [
    "Lista2 = [4,7,5,8,9,3]"
   ]
  },
  {
   "cell_type": "code",
   "execution_count": 30,
   "id": "59061380-00fc-46be-89d6-918eec995d26",
   "metadata": {},
   "outputs": [
    {
     "data": {
      "text/plain": [
       "120"
      ]
     },
     "execution_count": 30,
     "metadata": {},
     "output_type": "execute_result"
    }
   ],
   "source": [
    "def factorial(a):\n",
    "    i=1\n",
    "    acc=1\n",
    "    while i<=a:\n",
    "        acc=acc*i\n",
    "        i+=1\n",
    "    return acc\n",
    "factorial(5)"
   ]
  },
  {
   "cell_type": "code",
   "execution_count": 32,
   "id": "a529a17e-7505-46f6-ba55-948d045d0ac3",
   "metadata": {},
   "outputs": [
    {
     "name": "stdout",
     "output_type": "stream",
     "text": [
      "24\n",
      "5040\n",
      "120\n",
      "40320\n",
      "362880\n",
      "6\n"
     ]
    }
   ],
   "source": [
    "for elemento in Lista2 :\n",
    "    print (factorial(elemento))"
   ]
  },
  {
   "cell_type": "markdown",
   "id": "c263dfad-31f8-4e2f-b2a5-a455ebb1629e",
   "metadata": {},
   "source": [
    "4. Crear una lista con los primeros 100 múltiplos de 3."
   ]
  },
  {
   "cell_type": "code",
   "execution_count": 53,
   "id": "9c8ca71d-1728-47f7-acca-89457f794f8b",
   "metadata": {},
   "outputs": [
    {
     "name": "stdout",
     "output_type": "stream",
     "text": [
      "303\n"
     ]
    }
   ],
   "source": [
    "a=100\n",
    "i=0\n",
    "\n",
    "while(i<=a):\n",
    "    i+= 1\n",
    "    resultado= i*3\n",
    "\n",
    "print (resultado)"
   ]
  },
  {
   "cell_type": "code",
   "execution_count": null,
   "id": "5c4fd8bf-d15d-4dd8-b8df-97e13f94ba33",
   "metadata": {},
   "outputs": [],
   "source": []
  }
 ],
 "metadata": {
  "kernelspec": {
   "display_name": "Python 3 (ipykernel)",
   "language": "python",
   "name": "python3"
  },
  "language_info": {
   "codemirror_mode": {
    "name": "ipython",
    "version": 3
   },
   "file_extension": ".py",
   "mimetype": "text/x-python",
   "name": "python",
   "nbconvert_exporter": "python",
   "pygments_lexer": "ipython3",
   "version": "3.12.4"
  }
 },
 "nbformat": 4,
 "nbformat_minor": 5
}
